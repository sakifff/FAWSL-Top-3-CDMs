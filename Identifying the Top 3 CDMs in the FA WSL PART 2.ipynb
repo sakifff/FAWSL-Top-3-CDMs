{
 "cells": [
  {
   "cell_type": "markdown",
   "id": "a05c2022",
   "metadata": {},
   "source": [
    "# PART 2: DATA ANALYSIS AND VISUALIZATION"
   ]
  },
  {
   "cell_type": "markdown",
   "id": "d9ef59a4",
   "metadata": {},
   "source": [
    "## Imports"
   ]
  },
  {
   "cell_type": "code",
   "execution_count": 19,
   "id": "fff9fccf",
   "metadata": {},
   "outputs": [],
   "source": [
    "import pandas as pd\n",
    "import numpy as np\n",
    "import matplotlib.pyplot as plt\n",
    "import seaborn as sns\n",
    "import plotly.express as px"
   ]
  },
  {
   "cell_type": "markdown",
   "id": "df14dc70",
   "metadata": {},
   "source": [
    "# Reading in the dataframe"
   ]
  },
  {
   "cell_type": "code",
   "execution_count": 2,
   "id": "2c82e644",
   "metadata": {},
   "outputs": [
    {
     "data": {
      "text/html": [
       "<div>\n",
       "<style scoped>\n",
       "    .dataframe tbody tr th:only-of-type {\n",
       "        vertical-align: middle;\n",
       "    }\n",
       "\n",
       "    .dataframe tbody tr th {\n",
       "        vertical-align: top;\n",
       "    }\n",
       "\n",
       "    .dataframe thead th {\n",
       "        text-align: right;\n",
       "    }\n",
       "</style>\n",
       "<table border=\"1\" class=\"dataframe\">\n",
       "  <thead>\n",
       "    <tr style=\"text-align: right;\">\n",
       "      <th></th>\n",
       "      <th>player</th>\n",
       "      <th>passes</th>\n",
       "      <th>incomplete_passes</th>\n",
       "      <th>pass_accuracy</th>\n",
       "      <th>assists</th>\n",
       "      <th>interceptions</th>\n",
       "      <th>ints_per_match</th>\n",
       "      <th>recoveries</th>\n",
       "      <th>recs_per_match</th>\n",
       "      <th>dribbles</th>\n",
       "      <th>dribble_success_rate</th>\n",
       "      <th>duels</th>\n",
       "      <th>duel_success_rate</th>\n",
       "      <th>miscontrols</th>\n",
       "      <th>fouls</th>\n",
       "    </tr>\n",
       "  </thead>\n",
       "  <tbody>\n",
       "    <tr>\n",
       "      <th>0</th>\n",
       "      <td>Keira Walsh</td>\n",
       "      <td>1335</td>\n",
       "      <td>149</td>\n",
       "      <td>88.838951</td>\n",
       "      <td>2</td>\n",
       "      <td>24</td>\n",
       "      <td>1.846154</td>\n",
       "      <td>113</td>\n",
       "      <td>5.650000</td>\n",
       "      <td>33</td>\n",
       "      <td>54.545455</td>\n",
       "      <td>51</td>\n",
       "      <td>64.705882</td>\n",
       "      <td>18</td>\n",
       "      <td>15</td>\n",
       "    </tr>\n",
       "    <tr>\n",
       "      <th>1</th>\n",
       "      <td>Lia Wälti</td>\n",
       "      <td>1245</td>\n",
       "      <td>163</td>\n",
       "      <td>86.907631</td>\n",
       "      <td>1</td>\n",
       "      <td>22</td>\n",
       "      <td>1.692308</td>\n",
       "      <td>112</td>\n",
       "      <td>6.222222</td>\n",
       "      <td>28</td>\n",
       "      <td>85.714286</td>\n",
       "      <td>82</td>\n",
       "      <td>47.560976</td>\n",
       "      <td>10</td>\n",
       "      <td>10</td>\n",
       "    </tr>\n",
       "    <tr>\n",
       "      <th>2</th>\n",
       "      <td>Angharad James</td>\n",
       "      <td>1007</td>\n",
       "      <td>217</td>\n",
       "      <td>78.450844</td>\n",
       "      <td>1</td>\n",
       "      <td>52</td>\n",
       "      <td>2.888889</td>\n",
       "      <td>159</td>\n",
       "      <td>7.227273</td>\n",
       "      <td>26</td>\n",
       "      <td>61.538462</td>\n",
       "      <td>104</td>\n",
       "      <td>44.230769</td>\n",
       "      <td>20</td>\n",
       "      <td>15</td>\n",
       "    </tr>\n",
       "    <tr>\n",
       "      <th>3</th>\n",
       "      <td>Katie Zelem</td>\n",
       "      <td>946</td>\n",
       "      <td>195</td>\n",
       "      <td>79.386892</td>\n",
       "      <td>2</td>\n",
       "      <td>27</td>\n",
       "      <td>2.250000</td>\n",
       "      <td>126</td>\n",
       "      <td>7.411765</td>\n",
       "      <td>29</td>\n",
       "      <td>86.206897</td>\n",
       "      <td>57</td>\n",
       "      <td>47.368421</td>\n",
       "      <td>13</td>\n",
       "      <td>16</td>\n",
       "    </tr>\n",
       "    <tr>\n",
       "      <th>4</th>\n",
       "      <td>Melanie Leupolz</td>\n",
       "      <td>817</td>\n",
       "      <td>121</td>\n",
       "      <td>85.189718</td>\n",
       "      <td>0</td>\n",
       "      <td>22</td>\n",
       "      <td>2.000000</td>\n",
       "      <td>83</td>\n",
       "      <td>4.368421</td>\n",
       "      <td>15</td>\n",
       "      <td>86.666667</td>\n",
       "      <td>61</td>\n",
       "      <td>52.459016</td>\n",
       "      <td>26</td>\n",
       "      <td>35</td>\n",
       "    </tr>\n",
       "    <tr>\n",
       "      <th>5</th>\n",
       "      <td>Jessica Fishlock</td>\n",
       "      <td>763</td>\n",
       "      <td>177</td>\n",
       "      <td>76.802097</td>\n",
       "      <td>3</td>\n",
       "      <td>32</td>\n",
       "      <td>2.133333</td>\n",
       "      <td>146</td>\n",
       "      <td>7.684211</td>\n",
       "      <td>35</td>\n",
       "      <td>60.000000</td>\n",
       "      <td>63</td>\n",
       "      <td>49.206349</td>\n",
       "      <td>31</td>\n",
       "      <td>15</td>\n",
       "    </tr>\n",
       "    <tr>\n",
       "      <th>6</th>\n",
       "      <td>Sophie Louise Ingle</td>\n",
       "      <td>760</td>\n",
       "      <td>109</td>\n",
       "      <td>85.657895</td>\n",
       "      <td>1</td>\n",
       "      <td>15</td>\n",
       "      <td>2.142857</td>\n",
       "      <td>66</td>\n",
       "      <td>4.125000</td>\n",
       "      <td>6</td>\n",
       "      <td>83.333333</td>\n",
       "      <td>37</td>\n",
       "      <td>43.243243</td>\n",
       "      <td>6</td>\n",
       "      <td>23</td>\n",
       "    </tr>\n",
       "    <tr>\n",
       "      <th>7</th>\n",
       "      <td>Jackie Groenen</td>\n",
       "      <td>735</td>\n",
       "      <td>156</td>\n",
       "      <td>78.775510</td>\n",
       "      <td>3</td>\n",
       "      <td>17</td>\n",
       "      <td>1.545455</td>\n",
       "      <td>135</td>\n",
       "      <td>6.428571</td>\n",
       "      <td>38</td>\n",
       "      <td>71.052632</td>\n",
       "      <td>48</td>\n",
       "      <td>72.916667</td>\n",
       "      <td>29</td>\n",
       "      <td>20</td>\n",
       "    </tr>\n",
       "    <tr>\n",
       "      <th>8</th>\n",
       "      <td>Jill Scott</td>\n",
       "      <td>683</td>\n",
       "      <td>125</td>\n",
       "      <td>81.698389</td>\n",
       "      <td>1</td>\n",
       "      <td>19</td>\n",
       "      <td>2.375000</td>\n",
       "      <td>91</td>\n",
       "      <td>5.687500</td>\n",
       "      <td>31</td>\n",
       "      <td>67.741935</td>\n",
       "      <td>67</td>\n",
       "      <td>46.268657</td>\n",
       "      <td>29</td>\n",
       "      <td>10</td>\n",
       "    </tr>\n",
       "    <tr>\n",
       "      <th>9</th>\n",
       "      <td>Alanna Stephanie Kennedy</td>\n",
       "      <td>678</td>\n",
       "      <td>150</td>\n",
       "      <td>77.876106</td>\n",
       "      <td>0</td>\n",
       "      <td>26</td>\n",
       "      <td>2.363636</td>\n",
       "      <td>100</td>\n",
       "      <td>5.555556</td>\n",
       "      <td>30</td>\n",
       "      <td>76.666667</td>\n",
       "      <td>56</td>\n",
       "      <td>33.928571</td>\n",
       "      <td>37</td>\n",
       "      <td>18</td>\n",
       "    </tr>\n",
       "    <tr>\n",
       "      <th>10</th>\n",
       "      <td>Christie Murray</td>\n",
       "      <td>561</td>\n",
       "      <td>205</td>\n",
       "      <td>63.458111</td>\n",
       "      <td>0</td>\n",
       "      <td>23</td>\n",
       "      <td>2.090909</td>\n",
       "      <td>130</td>\n",
       "      <td>8.125000</td>\n",
       "      <td>19</td>\n",
       "      <td>78.947368</td>\n",
       "      <td>83</td>\n",
       "      <td>50.602410</td>\n",
       "      <td>13</td>\n",
       "      <td>9</td>\n",
       "    </tr>\n",
       "    <tr>\n",
       "      <th>11</th>\n",
       "      <td>Kate Longhurst</td>\n",
       "      <td>509</td>\n",
       "      <td>136</td>\n",
       "      <td>73.280943</td>\n",
       "      <td>1</td>\n",
       "      <td>16</td>\n",
       "      <td>1.454545</td>\n",
       "      <td>103</td>\n",
       "      <td>5.722222</td>\n",
       "      <td>15</td>\n",
       "      <td>60.000000</td>\n",
       "      <td>44</td>\n",
       "      <td>45.454545</td>\n",
       "      <td>15</td>\n",
       "      <td>23</td>\n",
       "    </tr>\n",
       "    <tr>\n",
       "      <th>12</th>\n",
       "      <td>Marisa Ewers</td>\n",
       "      <td>464</td>\n",
       "      <td>104</td>\n",
       "      <td>77.586207</td>\n",
       "      <td>0</td>\n",
       "      <td>39</td>\n",
       "      <td>2.437500</td>\n",
       "      <td>79</td>\n",
       "      <td>4.647059</td>\n",
       "      <td>16</td>\n",
       "      <td>43.750000</td>\n",
       "      <td>56</td>\n",
       "      <td>51.785714</td>\n",
       "      <td>12</td>\n",
       "      <td>17</td>\n",
       "    </tr>\n",
       "    <tr>\n",
       "      <th>13</th>\n",
       "      <td>Josie Green</td>\n",
       "      <td>366</td>\n",
       "      <td>82</td>\n",
       "      <td>77.595628</td>\n",
       "      <td>0</td>\n",
       "      <td>14</td>\n",
       "      <td>2.000000</td>\n",
       "      <td>86</td>\n",
       "      <td>6.142857</td>\n",
       "      <td>12</td>\n",
       "      <td>41.666667</td>\n",
       "      <td>40</td>\n",
       "      <td>32.500000</td>\n",
       "      <td>10</td>\n",
       "      <td>21</td>\n",
       "    </tr>\n",
       "  </tbody>\n",
       "</table>\n",
       "</div>"
      ],
      "text/plain": [
       "                      player  passes  incomplete_passes  pass_accuracy  \\\n",
       "0                Keira Walsh    1335                149      88.838951   \n",
       "1                  Lia Wälti    1245                163      86.907631   \n",
       "2             Angharad James    1007                217      78.450844   \n",
       "3                Katie Zelem     946                195      79.386892   \n",
       "4            Melanie Leupolz     817                121      85.189718   \n",
       "5           Jessica Fishlock     763                177      76.802097   \n",
       "6        Sophie Louise Ingle     760                109      85.657895   \n",
       "7             Jackie Groenen     735                156      78.775510   \n",
       "8                 Jill Scott     683                125      81.698389   \n",
       "9   Alanna Stephanie Kennedy     678                150      77.876106   \n",
       "10           Christie Murray     561                205      63.458111   \n",
       "11            Kate Longhurst     509                136      73.280943   \n",
       "12              Marisa Ewers     464                104      77.586207   \n",
       "13               Josie Green     366                 82      77.595628   \n",
       "\n",
       "    assists  interceptions  ints_per_match  recoveries  recs_per_match  \\\n",
       "0         2             24        1.846154         113        5.650000   \n",
       "1         1             22        1.692308         112        6.222222   \n",
       "2         1             52        2.888889         159        7.227273   \n",
       "3         2             27        2.250000         126        7.411765   \n",
       "4         0             22        2.000000          83        4.368421   \n",
       "5         3             32        2.133333         146        7.684211   \n",
       "6         1             15        2.142857          66        4.125000   \n",
       "7         3             17        1.545455         135        6.428571   \n",
       "8         1             19        2.375000          91        5.687500   \n",
       "9         0             26        2.363636         100        5.555556   \n",
       "10        0             23        2.090909         130        8.125000   \n",
       "11        1             16        1.454545         103        5.722222   \n",
       "12        0             39        2.437500          79        4.647059   \n",
       "13        0             14        2.000000          86        6.142857   \n",
       "\n",
       "    dribbles  dribble_success_rate  duels  duel_success_rate  miscontrols  \\\n",
       "0         33             54.545455     51          64.705882           18   \n",
       "1         28             85.714286     82          47.560976           10   \n",
       "2         26             61.538462    104          44.230769           20   \n",
       "3         29             86.206897     57          47.368421           13   \n",
       "4         15             86.666667     61          52.459016           26   \n",
       "5         35             60.000000     63          49.206349           31   \n",
       "6          6             83.333333     37          43.243243            6   \n",
       "7         38             71.052632     48          72.916667           29   \n",
       "8         31             67.741935     67          46.268657           29   \n",
       "9         30             76.666667     56          33.928571           37   \n",
       "10        19             78.947368     83          50.602410           13   \n",
       "11        15             60.000000     44          45.454545           15   \n",
       "12        16             43.750000     56          51.785714           12   \n",
       "13        12             41.666667     40          32.500000           10   \n",
       "\n",
       "    fouls  \n",
       "0      15  \n",
       "1      10  \n",
       "2      15  \n",
       "3      16  \n",
       "4      35  \n",
       "5      15  \n",
       "6      23  \n",
       "7      20  \n",
       "8      10  \n",
       "9      18  \n",
       "10      9  \n",
       "11     23  \n",
       "12     17  \n",
       "13     21  "
      ]
     },
     "execution_count": 2,
     "metadata": {},
     "output_type": "execute_result"
    }
   ],
   "source": [
    "players = pd.read_csv('FAWSL_CDM.csv')\n",
    "\n",
    "players"
   ]
  },
  {
   "cell_type": "markdown",
   "id": "9cfbc081",
   "metadata": {},
   "source": [
    "# Passing"
   ]
  },
  {
   "cell_type": "code",
   "execution_count": 17,
   "id": "67e6676f",
   "metadata": {},
   "outputs": [
    {
     "data": {
      "application/vnd.plotly.v1+json": {
       "config": {
        "plotlyServerURL": "https://plot.ly"
       },
       "data": [
        {
         "hovertemplate": "player=Keira Walsh<br>pass_accuracy=%{x}<br>assists=%{y}<br>passes=%{marker.size}<extra></extra>",
         "legendgroup": "Keira Walsh",
         "marker": {
          "color": "#636efa",
          "size": [
           1335
          ],
          "sizemode": "area",
          "sizeref": 3.3375,
          "symbol": "circle"
         },
         "mode": "markers",
         "name": "Keira Walsh",
         "orientation": "v",
         "showlegend": true,
         "type": "scatter",
         "x": [
          88.83895131086142
         ],
         "xaxis": "x",
         "y": [
          2
         ],
         "yaxis": "y"
        },
        {
         "hovertemplate": "player=Lia Wälti<br>pass_accuracy=%{x}<br>assists=%{y}<br>passes=%{marker.size}<extra></extra>",
         "legendgroup": "Lia Wälti",
         "marker": {
          "color": "#EF553B",
          "size": [
           1245
          ],
          "sizemode": "area",
          "sizeref": 3.3375,
          "symbol": "circle"
         },
         "mode": "markers",
         "name": "Lia Wälti",
         "orientation": "v",
         "showlegend": true,
         "type": "scatter",
         "x": [
          86.90763052208834
         ],
         "xaxis": "x",
         "y": [
          1
         ],
         "yaxis": "y"
        },
        {
         "hovertemplate": "player=Angharad James<br>pass_accuracy=%{x}<br>assists=%{y}<br>passes=%{marker.size}<extra></extra>",
         "legendgroup": "Angharad James",
         "marker": {
          "color": "#00cc96",
          "size": [
           1007
          ],
          "sizemode": "area",
          "sizeref": 3.3375,
          "symbol": "circle"
         },
         "mode": "markers",
         "name": "Angharad James",
         "orientation": "v",
         "showlegend": true,
         "type": "scatter",
         "x": [
          78.45084409136047
         ],
         "xaxis": "x",
         "y": [
          1
         ],
         "yaxis": "y"
        },
        {
         "hovertemplate": "player=Katie Zelem<br>pass_accuracy=%{x}<br>assists=%{y}<br>passes=%{marker.size}<extra></extra>",
         "legendgroup": "Katie Zelem",
         "marker": {
          "color": "#ab63fa",
          "size": [
           946
          ],
          "sizemode": "area",
          "sizeref": 3.3375,
          "symbol": "circle"
         },
         "mode": "markers",
         "name": "Katie Zelem",
         "orientation": "v",
         "showlegend": true,
         "type": "scatter",
         "x": [
          79.38689217758986
         ],
         "xaxis": "x",
         "y": [
          2
         ],
         "yaxis": "y"
        },
        {
         "hovertemplate": "player=Melanie Leupolz<br>pass_accuracy=%{x}<br>assists=%{y}<br>passes=%{marker.size}<extra></extra>",
         "legendgroup": "Melanie Leupolz",
         "marker": {
          "color": "#FFA15A",
          "size": [
           817
          ],
          "sizemode": "area",
          "sizeref": 3.3375,
          "symbol": "circle"
         },
         "mode": "markers",
         "name": "Melanie Leupolz",
         "orientation": "v",
         "showlegend": true,
         "type": "scatter",
         "x": [
          85.18971848225216
         ],
         "xaxis": "x",
         "y": [
          0
         ],
         "yaxis": "y"
        },
        {
         "hovertemplate": "player=Jessica Fishlock<br>pass_accuracy=%{x}<br>assists=%{y}<br>passes=%{marker.size}<extra></extra>",
         "legendgroup": "Jessica Fishlock",
         "marker": {
          "color": "#19d3f3",
          "size": [
           763
          ],
          "sizemode": "area",
          "sizeref": 3.3375,
          "symbol": "circle"
         },
         "mode": "markers",
         "name": "Jessica Fishlock",
         "orientation": "v",
         "showlegend": true,
         "type": "scatter",
         "x": [
          76.80209698558322
         ],
         "xaxis": "x",
         "y": [
          3
         ],
         "yaxis": "y"
        },
        {
         "hovertemplate": "player=Sophie Louise Ingle<br>pass_accuracy=%{x}<br>assists=%{y}<br>passes=%{marker.size}<extra></extra>",
         "legendgroup": "Sophie Louise Ingle",
         "marker": {
          "color": "#FF6692",
          "size": [
           760
          ],
          "sizemode": "area",
          "sizeref": 3.3375,
          "symbol": "circle"
         },
         "mode": "markers",
         "name": "Sophie Louise Ingle",
         "orientation": "v",
         "showlegend": true,
         "type": "scatter",
         "x": [
          85.65789473684211
         ],
         "xaxis": "x",
         "y": [
          1
         ],
         "yaxis": "y"
        },
        {
         "hovertemplate": "player=Jackie Groenen<br>pass_accuracy=%{x}<br>assists=%{y}<br>passes=%{marker.size}<extra></extra>",
         "legendgroup": "Jackie Groenen",
         "marker": {
          "color": "#B6E880",
          "size": [
           735
          ],
          "sizemode": "area",
          "sizeref": 3.3375,
          "symbol": "circle"
         },
         "mode": "markers",
         "name": "Jackie Groenen",
         "orientation": "v",
         "showlegend": true,
         "type": "scatter",
         "x": [
          78.77551020408163
         ],
         "xaxis": "x",
         "y": [
          3
         ],
         "yaxis": "y"
        },
        {
         "hovertemplate": "player=Jill Scott<br>pass_accuracy=%{x}<br>assists=%{y}<br>passes=%{marker.size}<extra></extra>",
         "legendgroup": "Jill Scott",
         "marker": {
          "color": "#FF97FF",
          "size": [
           683
          ],
          "sizemode": "area",
          "sizeref": 3.3375,
          "symbol": "circle"
         },
         "mode": "markers",
         "name": "Jill Scott",
         "orientation": "v",
         "showlegend": true,
         "type": "scatter",
         "x": [
          81.69838945827232
         ],
         "xaxis": "x",
         "y": [
          1
         ],
         "yaxis": "y"
        },
        {
         "hovertemplate": "player=Alanna Stephanie Kennedy<br>pass_accuracy=%{x}<br>assists=%{y}<br>passes=%{marker.size}<extra></extra>",
         "legendgroup": "Alanna Stephanie Kennedy",
         "marker": {
          "color": "#FECB52",
          "size": [
           678
          ],
          "sizemode": "area",
          "sizeref": 3.3375,
          "symbol": "circle"
         },
         "mode": "markers",
         "name": "Alanna Stephanie Kennedy",
         "orientation": "v",
         "showlegend": true,
         "type": "scatter",
         "x": [
          77.87610619469027
         ],
         "xaxis": "x",
         "y": [
          0
         ],
         "yaxis": "y"
        },
        {
         "hovertemplate": "player=Christie Murray<br>pass_accuracy=%{x}<br>assists=%{y}<br>passes=%{marker.size}<extra></extra>",
         "legendgroup": "Christie Murray",
         "marker": {
          "color": "#636efa",
          "size": [
           561
          ],
          "sizemode": "area",
          "sizeref": 3.3375,
          "symbol": "circle"
         },
         "mode": "markers",
         "name": "Christie Murray",
         "orientation": "v",
         "showlegend": true,
         "type": "scatter",
         "x": [
          63.45811051693404
         ],
         "xaxis": "x",
         "y": [
          0
         ],
         "yaxis": "y"
        },
        {
         "hovertemplate": "player=Kate Longhurst<br>pass_accuracy=%{x}<br>assists=%{y}<br>passes=%{marker.size}<extra></extra>",
         "legendgroup": "Kate Longhurst",
         "marker": {
          "color": "#EF553B",
          "size": [
           509
          ],
          "sizemode": "area",
          "sizeref": 3.3375,
          "symbol": "circle"
         },
         "mode": "markers",
         "name": "Kate Longhurst",
         "orientation": "v",
         "showlegend": true,
         "type": "scatter",
         "x": [
          73.28094302554027
         ],
         "xaxis": "x",
         "y": [
          1
         ],
         "yaxis": "y"
        },
        {
         "hovertemplate": "player=Marisa Ewers<br>pass_accuracy=%{x}<br>assists=%{y}<br>passes=%{marker.size}<extra></extra>",
         "legendgroup": "Marisa Ewers",
         "marker": {
          "color": "#00cc96",
          "size": [
           464
          ],
          "sizemode": "area",
          "sizeref": 3.3375,
          "symbol": "circle"
         },
         "mode": "markers",
         "name": "Marisa Ewers",
         "orientation": "v",
         "showlegend": true,
         "type": "scatter",
         "x": [
          77.58620689655173
         ],
         "xaxis": "x",
         "y": [
          0
         ],
         "yaxis": "y"
        },
        {
         "hovertemplate": "player=Josie Green<br>pass_accuracy=%{x}<br>assists=%{y}<br>passes=%{marker.size}<extra></extra>",
         "legendgroup": "Josie Green",
         "marker": {
          "color": "#ab63fa",
          "size": [
           366
          ],
          "sizemode": "area",
          "sizeref": 3.3375,
          "symbol": "circle"
         },
         "mode": "markers",
         "name": "Josie Green",
         "orientation": "v",
         "showlegend": true,
         "type": "scatter",
         "x": [
          77.59562841530055
         ],
         "xaxis": "x",
         "y": [
          0
         ],
         "yaxis": "y"
        }
       ],
       "layout": {
        "legend": {
         "itemsizing": "constant",
         "title": {
          "text": "player"
         },
         "tracegroupgap": 0
        },
        "margin": {
         "t": 60
        },
        "template": {
         "data": {
          "bar": [
           {
            "error_x": {
             "color": "#2a3f5f"
            },
            "error_y": {
             "color": "#2a3f5f"
            },
            "marker": {
             "line": {
              "color": "#E5ECF6",
              "width": 0.5
             }
            },
            "type": "bar"
           }
          ],
          "barpolar": [
           {
            "marker": {
             "line": {
              "color": "#E5ECF6",
              "width": 0.5
             }
            },
            "type": "barpolar"
           }
          ],
          "carpet": [
           {
            "aaxis": {
             "endlinecolor": "#2a3f5f",
             "gridcolor": "white",
             "linecolor": "white",
             "minorgridcolor": "white",
             "startlinecolor": "#2a3f5f"
            },
            "baxis": {
             "endlinecolor": "#2a3f5f",
             "gridcolor": "white",
             "linecolor": "white",
             "minorgridcolor": "white",
             "startlinecolor": "#2a3f5f"
            },
            "type": "carpet"
           }
          ],
          "choropleth": [
           {
            "colorbar": {
             "outlinewidth": 0,
             "ticks": ""
            },
            "type": "choropleth"
           }
          ],
          "contour": [
           {
            "colorbar": {
             "outlinewidth": 0,
             "ticks": ""
            },
            "colorscale": [
             [
              0,
              "#0d0887"
             ],
             [
              0.1111111111111111,
              "#46039f"
             ],
             [
              0.2222222222222222,
              "#7201a8"
             ],
             [
              0.3333333333333333,
              "#9c179e"
             ],
             [
              0.4444444444444444,
              "#bd3786"
             ],
             [
              0.5555555555555556,
              "#d8576b"
             ],
             [
              0.6666666666666666,
              "#ed7953"
             ],
             [
              0.7777777777777778,
              "#fb9f3a"
             ],
             [
              0.8888888888888888,
              "#fdca26"
             ],
             [
              1,
              "#f0f921"
             ]
            ],
            "type": "contour"
           }
          ],
          "contourcarpet": [
           {
            "colorbar": {
             "outlinewidth": 0,
             "ticks": ""
            },
            "type": "contourcarpet"
           }
          ],
          "heatmap": [
           {
            "colorbar": {
             "outlinewidth": 0,
             "ticks": ""
            },
            "colorscale": [
             [
              0,
              "#0d0887"
             ],
             [
              0.1111111111111111,
              "#46039f"
             ],
             [
              0.2222222222222222,
              "#7201a8"
             ],
             [
              0.3333333333333333,
              "#9c179e"
             ],
             [
              0.4444444444444444,
              "#bd3786"
             ],
             [
              0.5555555555555556,
              "#d8576b"
             ],
             [
              0.6666666666666666,
              "#ed7953"
             ],
             [
              0.7777777777777778,
              "#fb9f3a"
             ],
             [
              0.8888888888888888,
              "#fdca26"
             ],
             [
              1,
              "#f0f921"
             ]
            ],
            "type": "heatmap"
           }
          ],
          "heatmapgl": [
           {
            "colorbar": {
             "outlinewidth": 0,
             "ticks": ""
            },
            "colorscale": [
             [
              0,
              "#0d0887"
             ],
             [
              0.1111111111111111,
              "#46039f"
             ],
             [
              0.2222222222222222,
              "#7201a8"
             ],
             [
              0.3333333333333333,
              "#9c179e"
             ],
             [
              0.4444444444444444,
              "#bd3786"
             ],
             [
              0.5555555555555556,
              "#d8576b"
             ],
             [
              0.6666666666666666,
              "#ed7953"
             ],
             [
              0.7777777777777778,
              "#fb9f3a"
             ],
             [
              0.8888888888888888,
              "#fdca26"
             ],
             [
              1,
              "#f0f921"
             ]
            ],
            "type": "heatmapgl"
           }
          ],
          "histogram": [
           {
            "marker": {
             "colorbar": {
              "outlinewidth": 0,
              "ticks": ""
             }
            },
            "type": "histogram"
           }
          ],
          "histogram2d": [
           {
            "colorbar": {
             "outlinewidth": 0,
             "ticks": ""
            },
            "colorscale": [
             [
              0,
              "#0d0887"
             ],
             [
              0.1111111111111111,
              "#46039f"
             ],
             [
              0.2222222222222222,
              "#7201a8"
             ],
             [
              0.3333333333333333,
              "#9c179e"
             ],
             [
              0.4444444444444444,
              "#bd3786"
             ],
             [
              0.5555555555555556,
              "#d8576b"
             ],
             [
              0.6666666666666666,
              "#ed7953"
             ],
             [
              0.7777777777777778,
              "#fb9f3a"
             ],
             [
              0.8888888888888888,
              "#fdca26"
             ],
             [
              1,
              "#f0f921"
             ]
            ],
            "type": "histogram2d"
           }
          ],
          "histogram2dcontour": [
           {
            "colorbar": {
             "outlinewidth": 0,
             "ticks": ""
            },
            "colorscale": [
             [
              0,
              "#0d0887"
             ],
             [
              0.1111111111111111,
              "#46039f"
             ],
             [
              0.2222222222222222,
              "#7201a8"
             ],
             [
              0.3333333333333333,
              "#9c179e"
             ],
             [
              0.4444444444444444,
              "#bd3786"
             ],
             [
              0.5555555555555556,
              "#d8576b"
             ],
             [
              0.6666666666666666,
              "#ed7953"
             ],
             [
              0.7777777777777778,
              "#fb9f3a"
             ],
             [
              0.8888888888888888,
              "#fdca26"
             ],
             [
              1,
              "#f0f921"
             ]
            ],
            "type": "histogram2dcontour"
           }
          ],
          "mesh3d": [
           {
            "colorbar": {
             "outlinewidth": 0,
             "ticks": ""
            },
            "type": "mesh3d"
           }
          ],
          "parcoords": [
           {
            "line": {
             "colorbar": {
              "outlinewidth": 0,
              "ticks": ""
             }
            },
            "type": "parcoords"
           }
          ],
          "pie": [
           {
            "automargin": true,
            "type": "pie"
           }
          ],
          "scatter": [
           {
            "marker": {
             "colorbar": {
              "outlinewidth": 0,
              "ticks": ""
             }
            },
            "type": "scatter"
           }
          ],
          "scatter3d": [
           {
            "line": {
             "colorbar": {
              "outlinewidth": 0,
              "ticks": ""
             }
            },
            "marker": {
             "colorbar": {
              "outlinewidth": 0,
              "ticks": ""
             }
            },
            "type": "scatter3d"
           }
          ],
          "scattercarpet": [
           {
            "marker": {
             "colorbar": {
              "outlinewidth": 0,
              "ticks": ""
             }
            },
            "type": "scattercarpet"
           }
          ],
          "scattergeo": [
           {
            "marker": {
             "colorbar": {
              "outlinewidth": 0,
              "ticks": ""
             }
            },
            "type": "scattergeo"
           }
          ],
          "scattergl": [
           {
            "marker": {
             "colorbar": {
              "outlinewidth": 0,
              "ticks": ""
             }
            },
            "type": "scattergl"
           }
          ],
          "scattermapbox": [
           {
            "marker": {
             "colorbar": {
              "outlinewidth": 0,
              "ticks": ""
             }
            },
            "type": "scattermapbox"
           }
          ],
          "scatterpolar": [
           {
            "marker": {
             "colorbar": {
              "outlinewidth": 0,
              "ticks": ""
             }
            },
            "type": "scatterpolar"
           }
          ],
          "scatterpolargl": [
           {
            "marker": {
             "colorbar": {
              "outlinewidth": 0,
              "ticks": ""
             }
            },
            "type": "scatterpolargl"
           }
          ],
          "scatterternary": [
           {
            "marker": {
             "colorbar": {
              "outlinewidth": 0,
              "ticks": ""
             }
            },
            "type": "scatterternary"
           }
          ],
          "surface": [
           {
            "colorbar": {
             "outlinewidth": 0,
             "ticks": ""
            },
            "colorscale": [
             [
              0,
              "#0d0887"
             ],
             [
              0.1111111111111111,
              "#46039f"
             ],
             [
              0.2222222222222222,
              "#7201a8"
             ],
             [
              0.3333333333333333,
              "#9c179e"
             ],
             [
              0.4444444444444444,
              "#bd3786"
             ],
             [
              0.5555555555555556,
              "#d8576b"
             ],
             [
              0.6666666666666666,
              "#ed7953"
             ],
             [
              0.7777777777777778,
              "#fb9f3a"
             ],
             [
              0.8888888888888888,
              "#fdca26"
             ],
             [
              1,
              "#f0f921"
             ]
            ],
            "type": "surface"
           }
          ],
          "table": [
           {
            "cells": {
             "fill": {
              "color": "#EBF0F8"
             },
             "line": {
              "color": "white"
             }
            },
            "header": {
             "fill": {
              "color": "#C8D4E3"
             },
             "line": {
              "color": "white"
             }
            },
            "type": "table"
           }
          ]
         },
         "layout": {
          "annotationdefaults": {
           "arrowcolor": "#2a3f5f",
           "arrowhead": 0,
           "arrowwidth": 1
          },
          "autotypenumbers": "strict",
          "coloraxis": {
           "colorbar": {
            "outlinewidth": 0,
            "ticks": ""
           }
          },
          "colorscale": {
           "diverging": [
            [
             0,
             "#8e0152"
            ],
            [
             0.1,
             "#c51b7d"
            ],
            [
             0.2,
             "#de77ae"
            ],
            [
             0.3,
             "#f1b6da"
            ],
            [
             0.4,
             "#fde0ef"
            ],
            [
             0.5,
             "#f7f7f7"
            ],
            [
             0.6,
             "#e6f5d0"
            ],
            [
             0.7,
             "#b8e186"
            ],
            [
             0.8,
             "#7fbc41"
            ],
            [
             0.9,
             "#4d9221"
            ],
            [
             1,
             "#276419"
            ]
           ],
           "sequential": [
            [
             0,
             "#0d0887"
            ],
            [
             0.1111111111111111,
             "#46039f"
            ],
            [
             0.2222222222222222,
             "#7201a8"
            ],
            [
             0.3333333333333333,
             "#9c179e"
            ],
            [
             0.4444444444444444,
             "#bd3786"
            ],
            [
             0.5555555555555556,
             "#d8576b"
            ],
            [
             0.6666666666666666,
             "#ed7953"
            ],
            [
             0.7777777777777778,
             "#fb9f3a"
            ],
            [
             0.8888888888888888,
             "#fdca26"
            ],
            [
             1,
             "#f0f921"
            ]
           ],
           "sequentialminus": [
            [
             0,
             "#0d0887"
            ],
            [
             0.1111111111111111,
             "#46039f"
            ],
            [
             0.2222222222222222,
             "#7201a8"
            ],
            [
             0.3333333333333333,
             "#9c179e"
            ],
            [
             0.4444444444444444,
             "#bd3786"
            ],
            [
             0.5555555555555556,
             "#d8576b"
            ],
            [
             0.6666666666666666,
             "#ed7953"
            ],
            [
             0.7777777777777778,
             "#fb9f3a"
            ],
            [
             0.8888888888888888,
             "#fdca26"
            ],
            [
             1,
             "#f0f921"
            ]
           ]
          },
          "colorway": [
           "#636efa",
           "#EF553B",
           "#00cc96",
           "#ab63fa",
           "#FFA15A",
           "#19d3f3",
           "#FF6692",
           "#B6E880",
           "#FF97FF",
           "#FECB52"
          ],
          "font": {
           "color": "#2a3f5f"
          },
          "geo": {
           "bgcolor": "white",
           "lakecolor": "white",
           "landcolor": "#E5ECF6",
           "showlakes": true,
           "showland": true,
           "subunitcolor": "white"
          },
          "hoverlabel": {
           "align": "left"
          },
          "hovermode": "closest",
          "mapbox": {
           "style": "light"
          },
          "paper_bgcolor": "white",
          "plot_bgcolor": "#E5ECF6",
          "polar": {
           "angularaxis": {
            "gridcolor": "white",
            "linecolor": "white",
            "ticks": ""
           },
           "bgcolor": "#E5ECF6",
           "radialaxis": {
            "gridcolor": "white",
            "linecolor": "white",
            "ticks": ""
           }
          },
          "scene": {
           "xaxis": {
            "backgroundcolor": "#E5ECF6",
            "gridcolor": "white",
            "gridwidth": 2,
            "linecolor": "white",
            "showbackground": true,
            "ticks": "",
            "zerolinecolor": "white"
           },
           "yaxis": {
            "backgroundcolor": "#E5ECF6",
            "gridcolor": "white",
            "gridwidth": 2,
            "linecolor": "white",
            "showbackground": true,
            "ticks": "",
            "zerolinecolor": "white"
           },
           "zaxis": {
            "backgroundcolor": "#E5ECF6",
            "gridcolor": "white",
            "gridwidth": 2,
            "linecolor": "white",
            "showbackground": true,
            "ticks": "",
            "zerolinecolor": "white"
           }
          },
          "shapedefaults": {
           "line": {
            "color": "#2a3f5f"
           }
          },
          "ternary": {
           "aaxis": {
            "gridcolor": "white",
            "linecolor": "white",
            "ticks": ""
           },
           "baxis": {
            "gridcolor": "white",
            "linecolor": "white",
            "ticks": ""
           },
           "bgcolor": "#E5ECF6",
           "caxis": {
            "gridcolor": "white",
            "linecolor": "white",
            "ticks": ""
           }
          },
          "title": {
           "x": 0.05
          },
          "xaxis": {
           "automargin": true,
           "gridcolor": "white",
           "linecolor": "white",
           "ticks": "",
           "title": {
            "standoff": 15
           },
           "zerolinecolor": "white",
           "zerolinewidth": 2
          },
          "yaxis": {
           "automargin": true,
           "gridcolor": "white",
           "linecolor": "white",
           "ticks": "",
           "title": {
            "standoff": 15
           },
           "zerolinecolor": "white",
           "zerolinewidth": 2
          }
         }
        },
        "xaxis": {
         "anchor": "y",
         "domain": [
          0,
          1
         ],
         "title": {
          "text": "pass_accuracy"
         }
        },
        "yaxis": {
         "anchor": "x",
         "domain": [
          0,
          1
         ],
         "title": {
          "text": "assists"
         }
        }
       }
      },
      "text/html": [
       "<div>                            <div id=\"99b15676-388b-45fb-87aa-9023420fedda\" class=\"plotly-graph-div\" style=\"height:525px; width:100%;\"></div>            <script type=\"text/javascript\">                require([\"plotly\"], function(Plotly) {                    window.PLOTLYENV=window.PLOTLYENV || {};                                    if (document.getElementById(\"99b15676-388b-45fb-87aa-9023420fedda\")) {                    Plotly.newPlot(                        \"99b15676-388b-45fb-87aa-9023420fedda\",                        [{\"hovertemplate\": \"player=Keira Walsh<br>pass_accuracy=%{x}<br>assists=%{y}<br>passes=%{marker.size}<extra></extra>\", \"legendgroup\": \"Keira Walsh\", \"marker\": {\"color\": \"#636efa\", \"size\": [1335], \"sizemode\": \"area\", \"sizeref\": 3.3375, \"symbol\": \"circle\"}, \"mode\": \"markers\", \"name\": \"Keira Walsh\", \"orientation\": \"v\", \"showlegend\": true, \"type\": \"scatter\", \"x\": [88.83895131086142], \"xaxis\": \"x\", \"y\": [2], \"yaxis\": \"y\"}, {\"hovertemplate\": \"player=Lia W\\u00e4lti<br>pass_accuracy=%{x}<br>assists=%{y}<br>passes=%{marker.size}<extra></extra>\", \"legendgroup\": \"Lia W\\u00e4lti\", \"marker\": {\"color\": \"#EF553B\", \"size\": [1245], \"sizemode\": \"area\", \"sizeref\": 3.3375, \"symbol\": \"circle\"}, \"mode\": \"markers\", \"name\": \"Lia W\\u00e4lti\", \"orientation\": \"v\", \"showlegend\": true, \"type\": \"scatter\", \"x\": [86.90763052208834], \"xaxis\": \"x\", \"y\": [1], \"yaxis\": \"y\"}, {\"hovertemplate\": \"player=Angharad James<br>pass_accuracy=%{x}<br>assists=%{y}<br>passes=%{marker.size}<extra></extra>\", \"legendgroup\": \"Angharad James\", \"marker\": {\"color\": \"#00cc96\", \"size\": [1007], \"sizemode\": \"area\", \"sizeref\": 3.3375, \"symbol\": \"circle\"}, \"mode\": \"markers\", \"name\": \"Angharad James\", \"orientation\": \"v\", \"showlegend\": true, \"type\": \"scatter\", \"x\": [78.45084409136047], \"xaxis\": \"x\", \"y\": [1], \"yaxis\": \"y\"}, {\"hovertemplate\": \"player=Katie Zelem<br>pass_accuracy=%{x}<br>assists=%{y}<br>passes=%{marker.size}<extra></extra>\", \"legendgroup\": \"Katie Zelem\", \"marker\": {\"color\": \"#ab63fa\", \"size\": [946], \"sizemode\": \"area\", \"sizeref\": 3.3375, \"symbol\": \"circle\"}, \"mode\": \"markers\", \"name\": \"Katie Zelem\", \"orientation\": \"v\", \"showlegend\": true, \"type\": \"scatter\", \"x\": [79.38689217758986], \"xaxis\": \"x\", \"y\": [2], \"yaxis\": \"y\"}, {\"hovertemplate\": \"player=Melanie Leupolz<br>pass_accuracy=%{x}<br>assists=%{y}<br>passes=%{marker.size}<extra></extra>\", \"legendgroup\": \"Melanie Leupolz\", \"marker\": {\"color\": \"#FFA15A\", \"size\": [817], \"sizemode\": \"area\", \"sizeref\": 3.3375, \"symbol\": \"circle\"}, \"mode\": \"markers\", \"name\": \"Melanie Leupolz\", \"orientation\": \"v\", \"showlegend\": true, \"type\": \"scatter\", \"x\": [85.18971848225216], \"xaxis\": \"x\", \"y\": [0], \"yaxis\": \"y\"}, {\"hovertemplate\": \"player=Jessica Fishlock<br>pass_accuracy=%{x}<br>assists=%{y}<br>passes=%{marker.size}<extra></extra>\", \"legendgroup\": \"Jessica Fishlock\", \"marker\": {\"color\": \"#19d3f3\", \"size\": [763], \"sizemode\": \"area\", \"sizeref\": 3.3375, \"symbol\": \"circle\"}, \"mode\": \"markers\", \"name\": \"Jessica Fishlock\", \"orientation\": \"v\", \"showlegend\": true, \"type\": \"scatter\", \"x\": [76.80209698558322], \"xaxis\": \"x\", \"y\": [3], \"yaxis\": \"y\"}, {\"hovertemplate\": \"player=Sophie Louise Ingle<br>pass_accuracy=%{x}<br>assists=%{y}<br>passes=%{marker.size}<extra></extra>\", \"legendgroup\": \"Sophie Louise Ingle\", \"marker\": {\"color\": \"#FF6692\", \"size\": [760], \"sizemode\": \"area\", \"sizeref\": 3.3375, \"symbol\": \"circle\"}, \"mode\": \"markers\", \"name\": \"Sophie Louise Ingle\", \"orientation\": \"v\", \"showlegend\": true, \"type\": \"scatter\", \"x\": [85.65789473684211], \"xaxis\": \"x\", \"y\": [1], \"yaxis\": \"y\"}, {\"hovertemplate\": \"player=Jackie Groenen<br>pass_accuracy=%{x}<br>assists=%{y}<br>passes=%{marker.size}<extra></extra>\", \"legendgroup\": \"Jackie Groenen\", \"marker\": {\"color\": \"#B6E880\", \"size\": [735], \"sizemode\": \"area\", \"sizeref\": 3.3375, \"symbol\": \"circle\"}, \"mode\": \"markers\", \"name\": \"Jackie Groenen\", \"orientation\": \"v\", \"showlegend\": true, \"type\": \"scatter\", \"x\": [78.77551020408163], \"xaxis\": \"x\", \"y\": [3], \"yaxis\": \"y\"}, {\"hovertemplate\": \"player=Jill Scott<br>pass_accuracy=%{x}<br>assists=%{y}<br>passes=%{marker.size}<extra></extra>\", \"legendgroup\": \"Jill Scott\", \"marker\": {\"color\": \"#FF97FF\", \"size\": [683], \"sizemode\": \"area\", \"sizeref\": 3.3375, \"symbol\": \"circle\"}, \"mode\": \"markers\", \"name\": \"Jill Scott\", \"orientation\": \"v\", \"showlegend\": true, \"type\": \"scatter\", \"x\": [81.69838945827232], \"xaxis\": \"x\", \"y\": [1], \"yaxis\": \"y\"}, {\"hovertemplate\": \"player=Alanna Stephanie Kennedy<br>pass_accuracy=%{x}<br>assists=%{y}<br>passes=%{marker.size}<extra></extra>\", \"legendgroup\": \"Alanna Stephanie Kennedy\", \"marker\": {\"color\": \"#FECB52\", \"size\": [678], \"sizemode\": \"area\", \"sizeref\": 3.3375, \"symbol\": \"circle\"}, \"mode\": \"markers\", \"name\": \"Alanna Stephanie Kennedy\", \"orientation\": \"v\", \"showlegend\": true, \"type\": \"scatter\", \"x\": [77.87610619469027], \"xaxis\": \"x\", \"y\": [0], \"yaxis\": \"y\"}, {\"hovertemplate\": \"player=Christie Murray<br>pass_accuracy=%{x}<br>assists=%{y}<br>passes=%{marker.size}<extra></extra>\", \"legendgroup\": \"Christie Murray\", \"marker\": {\"color\": \"#636efa\", \"size\": [561], \"sizemode\": \"area\", \"sizeref\": 3.3375, \"symbol\": \"circle\"}, \"mode\": \"markers\", \"name\": \"Christie Murray\", \"orientation\": \"v\", \"showlegend\": true, \"type\": \"scatter\", \"x\": [63.45811051693404], \"xaxis\": \"x\", \"y\": [0], \"yaxis\": \"y\"}, {\"hovertemplate\": \"player=Kate Longhurst<br>pass_accuracy=%{x}<br>assists=%{y}<br>passes=%{marker.size}<extra></extra>\", \"legendgroup\": \"Kate Longhurst\", \"marker\": {\"color\": \"#EF553B\", \"size\": [509], \"sizemode\": \"area\", \"sizeref\": 3.3375, \"symbol\": \"circle\"}, \"mode\": \"markers\", \"name\": \"Kate Longhurst\", \"orientation\": \"v\", \"showlegend\": true, \"type\": \"scatter\", \"x\": [73.28094302554027], \"xaxis\": \"x\", \"y\": [1], \"yaxis\": \"y\"}, {\"hovertemplate\": \"player=Marisa Ewers<br>pass_accuracy=%{x}<br>assists=%{y}<br>passes=%{marker.size}<extra></extra>\", \"legendgroup\": \"Marisa Ewers\", \"marker\": {\"color\": \"#00cc96\", \"size\": [464], \"sizemode\": \"area\", \"sizeref\": 3.3375, \"symbol\": \"circle\"}, \"mode\": \"markers\", \"name\": \"Marisa Ewers\", \"orientation\": \"v\", \"showlegend\": true, \"type\": \"scatter\", \"x\": [77.58620689655173], \"xaxis\": \"x\", \"y\": [0], \"yaxis\": \"y\"}, {\"hovertemplate\": \"player=Josie Green<br>pass_accuracy=%{x}<br>assists=%{y}<br>passes=%{marker.size}<extra></extra>\", \"legendgroup\": \"Josie Green\", \"marker\": {\"color\": \"#ab63fa\", \"size\": [366], \"sizemode\": \"area\", \"sizeref\": 3.3375, \"symbol\": \"circle\"}, \"mode\": \"markers\", \"name\": \"Josie Green\", \"orientation\": \"v\", \"showlegend\": true, \"type\": \"scatter\", \"x\": [77.59562841530055], \"xaxis\": \"x\", \"y\": [0], \"yaxis\": \"y\"}],                        {\"legend\": {\"itemsizing\": \"constant\", \"title\": {\"text\": \"player\"}, \"tracegroupgap\": 0}, \"margin\": {\"t\": 60}, \"template\": {\"data\": {\"bar\": [{\"error_x\": {\"color\": \"#2a3f5f\"}, \"error_y\": {\"color\": \"#2a3f5f\"}, \"marker\": {\"line\": {\"color\": \"#E5ECF6\", \"width\": 0.5}}, \"type\": \"bar\"}], \"barpolar\": [{\"marker\": {\"line\": {\"color\": \"#E5ECF6\", \"width\": 0.5}}, \"type\": \"barpolar\"}], \"carpet\": [{\"aaxis\": {\"endlinecolor\": \"#2a3f5f\", \"gridcolor\": \"white\", \"linecolor\": \"white\", \"minorgridcolor\": \"white\", \"startlinecolor\": \"#2a3f5f\"}, \"baxis\": {\"endlinecolor\": \"#2a3f5f\", \"gridcolor\": \"white\", \"linecolor\": \"white\", \"minorgridcolor\": \"white\", \"startlinecolor\": \"#2a3f5f\"}, \"type\": \"carpet\"}], \"choropleth\": [{\"colorbar\": {\"outlinewidth\": 0, \"ticks\": \"\"}, \"type\": \"choropleth\"}], \"contour\": [{\"colorbar\": {\"outlinewidth\": 0, \"ticks\": \"\"}, \"colorscale\": [[0.0, \"#0d0887\"], [0.1111111111111111, \"#46039f\"], [0.2222222222222222, \"#7201a8\"], [0.3333333333333333, \"#9c179e\"], [0.4444444444444444, \"#bd3786\"], [0.5555555555555556, \"#d8576b\"], [0.6666666666666666, \"#ed7953\"], [0.7777777777777778, \"#fb9f3a\"], [0.8888888888888888, \"#fdca26\"], [1.0, \"#f0f921\"]], \"type\": \"contour\"}], \"contourcarpet\": [{\"colorbar\": {\"outlinewidth\": 0, \"ticks\": \"\"}, \"type\": \"contourcarpet\"}], \"heatmap\": [{\"colorbar\": {\"outlinewidth\": 0, \"ticks\": \"\"}, \"colorscale\": [[0.0, \"#0d0887\"], [0.1111111111111111, \"#46039f\"], [0.2222222222222222, \"#7201a8\"], [0.3333333333333333, \"#9c179e\"], [0.4444444444444444, \"#bd3786\"], [0.5555555555555556, \"#d8576b\"], [0.6666666666666666, \"#ed7953\"], [0.7777777777777778, \"#fb9f3a\"], [0.8888888888888888, \"#fdca26\"], [1.0, \"#f0f921\"]], \"type\": \"heatmap\"}], \"heatmapgl\": [{\"colorbar\": {\"outlinewidth\": 0, \"ticks\": \"\"}, \"colorscale\": [[0.0, \"#0d0887\"], [0.1111111111111111, \"#46039f\"], [0.2222222222222222, \"#7201a8\"], [0.3333333333333333, \"#9c179e\"], [0.4444444444444444, \"#bd3786\"], [0.5555555555555556, \"#d8576b\"], [0.6666666666666666, \"#ed7953\"], [0.7777777777777778, \"#fb9f3a\"], [0.8888888888888888, \"#fdca26\"], [1.0, \"#f0f921\"]], \"type\": \"heatmapgl\"}], \"histogram\": [{\"marker\": {\"colorbar\": {\"outlinewidth\": 0, \"ticks\": \"\"}}, \"type\": \"histogram\"}], \"histogram2d\": [{\"colorbar\": {\"outlinewidth\": 0, \"ticks\": \"\"}, \"colorscale\": [[0.0, \"#0d0887\"], [0.1111111111111111, \"#46039f\"], [0.2222222222222222, \"#7201a8\"], [0.3333333333333333, \"#9c179e\"], [0.4444444444444444, \"#bd3786\"], [0.5555555555555556, \"#d8576b\"], [0.6666666666666666, \"#ed7953\"], [0.7777777777777778, \"#fb9f3a\"], [0.8888888888888888, \"#fdca26\"], [1.0, \"#f0f921\"]], \"type\": \"histogram2d\"}], \"histogram2dcontour\": [{\"colorbar\": {\"outlinewidth\": 0, \"ticks\": \"\"}, \"colorscale\": [[0.0, \"#0d0887\"], [0.1111111111111111, \"#46039f\"], [0.2222222222222222, \"#7201a8\"], [0.3333333333333333, \"#9c179e\"], [0.4444444444444444, \"#bd3786\"], [0.5555555555555556, \"#d8576b\"], [0.6666666666666666, \"#ed7953\"], [0.7777777777777778, \"#fb9f3a\"], [0.8888888888888888, \"#fdca26\"], [1.0, \"#f0f921\"]], \"type\": \"histogram2dcontour\"}], \"mesh3d\": [{\"colorbar\": {\"outlinewidth\": 0, \"ticks\": \"\"}, \"type\": \"mesh3d\"}], \"parcoords\": [{\"line\": {\"colorbar\": {\"outlinewidth\": 0, \"ticks\": \"\"}}, \"type\": \"parcoords\"}], \"pie\": [{\"automargin\": true, \"type\": \"pie\"}], \"scatter\": [{\"marker\": {\"colorbar\": {\"outlinewidth\": 0, \"ticks\": \"\"}}, \"type\": \"scatter\"}], \"scatter3d\": [{\"line\": {\"colorbar\": {\"outlinewidth\": 0, \"ticks\": \"\"}}, \"marker\": {\"colorbar\": {\"outlinewidth\": 0, \"ticks\": \"\"}}, \"type\": \"scatter3d\"}], \"scattercarpet\": [{\"marker\": {\"colorbar\": {\"outlinewidth\": 0, \"ticks\": \"\"}}, \"type\": \"scattercarpet\"}], \"scattergeo\": [{\"marker\": {\"colorbar\": {\"outlinewidth\": 0, \"ticks\": \"\"}}, \"type\": \"scattergeo\"}], \"scattergl\": [{\"marker\": {\"colorbar\": {\"outlinewidth\": 0, \"ticks\": \"\"}}, \"type\": \"scattergl\"}], \"scattermapbox\": [{\"marker\": {\"colorbar\": {\"outlinewidth\": 0, \"ticks\": \"\"}}, \"type\": \"scattermapbox\"}], \"scatterpolar\": [{\"marker\": {\"colorbar\": {\"outlinewidth\": 0, \"ticks\": \"\"}}, \"type\": \"scatterpolar\"}], \"scatterpolargl\": [{\"marker\": {\"colorbar\": {\"outlinewidth\": 0, \"ticks\": \"\"}}, \"type\": \"scatterpolargl\"}], \"scatterternary\": [{\"marker\": {\"colorbar\": {\"outlinewidth\": 0, \"ticks\": \"\"}}, \"type\": \"scatterternary\"}], \"surface\": [{\"colorbar\": {\"outlinewidth\": 0, \"ticks\": \"\"}, \"colorscale\": [[0.0, \"#0d0887\"], [0.1111111111111111, \"#46039f\"], [0.2222222222222222, \"#7201a8\"], [0.3333333333333333, \"#9c179e\"], [0.4444444444444444, \"#bd3786\"], [0.5555555555555556, \"#d8576b\"], [0.6666666666666666, \"#ed7953\"], [0.7777777777777778, \"#fb9f3a\"], [0.8888888888888888, \"#fdca26\"], [1.0, \"#f0f921\"]], \"type\": \"surface\"}], \"table\": [{\"cells\": {\"fill\": {\"color\": \"#EBF0F8\"}, \"line\": {\"color\": \"white\"}}, \"header\": {\"fill\": {\"color\": \"#C8D4E3\"}, \"line\": {\"color\": \"white\"}}, \"type\": \"table\"}]}, \"layout\": {\"annotationdefaults\": {\"arrowcolor\": \"#2a3f5f\", \"arrowhead\": 0, \"arrowwidth\": 1}, \"autotypenumbers\": \"strict\", \"coloraxis\": {\"colorbar\": {\"outlinewidth\": 0, \"ticks\": \"\"}}, \"colorscale\": {\"diverging\": [[0, \"#8e0152\"], [0.1, \"#c51b7d\"], [0.2, \"#de77ae\"], [0.3, \"#f1b6da\"], [0.4, \"#fde0ef\"], [0.5, \"#f7f7f7\"], [0.6, \"#e6f5d0\"], [0.7, \"#b8e186\"], [0.8, \"#7fbc41\"], [0.9, \"#4d9221\"], [1, \"#276419\"]], \"sequential\": [[0.0, \"#0d0887\"], [0.1111111111111111, \"#46039f\"], [0.2222222222222222, \"#7201a8\"], [0.3333333333333333, \"#9c179e\"], [0.4444444444444444, \"#bd3786\"], [0.5555555555555556, \"#d8576b\"], [0.6666666666666666, \"#ed7953\"], [0.7777777777777778, \"#fb9f3a\"], [0.8888888888888888, \"#fdca26\"], [1.0, \"#f0f921\"]], \"sequentialminus\": [[0.0, \"#0d0887\"], [0.1111111111111111, \"#46039f\"], [0.2222222222222222, \"#7201a8\"], [0.3333333333333333, \"#9c179e\"], [0.4444444444444444, \"#bd3786\"], [0.5555555555555556, \"#d8576b\"], [0.6666666666666666, \"#ed7953\"], [0.7777777777777778, \"#fb9f3a\"], [0.8888888888888888, \"#fdca26\"], [1.0, \"#f0f921\"]]}, \"colorway\": [\"#636efa\", \"#EF553B\", \"#00cc96\", \"#ab63fa\", \"#FFA15A\", \"#19d3f3\", \"#FF6692\", \"#B6E880\", \"#FF97FF\", \"#FECB52\"], \"font\": {\"color\": \"#2a3f5f\"}, \"geo\": {\"bgcolor\": \"white\", \"lakecolor\": \"white\", \"landcolor\": \"#E5ECF6\", \"showlakes\": true, \"showland\": true, \"subunitcolor\": \"white\"}, \"hoverlabel\": {\"align\": \"left\"}, \"hovermode\": \"closest\", \"mapbox\": {\"style\": \"light\"}, \"paper_bgcolor\": \"white\", \"plot_bgcolor\": \"#E5ECF6\", \"polar\": {\"angularaxis\": {\"gridcolor\": \"white\", \"linecolor\": \"white\", \"ticks\": \"\"}, \"bgcolor\": \"#E5ECF6\", \"radialaxis\": {\"gridcolor\": \"white\", \"linecolor\": \"white\", \"ticks\": \"\"}}, \"scene\": {\"xaxis\": {\"backgroundcolor\": \"#E5ECF6\", \"gridcolor\": \"white\", \"gridwidth\": 2, \"linecolor\": \"white\", \"showbackground\": true, \"ticks\": \"\", \"zerolinecolor\": \"white\"}, \"yaxis\": {\"backgroundcolor\": \"#E5ECF6\", \"gridcolor\": \"white\", \"gridwidth\": 2, \"linecolor\": \"white\", \"showbackground\": true, \"ticks\": \"\", \"zerolinecolor\": \"white\"}, \"zaxis\": {\"backgroundcolor\": \"#E5ECF6\", \"gridcolor\": \"white\", \"gridwidth\": 2, \"linecolor\": \"white\", \"showbackground\": true, \"ticks\": \"\", \"zerolinecolor\": \"white\"}}, \"shapedefaults\": {\"line\": {\"color\": \"#2a3f5f\"}}, \"ternary\": {\"aaxis\": {\"gridcolor\": \"white\", \"linecolor\": \"white\", \"ticks\": \"\"}, \"baxis\": {\"gridcolor\": \"white\", \"linecolor\": \"white\", \"ticks\": \"\"}, \"bgcolor\": \"#E5ECF6\", \"caxis\": {\"gridcolor\": \"white\", \"linecolor\": \"white\", \"ticks\": \"\"}}, \"title\": {\"x\": 0.05}, \"xaxis\": {\"automargin\": true, \"gridcolor\": \"white\", \"linecolor\": \"white\", \"ticks\": \"\", \"title\": {\"standoff\": 15}, \"zerolinecolor\": \"white\", \"zerolinewidth\": 2}, \"yaxis\": {\"automargin\": true, \"gridcolor\": \"white\", \"linecolor\": \"white\", \"ticks\": \"\", \"title\": {\"standoff\": 15}, \"zerolinecolor\": \"white\", \"zerolinewidth\": 2}}}, \"xaxis\": {\"anchor\": \"y\", \"domain\": [0.0, 1.0], \"title\": {\"text\": \"pass_accuracy\"}}, \"yaxis\": {\"anchor\": \"x\", \"domain\": [0.0, 1.0], \"title\": {\"text\": \"assists\"}}},                        {\"responsive\": true}                    ).then(function(){\n",
       "                            \n",
       "var gd = document.getElementById('99b15676-388b-45fb-87aa-9023420fedda');\n",
       "var x = new MutationObserver(function (mutations, observer) {{\n",
       "        var display = window.getComputedStyle(gd).display;\n",
       "        if (!display || display === 'none') {{\n",
       "            console.log([gd, 'removed!']);\n",
       "            Plotly.purge(gd);\n",
       "            observer.disconnect();\n",
       "        }}\n",
       "}});\n",
       "\n",
       "// Listen for the removal of the full notebook cells\n",
       "var notebookContainer = gd.closest('#notebook-container');\n",
       "if (notebookContainer) {{\n",
       "    x.observe(notebookContainer, {childList: true});\n",
       "}}\n",
       "\n",
       "// Listen for the clearing of the current output cell\n",
       "var outputEl = gd.closest('.output');\n",
       "if (outputEl) {{\n",
       "    x.observe(outputEl, {childList: true});\n",
       "}}\n",
       "\n",
       "                        })                };                });            </script>        </div>"
      ]
     },
     "metadata": {},
     "output_type": "display_data"
    }
   ],
   "source": [
    "fig = px.scatter(players, x=\"pass_accuracy\", y=\"assists\", size='passes', color=\"player\")\n",
    "fig.show()"
   ]
  },
  {
   "cell_type": "markdown",
   "id": "d2206d66",
   "metadata": {},
   "source": [
    "- Passing is a very important attribute for a CDM. A high passing accuracy for a CDM suggests that the defensive midfielder is good at recycling possession and picking out accurate passes to playmakers or other teammates. While assists aren't the most important statistic for a CDM, it can show how adept the CDM is at making the decisive pass if need be.\n",
    "\n",
    "\n",
    "\n",
    "- With the above in mind, Keira Walsh, Lia Walti and Sophie Louise Ingle really stand out for passing. Jackie Groenen has a higher number of assists with a lower passing accuracy relative to the aforementioned players and Melanie Leupolz has a high passing accuracy but no assists."
   ]
  },
  {
   "cell_type": "markdown",
   "id": "6cdc2b84",
   "metadata": {},
   "source": [
    "## Breaking up opposition play"
   ]
  },
  {
   "cell_type": "code",
   "execution_count": 24,
   "id": "546ea657",
   "metadata": {},
   "outputs": [
    {
     "data": {
      "application/vnd.plotly.v1+json": {
       "config": {
        "plotlyServerURL": "https://plot.ly"
       },
       "data": [
        {
         "hovertemplate": "player=Keira Walsh<br>Interceptions Per Match=%{x}<br>Recoveries Per Match=%{y}<br>recoveries=%{marker.size}<extra></extra>",
         "legendgroup": "Keira Walsh",
         "marker": {
          "color": "#636efa",
          "size": [
           113
          ],
          "sizemode": "area",
          "sizeref": 0.3975,
          "symbol": "circle"
         },
         "mode": "markers",
         "name": "Keira Walsh",
         "orientation": "v",
         "showlegend": true,
         "type": "scatter",
         "x": [
          1.8461538461538465
         ],
         "xaxis": "x",
         "y": [
          5.65
         ],
         "yaxis": "y"
        },
        {
         "hovertemplate": "player=Lia Wälti<br>Interceptions Per Match=%{x}<br>Recoveries Per Match=%{y}<br>recoveries=%{marker.size}<extra></extra>",
         "legendgroup": "Lia Wälti",
         "marker": {
          "color": "#EF553B",
          "size": [
           112
          ],
          "sizemode": "area",
          "sizeref": 0.3975,
          "symbol": "circle"
         },
         "mode": "markers",
         "name": "Lia Wälti",
         "orientation": "v",
         "showlegend": true,
         "type": "scatter",
         "x": [
          1.6923076923076923
         ],
         "xaxis": "x",
         "y": [
          6.222222222222222
         ],
         "yaxis": "y"
        },
        {
         "hovertemplate": "player=Angharad James<br>Interceptions Per Match=%{x}<br>Recoveries Per Match=%{y}<br>recoveries=%{marker.size}<extra></extra>",
         "legendgroup": "Angharad James",
         "marker": {
          "color": "#00cc96",
          "size": [
           159
          ],
          "sizemode": "area",
          "sizeref": 0.3975,
          "symbol": "circle"
         },
         "mode": "markers",
         "name": "Angharad James",
         "orientation": "v",
         "showlegend": true,
         "type": "scatter",
         "x": [
          2.888888888888889
         ],
         "xaxis": "x",
         "y": [
          7.227272727272727
         ],
         "yaxis": "y"
        },
        {
         "hovertemplate": "player=Katie Zelem<br>Interceptions Per Match=%{x}<br>Recoveries Per Match=%{y}<br>recoveries=%{marker.size}<extra></extra>",
         "legendgroup": "Katie Zelem",
         "marker": {
          "color": "#ab63fa",
          "size": [
           126
          ],
          "sizemode": "area",
          "sizeref": 0.3975,
          "symbol": "circle"
         },
         "mode": "markers",
         "name": "Katie Zelem",
         "orientation": "v",
         "showlegend": true,
         "type": "scatter",
         "x": [
          2.25
         ],
         "xaxis": "x",
         "y": [
          7.411764705882352
         ],
         "yaxis": "y"
        },
        {
         "hovertemplate": "player=Melanie Leupolz<br>Interceptions Per Match=%{x}<br>Recoveries Per Match=%{y}<br>recoveries=%{marker.size}<extra></extra>",
         "legendgroup": "Melanie Leupolz",
         "marker": {
          "color": "#FFA15A",
          "size": [
           83
          ],
          "sizemode": "area",
          "sizeref": 0.3975,
          "symbol": "circle"
         },
         "mode": "markers",
         "name": "Melanie Leupolz",
         "orientation": "v",
         "showlegend": true,
         "type": "scatter",
         "x": [
          2
         ],
         "xaxis": "x",
         "y": [
          4.368421052631579
         ],
         "yaxis": "y"
        },
        {
         "hovertemplate": "player=Jessica Fishlock<br>Interceptions Per Match=%{x}<br>Recoveries Per Match=%{y}<br>recoveries=%{marker.size}<extra></extra>",
         "legendgroup": "Jessica Fishlock",
         "marker": {
          "color": "#19d3f3",
          "size": [
           146
          ],
          "sizemode": "area",
          "sizeref": 0.3975,
          "symbol": "circle"
         },
         "mode": "markers",
         "name": "Jessica Fishlock",
         "orientation": "v",
         "showlegend": true,
         "type": "scatter",
         "x": [
          2.1333333333333333
         ],
         "xaxis": "x",
         "y": [
          7.684210526315789
         ],
         "yaxis": "y"
        },
        {
         "hovertemplate": "player=Sophie Louise Ingle<br>Interceptions Per Match=%{x}<br>Recoveries Per Match=%{y}<br>recoveries=%{marker.size}<extra></extra>",
         "legendgroup": "Sophie Louise Ingle",
         "marker": {
          "color": "#FF6692",
          "size": [
           66
          ],
          "sizemode": "area",
          "sizeref": 0.3975,
          "symbol": "circle"
         },
         "mode": "markers",
         "name": "Sophie Louise Ingle",
         "orientation": "v",
         "showlegend": true,
         "type": "scatter",
         "x": [
          2.142857142857143
         ],
         "xaxis": "x",
         "y": [
          4.125
         ],
         "yaxis": "y"
        },
        {
         "hovertemplate": "player=Jackie Groenen<br>Interceptions Per Match=%{x}<br>Recoveries Per Match=%{y}<br>recoveries=%{marker.size}<extra></extra>",
         "legendgroup": "Jackie Groenen",
         "marker": {
          "color": "#B6E880",
          "size": [
           135
          ],
          "sizemode": "area",
          "sizeref": 0.3975,
          "symbol": "circle"
         },
         "mode": "markers",
         "name": "Jackie Groenen",
         "orientation": "v",
         "showlegend": true,
         "type": "scatter",
         "x": [
          1.5454545454545454
         ],
         "xaxis": "x",
         "y": [
          6.428571428571429
         ],
         "yaxis": "y"
        },
        {
         "hovertemplate": "player=Jill Scott<br>Interceptions Per Match=%{x}<br>Recoveries Per Match=%{y}<br>recoveries=%{marker.size}<extra></extra>",
         "legendgroup": "Jill Scott",
         "marker": {
          "color": "#FF97FF",
          "size": [
           91
          ],
          "sizemode": "area",
          "sizeref": 0.3975,
          "symbol": "circle"
         },
         "mode": "markers",
         "name": "Jill Scott",
         "orientation": "v",
         "showlegend": true,
         "type": "scatter",
         "x": [
          2.375
         ],
         "xaxis": "x",
         "y": [
          5.6875
         ],
         "yaxis": "y"
        },
        {
         "hovertemplate": "player=Alanna Stephanie Kennedy<br>Interceptions Per Match=%{x}<br>Recoveries Per Match=%{y}<br>recoveries=%{marker.size}<extra></extra>",
         "legendgroup": "Alanna Stephanie Kennedy",
         "marker": {
          "color": "#FECB52",
          "size": [
           100
          ],
          "sizemode": "area",
          "sizeref": 0.3975,
          "symbol": "circle"
         },
         "mode": "markers",
         "name": "Alanna Stephanie Kennedy",
         "orientation": "v",
         "showlegend": true,
         "type": "scatter",
         "x": [
          2.363636363636364
         ],
         "xaxis": "x",
         "y": [
          5.5555555555555545
         ],
         "yaxis": "y"
        },
        {
         "hovertemplate": "player=Christie Murray<br>Interceptions Per Match=%{x}<br>Recoveries Per Match=%{y}<br>recoveries=%{marker.size}<extra></extra>",
         "legendgroup": "Christie Murray",
         "marker": {
          "color": "#636efa",
          "size": [
           130
          ],
          "sizemode": "area",
          "sizeref": 0.3975,
          "symbol": "circle"
         },
         "mode": "markers",
         "name": "Christie Murray",
         "orientation": "v",
         "showlegend": true,
         "type": "scatter",
         "x": [
          2.090909090909091
         ],
         "xaxis": "x",
         "y": [
          8.125
         ],
         "yaxis": "y"
        },
        {
         "hovertemplate": "player=Kate Longhurst<br>Interceptions Per Match=%{x}<br>Recoveries Per Match=%{y}<br>recoveries=%{marker.size}<extra></extra>",
         "legendgroup": "Kate Longhurst",
         "marker": {
          "color": "#EF553B",
          "size": [
           103
          ],
          "sizemode": "area",
          "sizeref": 0.3975,
          "symbol": "circle"
         },
         "mode": "markers",
         "name": "Kate Longhurst",
         "orientation": "v",
         "showlegend": true,
         "type": "scatter",
         "x": [
          1.4545454545454546
         ],
         "xaxis": "x",
         "y": [
          5.722222222222222
         ],
         "yaxis": "y"
        },
        {
         "hovertemplate": "player=Marisa Ewers<br>Interceptions Per Match=%{x}<br>Recoveries Per Match=%{y}<br>recoveries=%{marker.size}<extra></extra>",
         "legendgroup": "Marisa Ewers",
         "marker": {
          "color": "#00cc96",
          "size": [
           79
          ],
          "sizemode": "area",
          "sizeref": 0.3975,
          "symbol": "circle"
         },
         "mode": "markers",
         "name": "Marisa Ewers",
         "orientation": "v",
         "showlegend": true,
         "type": "scatter",
         "x": [
          2.4375
         ],
         "xaxis": "x",
         "y": [
          4.647058823529412
         ],
         "yaxis": "y"
        },
        {
         "hovertemplate": "player=Josie Green<br>Interceptions Per Match=%{x}<br>Recoveries Per Match=%{y}<br>recoveries=%{marker.size}<extra></extra>",
         "legendgroup": "Josie Green",
         "marker": {
          "color": "#ab63fa",
          "size": [
           86
          ],
          "sizemode": "area",
          "sizeref": 0.3975,
          "symbol": "circle"
         },
         "mode": "markers",
         "name": "Josie Green",
         "orientation": "v",
         "showlegend": true,
         "type": "scatter",
         "x": [
          2
         ],
         "xaxis": "x",
         "y": [
          6.142857142857142
         ],
         "yaxis": "y"
        }
       ],
       "layout": {
        "legend": {
         "itemsizing": "constant",
         "title": {
          "text": "player"
         },
         "tracegroupgap": 0
        },
        "margin": {
         "t": 60
        },
        "template": {
         "data": {
          "bar": [
           {
            "error_x": {
             "color": "#2a3f5f"
            },
            "error_y": {
             "color": "#2a3f5f"
            },
            "marker": {
             "line": {
              "color": "#E5ECF6",
              "width": 0.5
             }
            },
            "type": "bar"
           }
          ],
          "barpolar": [
           {
            "marker": {
             "line": {
              "color": "#E5ECF6",
              "width": 0.5
             }
            },
            "type": "barpolar"
           }
          ],
          "carpet": [
           {
            "aaxis": {
             "endlinecolor": "#2a3f5f",
             "gridcolor": "white",
             "linecolor": "white",
             "minorgridcolor": "white",
             "startlinecolor": "#2a3f5f"
            },
            "baxis": {
             "endlinecolor": "#2a3f5f",
             "gridcolor": "white",
             "linecolor": "white",
             "minorgridcolor": "white",
             "startlinecolor": "#2a3f5f"
            },
            "type": "carpet"
           }
          ],
          "choropleth": [
           {
            "colorbar": {
             "outlinewidth": 0,
             "ticks": ""
            },
            "type": "choropleth"
           }
          ],
          "contour": [
           {
            "colorbar": {
             "outlinewidth": 0,
             "ticks": ""
            },
            "colorscale": [
             [
              0,
              "#0d0887"
             ],
             [
              0.1111111111111111,
              "#46039f"
             ],
             [
              0.2222222222222222,
              "#7201a8"
             ],
             [
              0.3333333333333333,
              "#9c179e"
             ],
             [
              0.4444444444444444,
              "#bd3786"
             ],
             [
              0.5555555555555556,
              "#d8576b"
             ],
             [
              0.6666666666666666,
              "#ed7953"
             ],
             [
              0.7777777777777778,
              "#fb9f3a"
             ],
             [
              0.8888888888888888,
              "#fdca26"
             ],
             [
              1,
              "#f0f921"
             ]
            ],
            "type": "contour"
           }
          ],
          "contourcarpet": [
           {
            "colorbar": {
             "outlinewidth": 0,
             "ticks": ""
            },
            "type": "contourcarpet"
           }
          ],
          "heatmap": [
           {
            "colorbar": {
             "outlinewidth": 0,
             "ticks": ""
            },
            "colorscale": [
             [
              0,
              "#0d0887"
             ],
             [
              0.1111111111111111,
              "#46039f"
             ],
             [
              0.2222222222222222,
              "#7201a8"
             ],
             [
              0.3333333333333333,
              "#9c179e"
             ],
             [
              0.4444444444444444,
              "#bd3786"
             ],
             [
              0.5555555555555556,
              "#d8576b"
             ],
             [
              0.6666666666666666,
              "#ed7953"
             ],
             [
              0.7777777777777778,
              "#fb9f3a"
             ],
             [
              0.8888888888888888,
              "#fdca26"
             ],
             [
              1,
              "#f0f921"
             ]
            ],
            "type": "heatmap"
           }
          ],
          "heatmapgl": [
           {
            "colorbar": {
             "outlinewidth": 0,
             "ticks": ""
            },
            "colorscale": [
             [
              0,
              "#0d0887"
             ],
             [
              0.1111111111111111,
              "#46039f"
             ],
             [
              0.2222222222222222,
              "#7201a8"
             ],
             [
              0.3333333333333333,
              "#9c179e"
             ],
             [
              0.4444444444444444,
              "#bd3786"
             ],
             [
              0.5555555555555556,
              "#d8576b"
             ],
             [
              0.6666666666666666,
              "#ed7953"
             ],
             [
              0.7777777777777778,
              "#fb9f3a"
             ],
             [
              0.8888888888888888,
              "#fdca26"
             ],
             [
              1,
              "#f0f921"
             ]
            ],
            "type": "heatmapgl"
           }
          ],
          "histogram": [
           {
            "marker": {
             "colorbar": {
              "outlinewidth": 0,
              "ticks": ""
             }
            },
            "type": "histogram"
           }
          ],
          "histogram2d": [
           {
            "colorbar": {
             "outlinewidth": 0,
             "ticks": ""
            },
            "colorscale": [
             [
              0,
              "#0d0887"
             ],
             [
              0.1111111111111111,
              "#46039f"
             ],
             [
              0.2222222222222222,
              "#7201a8"
             ],
             [
              0.3333333333333333,
              "#9c179e"
             ],
             [
              0.4444444444444444,
              "#bd3786"
             ],
             [
              0.5555555555555556,
              "#d8576b"
             ],
             [
              0.6666666666666666,
              "#ed7953"
             ],
             [
              0.7777777777777778,
              "#fb9f3a"
             ],
             [
              0.8888888888888888,
              "#fdca26"
             ],
             [
              1,
              "#f0f921"
             ]
            ],
            "type": "histogram2d"
           }
          ],
          "histogram2dcontour": [
           {
            "colorbar": {
             "outlinewidth": 0,
             "ticks": ""
            },
            "colorscale": [
             [
              0,
              "#0d0887"
             ],
             [
              0.1111111111111111,
              "#46039f"
             ],
             [
              0.2222222222222222,
              "#7201a8"
             ],
             [
              0.3333333333333333,
              "#9c179e"
             ],
             [
              0.4444444444444444,
              "#bd3786"
             ],
             [
              0.5555555555555556,
              "#d8576b"
             ],
             [
              0.6666666666666666,
              "#ed7953"
             ],
             [
              0.7777777777777778,
              "#fb9f3a"
             ],
             [
              0.8888888888888888,
              "#fdca26"
             ],
             [
              1,
              "#f0f921"
             ]
            ],
            "type": "histogram2dcontour"
           }
          ],
          "mesh3d": [
           {
            "colorbar": {
             "outlinewidth": 0,
             "ticks": ""
            },
            "type": "mesh3d"
           }
          ],
          "parcoords": [
           {
            "line": {
             "colorbar": {
              "outlinewidth": 0,
              "ticks": ""
             }
            },
            "type": "parcoords"
           }
          ],
          "pie": [
           {
            "automargin": true,
            "type": "pie"
           }
          ],
          "scatter": [
           {
            "marker": {
             "colorbar": {
              "outlinewidth": 0,
              "ticks": ""
             }
            },
            "type": "scatter"
           }
          ],
          "scatter3d": [
           {
            "line": {
             "colorbar": {
              "outlinewidth": 0,
              "ticks": ""
             }
            },
            "marker": {
             "colorbar": {
              "outlinewidth": 0,
              "ticks": ""
             }
            },
            "type": "scatter3d"
           }
          ],
          "scattercarpet": [
           {
            "marker": {
             "colorbar": {
              "outlinewidth": 0,
              "ticks": ""
             }
            },
            "type": "scattercarpet"
           }
          ],
          "scattergeo": [
           {
            "marker": {
             "colorbar": {
              "outlinewidth": 0,
              "ticks": ""
             }
            },
            "type": "scattergeo"
           }
          ],
          "scattergl": [
           {
            "marker": {
             "colorbar": {
              "outlinewidth": 0,
              "ticks": ""
             }
            },
            "type": "scattergl"
           }
          ],
          "scattermapbox": [
           {
            "marker": {
             "colorbar": {
              "outlinewidth": 0,
              "ticks": ""
             }
            },
            "type": "scattermapbox"
           }
          ],
          "scatterpolar": [
           {
            "marker": {
             "colorbar": {
              "outlinewidth": 0,
              "ticks": ""
             }
            },
            "type": "scatterpolar"
           }
          ],
          "scatterpolargl": [
           {
            "marker": {
             "colorbar": {
              "outlinewidth": 0,
              "ticks": ""
             }
            },
            "type": "scatterpolargl"
           }
          ],
          "scatterternary": [
           {
            "marker": {
             "colorbar": {
              "outlinewidth": 0,
              "ticks": ""
             }
            },
            "type": "scatterternary"
           }
          ],
          "surface": [
           {
            "colorbar": {
             "outlinewidth": 0,
             "ticks": ""
            },
            "colorscale": [
             [
              0,
              "#0d0887"
             ],
             [
              0.1111111111111111,
              "#46039f"
             ],
             [
              0.2222222222222222,
              "#7201a8"
             ],
             [
              0.3333333333333333,
              "#9c179e"
             ],
             [
              0.4444444444444444,
              "#bd3786"
             ],
             [
              0.5555555555555556,
              "#d8576b"
             ],
             [
              0.6666666666666666,
              "#ed7953"
             ],
             [
              0.7777777777777778,
              "#fb9f3a"
             ],
             [
              0.8888888888888888,
              "#fdca26"
             ],
             [
              1,
              "#f0f921"
             ]
            ],
            "type": "surface"
           }
          ],
          "table": [
           {
            "cells": {
             "fill": {
              "color": "#EBF0F8"
             },
             "line": {
              "color": "white"
             }
            },
            "header": {
             "fill": {
              "color": "#C8D4E3"
             },
             "line": {
              "color": "white"
             }
            },
            "type": "table"
           }
          ]
         },
         "layout": {
          "annotationdefaults": {
           "arrowcolor": "#2a3f5f",
           "arrowhead": 0,
           "arrowwidth": 1
          },
          "autotypenumbers": "strict",
          "coloraxis": {
           "colorbar": {
            "outlinewidth": 0,
            "ticks": ""
           }
          },
          "colorscale": {
           "diverging": [
            [
             0,
             "#8e0152"
            ],
            [
             0.1,
             "#c51b7d"
            ],
            [
             0.2,
             "#de77ae"
            ],
            [
             0.3,
             "#f1b6da"
            ],
            [
             0.4,
             "#fde0ef"
            ],
            [
             0.5,
             "#f7f7f7"
            ],
            [
             0.6,
             "#e6f5d0"
            ],
            [
             0.7,
             "#b8e186"
            ],
            [
             0.8,
             "#7fbc41"
            ],
            [
             0.9,
             "#4d9221"
            ],
            [
             1,
             "#276419"
            ]
           ],
           "sequential": [
            [
             0,
             "#0d0887"
            ],
            [
             0.1111111111111111,
             "#46039f"
            ],
            [
             0.2222222222222222,
             "#7201a8"
            ],
            [
             0.3333333333333333,
             "#9c179e"
            ],
            [
             0.4444444444444444,
             "#bd3786"
            ],
            [
             0.5555555555555556,
             "#d8576b"
            ],
            [
             0.6666666666666666,
             "#ed7953"
            ],
            [
             0.7777777777777778,
             "#fb9f3a"
            ],
            [
             0.8888888888888888,
             "#fdca26"
            ],
            [
             1,
             "#f0f921"
            ]
           ],
           "sequentialminus": [
            [
             0,
             "#0d0887"
            ],
            [
             0.1111111111111111,
             "#46039f"
            ],
            [
             0.2222222222222222,
             "#7201a8"
            ],
            [
             0.3333333333333333,
             "#9c179e"
            ],
            [
             0.4444444444444444,
             "#bd3786"
            ],
            [
             0.5555555555555556,
             "#d8576b"
            ],
            [
             0.6666666666666666,
             "#ed7953"
            ],
            [
             0.7777777777777778,
             "#fb9f3a"
            ],
            [
             0.8888888888888888,
             "#fdca26"
            ],
            [
             1,
             "#f0f921"
            ]
           ]
          },
          "colorway": [
           "#636efa",
           "#EF553B",
           "#00cc96",
           "#ab63fa",
           "#FFA15A",
           "#19d3f3",
           "#FF6692",
           "#B6E880",
           "#FF97FF",
           "#FECB52"
          ],
          "font": {
           "color": "#2a3f5f"
          },
          "geo": {
           "bgcolor": "white",
           "lakecolor": "white",
           "landcolor": "#E5ECF6",
           "showlakes": true,
           "showland": true,
           "subunitcolor": "white"
          },
          "hoverlabel": {
           "align": "left"
          },
          "hovermode": "closest",
          "mapbox": {
           "style": "light"
          },
          "paper_bgcolor": "white",
          "plot_bgcolor": "#E5ECF6",
          "polar": {
           "angularaxis": {
            "gridcolor": "white",
            "linecolor": "white",
            "ticks": ""
           },
           "bgcolor": "#E5ECF6",
           "radialaxis": {
            "gridcolor": "white",
            "linecolor": "white",
            "ticks": ""
           }
          },
          "scene": {
           "xaxis": {
            "backgroundcolor": "#E5ECF6",
            "gridcolor": "white",
            "gridwidth": 2,
            "linecolor": "white",
            "showbackground": true,
            "ticks": "",
            "zerolinecolor": "white"
           },
           "yaxis": {
            "backgroundcolor": "#E5ECF6",
            "gridcolor": "white",
            "gridwidth": 2,
            "linecolor": "white",
            "showbackground": true,
            "ticks": "",
            "zerolinecolor": "white"
           },
           "zaxis": {
            "backgroundcolor": "#E5ECF6",
            "gridcolor": "white",
            "gridwidth": 2,
            "linecolor": "white",
            "showbackground": true,
            "ticks": "",
            "zerolinecolor": "white"
           }
          },
          "shapedefaults": {
           "line": {
            "color": "#2a3f5f"
           }
          },
          "ternary": {
           "aaxis": {
            "gridcolor": "white",
            "linecolor": "white",
            "ticks": ""
           },
           "baxis": {
            "gridcolor": "white",
            "linecolor": "white",
            "ticks": ""
           },
           "bgcolor": "#E5ECF6",
           "caxis": {
            "gridcolor": "white",
            "linecolor": "white",
            "ticks": ""
           }
          },
          "title": {
           "x": 0.05
          },
          "xaxis": {
           "automargin": true,
           "gridcolor": "white",
           "linecolor": "white",
           "ticks": "",
           "title": {
            "standoff": 15
           },
           "zerolinecolor": "white",
           "zerolinewidth": 2
          },
          "yaxis": {
           "automargin": true,
           "gridcolor": "white",
           "linecolor": "white",
           "ticks": "",
           "title": {
            "standoff": 15
           },
           "zerolinecolor": "white",
           "zerolinewidth": 2
          }
         }
        },
        "xaxis": {
         "anchor": "y",
         "domain": [
          0,
          1
         ],
         "title": {
          "text": "Interceptions Per Match"
         }
        },
        "yaxis": {
         "anchor": "x",
         "domain": [
          0,
          1
         ],
         "title": {
          "text": "Recoveries Per Match"
         }
        }
       }
      },
      "text/html": [
       "<div>                            <div id=\"083cbe61-54ba-4884-9eb1-8e0ec648f2cd\" class=\"plotly-graph-div\" style=\"height:525px; width:100%;\"></div>            <script type=\"text/javascript\">                require([\"plotly\"], function(Plotly) {                    window.PLOTLYENV=window.PLOTLYENV || {};                                    if (document.getElementById(\"083cbe61-54ba-4884-9eb1-8e0ec648f2cd\")) {                    Plotly.newPlot(                        \"083cbe61-54ba-4884-9eb1-8e0ec648f2cd\",                        [{\"hovertemplate\": \"player=Keira Walsh<br>Interceptions Per Match=%{x}<br>Recoveries Per Match=%{y}<br>recoveries=%{marker.size}<extra></extra>\", \"legendgroup\": \"Keira Walsh\", \"marker\": {\"color\": \"#636efa\", \"size\": [113], \"sizemode\": \"area\", \"sizeref\": 0.3975, \"symbol\": \"circle\"}, \"mode\": \"markers\", \"name\": \"Keira Walsh\", \"orientation\": \"v\", \"showlegend\": true, \"type\": \"scatter\", \"x\": [1.8461538461538465], \"xaxis\": \"x\", \"y\": [5.65], \"yaxis\": \"y\"}, {\"hovertemplate\": \"player=Lia W\\u00e4lti<br>Interceptions Per Match=%{x}<br>Recoveries Per Match=%{y}<br>recoveries=%{marker.size}<extra></extra>\", \"legendgroup\": \"Lia W\\u00e4lti\", \"marker\": {\"color\": \"#EF553B\", \"size\": [112], \"sizemode\": \"area\", \"sizeref\": 0.3975, \"symbol\": \"circle\"}, \"mode\": \"markers\", \"name\": \"Lia W\\u00e4lti\", \"orientation\": \"v\", \"showlegend\": true, \"type\": \"scatter\", \"x\": [1.6923076923076923], \"xaxis\": \"x\", \"y\": [6.222222222222222], \"yaxis\": \"y\"}, {\"hovertemplate\": \"player=Angharad James<br>Interceptions Per Match=%{x}<br>Recoveries Per Match=%{y}<br>recoveries=%{marker.size}<extra></extra>\", \"legendgroup\": \"Angharad James\", \"marker\": {\"color\": \"#00cc96\", \"size\": [159], \"sizemode\": \"area\", \"sizeref\": 0.3975, \"symbol\": \"circle\"}, \"mode\": \"markers\", \"name\": \"Angharad James\", \"orientation\": \"v\", \"showlegend\": true, \"type\": \"scatter\", \"x\": [2.888888888888889], \"xaxis\": \"x\", \"y\": [7.227272727272727], \"yaxis\": \"y\"}, {\"hovertemplate\": \"player=Katie Zelem<br>Interceptions Per Match=%{x}<br>Recoveries Per Match=%{y}<br>recoveries=%{marker.size}<extra></extra>\", \"legendgroup\": \"Katie Zelem\", \"marker\": {\"color\": \"#ab63fa\", \"size\": [126], \"sizemode\": \"area\", \"sizeref\": 0.3975, \"symbol\": \"circle\"}, \"mode\": \"markers\", \"name\": \"Katie Zelem\", \"orientation\": \"v\", \"showlegend\": true, \"type\": \"scatter\", \"x\": [2.25], \"xaxis\": \"x\", \"y\": [7.411764705882352], \"yaxis\": \"y\"}, {\"hovertemplate\": \"player=Melanie Leupolz<br>Interceptions Per Match=%{x}<br>Recoveries Per Match=%{y}<br>recoveries=%{marker.size}<extra></extra>\", \"legendgroup\": \"Melanie Leupolz\", \"marker\": {\"color\": \"#FFA15A\", \"size\": [83], \"sizemode\": \"area\", \"sizeref\": 0.3975, \"symbol\": \"circle\"}, \"mode\": \"markers\", \"name\": \"Melanie Leupolz\", \"orientation\": \"v\", \"showlegend\": true, \"type\": \"scatter\", \"x\": [2.0], \"xaxis\": \"x\", \"y\": [4.368421052631579], \"yaxis\": \"y\"}, {\"hovertemplate\": \"player=Jessica Fishlock<br>Interceptions Per Match=%{x}<br>Recoveries Per Match=%{y}<br>recoveries=%{marker.size}<extra></extra>\", \"legendgroup\": \"Jessica Fishlock\", \"marker\": {\"color\": \"#19d3f3\", \"size\": [146], \"sizemode\": \"area\", \"sizeref\": 0.3975, \"symbol\": \"circle\"}, \"mode\": \"markers\", \"name\": \"Jessica Fishlock\", \"orientation\": \"v\", \"showlegend\": true, \"type\": \"scatter\", \"x\": [2.1333333333333333], \"xaxis\": \"x\", \"y\": [7.684210526315789], \"yaxis\": \"y\"}, {\"hovertemplate\": \"player=Sophie Louise Ingle<br>Interceptions Per Match=%{x}<br>Recoveries Per Match=%{y}<br>recoveries=%{marker.size}<extra></extra>\", \"legendgroup\": \"Sophie Louise Ingle\", \"marker\": {\"color\": \"#FF6692\", \"size\": [66], \"sizemode\": \"area\", \"sizeref\": 0.3975, \"symbol\": \"circle\"}, \"mode\": \"markers\", \"name\": \"Sophie Louise Ingle\", \"orientation\": \"v\", \"showlegend\": true, \"type\": \"scatter\", \"x\": [2.142857142857143], \"xaxis\": \"x\", \"y\": [4.125], \"yaxis\": \"y\"}, {\"hovertemplate\": \"player=Jackie Groenen<br>Interceptions Per Match=%{x}<br>Recoveries Per Match=%{y}<br>recoveries=%{marker.size}<extra></extra>\", \"legendgroup\": \"Jackie Groenen\", \"marker\": {\"color\": \"#B6E880\", \"size\": [135], \"sizemode\": \"area\", \"sizeref\": 0.3975, \"symbol\": \"circle\"}, \"mode\": \"markers\", \"name\": \"Jackie Groenen\", \"orientation\": \"v\", \"showlegend\": true, \"type\": \"scatter\", \"x\": [1.5454545454545454], \"xaxis\": \"x\", \"y\": [6.428571428571429], \"yaxis\": \"y\"}, {\"hovertemplate\": \"player=Jill Scott<br>Interceptions Per Match=%{x}<br>Recoveries Per Match=%{y}<br>recoveries=%{marker.size}<extra></extra>\", \"legendgroup\": \"Jill Scott\", \"marker\": {\"color\": \"#FF97FF\", \"size\": [91], \"sizemode\": \"area\", \"sizeref\": 0.3975, \"symbol\": \"circle\"}, \"mode\": \"markers\", \"name\": \"Jill Scott\", \"orientation\": \"v\", \"showlegend\": true, \"type\": \"scatter\", \"x\": [2.375], \"xaxis\": \"x\", \"y\": [5.6875], \"yaxis\": \"y\"}, {\"hovertemplate\": \"player=Alanna Stephanie Kennedy<br>Interceptions Per Match=%{x}<br>Recoveries Per Match=%{y}<br>recoveries=%{marker.size}<extra></extra>\", \"legendgroup\": \"Alanna Stephanie Kennedy\", \"marker\": {\"color\": \"#FECB52\", \"size\": [100], \"sizemode\": \"area\", \"sizeref\": 0.3975, \"symbol\": \"circle\"}, \"mode\": \"markers\", \"name\": \"Alanna Stephanie Kennedy\", \"orientation\": \"v\", \"showlegend\": true, \"type\": \"scatter\", \"x\": [2.363636363636364], \"xaxis\": \"x\", \"y\": [5.5555555555555545], \"yaxis\": \"y\"}, {\"hovertemplate\": \"player=Christie Murray<br>Interceptions Per Match=%{x}<br>Recoveries Per Match=%{y}<br>recoveries=%{marker.size}<extra></extra>\", \"legendgroup\": \"Christie Murray\", \"marker\": {\"color\": \"#636efa\", \"size\": [130], \"sizemode\": \"area\", \"sizeref\": 0.3975, \"symbol\": \"circle\"}, \"mode\": \"markers\", \"name\": \"Christie Murray\", \"orientation\": \"v\", \"showlegend\": true, \"type\": \"scatter\", \"x\": [2.090909090909091], \"xaxis\": \"x\", \"y\": [8.125], \"yaxis\": \"y\"}, {\"hovertemplate\": \"player=Kate Longhurst<br>Interceptions Per Match=%{x}<br>Recoveries Per Match=%{y}<br>recoveries=%{marker.size}<extra></extra>\", \"legendgroup\": \"Kate Longhurst\", \"marker\": {\"color\": \"#EF553B\", \"size\": [103], \"sizemode\": \"area\", \"sizeref\": 0.3975, \"symbol\": \"circle\"}, \"mode\": \"markers\", \"name\": \"Kate Longhurst\", \"orientation\": \"v\", \"showlegend\": true, \"type\": \"scatter\", \"x\": [1.4545454545454546], \"xaxis\": \"x\", \"y\": [5.722222222222222], \"yaxis\": \"y\"}, {\"hovertemplate\": \"player=Marisa Ewers<br>Interceptions Per Match=%{x}<br>Recoveries Per Match=%{y}<br>recoveries=%{marker.size}<extra></extra>\", \"legendgroup\": \"Marisa Ewers\", \"marker\": {\"color\": \"#00cc96\", \"size\": [79], \"sizemode\": \"area\", \"sizeref\": 0.3975, \"symbol\": \"circle\"}, \"mode\": \"markers\", \"name\": \"Marisa Ewers\", \"orientation\": \"v\", \"showlegend\": true, \"type\": \"scatter\", \"x\": [2.4375], \"xaxis\": \"x\", \"y\": [4.647058823529412], \"yaxis\": \"y\"}, {\"hovertemplate\": \"player=Josie Green<br>Interceptions Per Match=%{x}<br>Recoveries Per Match=%{y}<br>recoveries=%{marker.size}<extra></extra>\", \"legendgroup\": \"Josie Green\", \"marker\": {\"color\": \"#ab63fa\", \"size\": [86], \"sizemode\": \"area\", \"sizeref\": 0.3975, \"symbol\": \"circle\"}, \"mode\": \"markers\", \"name\": \"Josie Green\", \"orientation\": \"v\", \"showlegend\": true, \"type\": \"scatter\", \"x\": [2.0], \"xaxis\": \"x\", \"y\": [6.142857142857142], \"yaxis\": \"y\"}],                        {\"legend\": {\"itemsizing\": \"constant\", \"title\": {\"text\": \"player\"}, \"tracegroupgap\": 0}, \"margin\": {\"t\": 60}, \"template\": {\"data\": {\"bar\": [{\"error_x\": {\"color\": \"#2a3f5f\"}, \"error_y\": {\"color\": \"#2a3f5f\"}, \"marker\": {\"line\": {\"color\": \"#E5ECF6\", \"width\": 0.5}}, \"type\": \"bar\"}], \"barpolar\": [{\"marker\": {\"line\": {\"color\": \"#E5ECF6\", \"width\": 0.5}}, \"type\": \"barpolar\"}], \"carpet\": [{\"aaxis\": {\"endlinecolor\": \"#2a3f5f\", \"gridcolor\": \"white\", \"linecolor\": \"white\", \"minorgridcolor\": \"white\", \"startlinecolor\": \"#2a3f5f\"}, \"baxis\": {\"endlinecolor\": \"#2a3f5f\", \"gridcolor\": \"white\", \"linecolor\": \"white\", \"minorgridcolor\": \"white\", \"startlinecolor\": \"#2a3f5f\"}, \"type\": \"carpet\"}], \"choropleth\": [{\"colorbar\": {\"outlinewidth\": 0, \"ticks\": \"\"}, \"type\": \"choropleth\"}], \"contour\": [{\"colorbar\": {\"outlinewidth\": 0, \"ticks\": \"\"}, \"colorscale\": [[0.0, \"#0d0887\"], [0.1111111111111111, \"#46039f\"], [0.2222222222222222, \"#7201a8\"], [0.3333333333333333, \"#9c179e\"], [0.4444444444444444, \"#bd3786\"], [0.5555555555555556, \"#d8576b\"], [0.6666666666666666, \"#ed7953\"], [0.7777777777777778, \"#fb9f3a\"], [0.8888888888888888, \"#fdca26\"], [1.0, \"#f0f921\"]], \"type\": \"contour\"}], \"contourcarpet\": [{\"colorbar\": {\"outlinewidth\": 0, \"ticks\": \"\"}, \"type\": \"contourcarpet\"}], \"heatmap\": [{\"colorbar\": {\"outlinewidth\": 0, \"ticks\": \"\"}, \"colorscale\": [[0.0, \"#0d0887\"], [0.1111111111111111, \"#46039f\"], [0.2222222222222222, \"#7201a8\"], [0.3333333333333333, \"#9c179e\"], [0.4444444444444444, \"#bd3786\"], [0.5555555555555556, \"#d8576b\"], [0.6666666666666666, \"#ed7953\"], [0.7777777777777778, \"#fb9f3a\"], [0.8888888888888888, \"#fdca26\"], [1.0, \"#f0f921\"]], \"type\": \"heatmap\"}], \"heatmapgl\": [{\"colorbar\": {\"outlinewidth\": 0, \"ticks\": \"\"}, \"colorscale\": [[0.0, \"#0d0887\"], [0.1111111111111111, \"#46039f\"], [0.2222222222222222, \"#7201a8\"], [0.3333333333333333, \"#9c179e\"], [0.4444444444444444, \"#bd3786\"], [0.5555555555555556, \"#d8576b\"], [0.6666666666666666, \"#ed7953\"], [0.7777777777777778, \"#fb9f3a\"], [0.8888888888888888, \"#fdca26\"], [1.0, \"#f0f921\"]], \"type\": \"heatmapgl\"}], \"histogram\": [{\"marker\": {\"colorbar\": {\"outlinewidth\": 0, \"ticks\": \"\"}}, \"type\": \"histogram\"}], \"histogram2d\": [{\"colorbar\": {\"outlinewidth\": 0, \"ticks\": \"\"}, \"colorscale\": [[0.0, \"#0d0887\"], [0.1111111111111111, \"#46039f\"], [0.2222222222222222, \"#7201a8\"], [0.3333333333333333, \"#9c179e\"], [0.4444444444444444, \"#bd3786\"], [0.5555555555555556, \"#d8576b\"], [0.6666666666666666, \"#ed7953\"], [0.7777777777777778, \"#fb9f3a\"], [0.8888888888888888, \"#fdca26\"], [1.0, \"#f0f921\"]], \"type\": \"histogram2d\"}], \"histogram2dcontour\": [{\"colorbar\": {\"outlinewidth\": 0, \"ticks\": \"\"}, \"colorscale\": [[0.0, \"#0d0887\"], [0.1111111111111111, \"#46039f\"], [0.2222222222222222, \"#7201a8\"], [0.3333333333333333, \"#9c179e\"], [0.4444444444444444, \"#bd3786\"], [0.5555555555555556, \"#d8576b\"], [0.6666666666666666, \"#ed7953\"], [0.7777777777777778, \"#fb9f3a\"], [0.8888888888888888, \"#fdca26\"], [1.0, \"#f0f921\"]], \"type\": \"histogram2dcontour\"}], \"mesh3d\": [{\"colorbar\": {\"outlinewidth\": 0, \"ticks\": \"\"}, \"type\": \"mesh3d\"}], \"parcoords\": [{\"line\": {\"colorbar\": {\"outlinewidth\": 0, \"ticks\": \"\"}}, \"type\": \"parcoords\"}], \"pie\": [{\"automargin\": true, \"type\": \"pie\"}], \"scatter\": [{\"marker\": {\"colorbar\": {\"outlinewidth\": 0, \"ticks\": \"\"}}, \"type\": \"scatter\"}], \"scatter3d\": [{\"line\": {\"colorbar\": {\"outlinewidth\": 0, \"ticks\": \"\"}}, \"marker\": {\"colorbar\": {\"outlinewidth\": 0, \"ticks\": \"\"}}, \"type\": \"scatter3d\"}], \"scattercarpet\": [{\"marker\": {\"colorbar\": {\"outlinewidth\": 0, \"ticks\": \"\"}}, \"type\": \"scattercarpet\"}], \"scattergeo\": [{\"marker\": {\"colorbar\": {\"outlinewidth\": 0, \"ticks\": \"\"}}, \"type\": \"scattergeo\"}], \"scattergl\": [{\"marker\": {\"colorbar\": {\"outlinewidth\": 0, \"ticks\": \"\"}}, \"type\": \"scattergl\"}], \"scattermapbox\": [{\"marker\": {\"colorbar\": {\"outlinewidth\": 0, \"ticks\": \"\"}}, \"type\": \"scattermapbox\"}], \"scatterpolar\": [{\"marker\": {\"colorbar\": {\"outlinewidth\": 0, \"ticks\": \"\"}}, \"type\": \"scatterpolar\"}], \"scatterpolargl\": [{\"marker\": {\"colorbar\": {\"outlinewidth\": 0, \"ticks\": \"\"}}, \"type\": \"scatterpolargl\"}], \"scatterternary\": [{\"marker\": {\"colorbar\": {\"outlinewidth\": 0, \"ticks\": \"\"}}, \"type\": \"scatterternary\"}], \"surface\": [{\"colorbar\": {\"outlinewidth\": 0, \"ticks\": \"\"}, \"colorscale\": [[0.0, \"#0d0887\"], [0.1111111111111111, \"#46039f\"], [0.2222222222222222, \"#7201a8\"], [0.3333333333333333, \"#9c179e\"], [0.4444444444444444, \"#bd3786\"], [0.5555555555555556, \"#d8576b\"], [0.6666666666666666, \"#ed7953\"], [0.7777777777777778, \"#fb9f3a\"], [0.8888888888888888, \"#fdca26\"], [1.0, \"#f0f921\"]], \"type\": \"surface\"}], \"table\": [{\"cells\": {\"fill\": {\"color\": \"#EBF0F8\"}, \"line\": {\"color\": \"white\"}}, \"header\": {\"fill\": {\"color\": \"#C8D4E3\"}, \"line\": {\"color\": \"white\"}}, \"type\": \"table\"}]}, \"layout\": {\"annotationdefaults\": {\"arrowcolor\": \"#2a3f5f\", \"arrowhead\": 0, \"arrowwidth\": 1}, \"autotypenumbers\": \"strict\", \"coloraxis\": {\"colorbar\": {\"outlinewidth\": 0, \"ticks\": \"\"}}, \"colorscale\": {\"diverging\": [[0, \"#8e0152\"], [0.1, \"#c51b7d\"], [0.2, \"#de77ae\"], [0.3, \"#f1b6da\"], [0.4, \"#fde0ef\"], [0.5, \"#f7f7f7\"], [0.6, \"#e6f5d0\"], [0.7, \"#b8e186\"], [0.8, \"#7fbc41\"], [0.9, \"#4d9221\"], [1, \"#276419\"]], \"sequential\": [[0.0, \"#0d0887\"], [0.1111111111111111, \"#46039f\"], [0.2222222222222222, \"#7201a8\"], [0.3333333333333333, \"#9c179e\"], [0.4444444444444444, \"#bd3786\"], [0.5555555555555556, \"#d8576b\"], [0.6666666666666666, \"#ed7953\"], [0.7777777777777778, \"#fb9f3a\"], [0.8888888888888888, \"#fdca26\"], [1.0, \"#f0f921\"]], \"sequentialminus\": [[0.0, \"#0d0887\"], [0.1111111111111111, \"#46039f\"], [0.2222222222222222, \"#7201a8\"], [0.3333333333333333, \"#9c179e\"], [0.4444444444444444, \"#bd3786\"], [0.5555555555555556, \"#d8576b\"], [0.6666666666666666, \"#ed7953\"], [0.7777777777777778, \"#fb9f3a\"], [0.8888888888888888, \"#fdca26\"], [1.0, \"#f0f921\"]]}, \"colorway\": [\"#636efa\", \"#EF553B\", \"#00cc96\", \"#ab63fa\", \"#FFA15A\", \"#19d3f3\", \"#FF6692\", \"#B6E880\", \"#FF97FF\", \"#FECB52\"], \"font\": {\"color\": \"#2a3f5f\"}, \"geo\": {\"bgcolor\": \"white\", \"lakecolor\": \"white\", \"landcolor\": \"#E5ECF6\", \"showlakes\": true, \"showland\": true, \"subunitcolor\": \"white\"}, \"hoverlabel\": {\"align\": \"left\"}, \"hovermode\": \"closest\", \"mapbox\": {\"style\": \"light\"}, \"paper_bgcolor\": \"white\", \"plot_bgcolor\": \"#E5ECF6\", \"polar\": {\"angularaxis\": {\"gridcolor\": \"white\", \"linecolor\": \"white\", \"ticks\": \"\"}, \"bgcolor\": \"#E5ECF6\", \"radialaxis\": {\"gridcolor\": \"white\", \"linecolor\": \"white\", \"ticks\": \"\"}}, \"scene\": {\"xaxis\": {\"backgroundcolor\": \"#E5ECF6\", \"gridcolor\": \"white\", \"gridwidth\": 2, \"linecolor\": \"white\", \"showbackground\": true, \"ticks\": \"\", \"zerolinecolor\": \"white\"}, \"yaxis\": {\"backgroundcolor\": \"#E5ECF6\", \"gridcolor\": \"white\", \"gridwidth\": 2, \"linecolor\": \"white\", \"showbackground\": true, \"ticks\": \"\", \"zerolinecolor\": \"white\"}, \"zaxis\": {\"backgroundcolor\": \"#E5ECF6\", \"gridcolor\": \"white\", \"gridwidth\": 2, \"linecolor\": \"white\", \"showbackground\": true, \"ticks\": \"\", \"zerolinecolor\": \"white\"}}, \"shapedefaults\": {\"line\": {\"color\": \"#2a3f5f\"}}, \"ternary\": {\"aaxis\": {\"gridcolor\": \"white\", \"linecolor\": \"white\", \"ticks\": \"\"}, \"baxis\": {\"gridcolor\": \"white\", \"linecolor\": \"white\", \"ticks\": \"\"}, \"bgcolor\": \"#E5ECF6\", \"caxis\": {\"gridcolor\": \"white\", \"linecolor\": \"white\", \"ticks\": \"\"}}, \"title\": {\"x\": 0.05}, \"xaxis\": {\"automargin\": true, \"gridcolor\": \"white\", \"linecolor\": \"white\", \"ticks\": \"\", \"title\": {\"standoff\": 15}, \"zerolinecolor\": \"white\", \"zerolinewidth\": 2}, \"yaxis\": {\"automargin\": true, \"gridcolor\": \"white\", \"linecolor\": \"white\", \"ticks\": \"\", \"title\": {\"standoff\": 15}, \"zerolinecolor\": \"white\", \"zerolinewidth\": 2}}}, \"xaxis\": {\"anchor\": \"y\", \"domain\": [0.0, 1.0], \"title\": {\"text\": \"Interceptions Per Match\"}}, \"yaxis\": {\"anchor\": \"x\", \"domain\": [0.0, 1.0], \"title\": {\"text\": \"Recoveries Per Match\"}}},                        {\"responsive\": true}                    ).then(function(){\n",
       "                            \n",
       "var gd = document.getElementById('083cbe61-54ba-4884-9eb1-8e0ec648f2cd');\n",
       "var x = new MutationObserver(function (mutations, observer) {{\n",
       "        var display = window.getComputedStyle(gd).display;\n",
       "        if (!display || display === 'none') {{\n",
       "            console.log([gd, 'removed!']);\n",
       "            Plotly.purge(gd);\n",
       "            observer.disconnect();\n",
       "        }}\n",
       "}});\n",
       "\n",
       "// Listen for the removal of the full notebook cells\n",
       "var notebookContainer = gd.closest('#notebook-container');\n",
       "if (notebookContainer) {{\n",
       "    x.observe(notebookContainer, {childList: true});\n",
       "}}\n",
       "\n",
       "// Listen for the clearing of the current output cell\n",
       "var outputEl = gd.closest('.output');\n",
       "if (outputEl) {{\n",
       "    x.observe(outputEl, {childList: true});\n",
       "}}\n",
       "\n",
       "                        })                };                });            </script>        </div>"
      ]
     },
     "metadata": {},
     "output_type": "display_data"
    }
   ],
   "source": [
    "fig = px.scatter(players, x=\"ints_per_match\", y=\"recs_per_match\", size='recoveries', color=\"player\",\n",
    "                 labels = dict(ints_per_match = 'Interceptions Per Match', recs_per_match='Recoveries Per Match'))\n",
    "fig.show()"
   ]
  },
  {
   "cell_type": "markdown",
   "id": "18ebd40e",
   "metadata": {},
   "source": [
    "- Breaking up opposition play through interceptions and recoveries is also important to have for a CDM. Higher numbers in those areas suggest more productivity in the defensive aspect of the game. It is also important to note that a possession oriented team is less likely to have players making constant interceptions and recoveries due to having the ball so much already. Players playing in those teams are likely to have highern numbers in passing stats. For example looking at the two graphs above, it can be seen that Keira Walsh has the highest number of passes and the highest passing accuracy but relatively lower numbers in interceptions and recoveries per match. This might suggest Manchester City playing a more possession oriented style. Another similar example is Lia Walti whose team might also be playing possession football.\n",
    "\n",
    "\n",
    "\n",
    "\n",
    "- Sometimes teams like to deploy with two CDMs working together in a pivot with each having slightly differing roles. For example Katie Zelem's high numbers in interceptions and recoveries per match alongside Jackie Groenen's higher number of assists and dribbles might suggest that Manchester United operate in a pivot with Groenen as more of a playmaker while Zelem is more focused on breaking up opposition play.\n",
    "\n",
    "\n",
    "\n",
    "\n",
    "- With the above in mind, Angharad James, Katie Zelem, Jessica Fishlock and Christie Murray show impressive numbers in interceptions and recoveries per match."
   ]
  },
  {
   "cell_type": "markdown",
   "id": "e46f8788",
   "metadata": {},
   "source": [
    "## Winning the ball and winning with the ball"
   ]
  },
  {
   "cell_type": "code",
   "execution_count": 27,
   "id": "be7f9b38",
   "metadata": {},
   "outputs": [
    {
     "data": {
      "application/vnd.plotly.v1+json": {
       "config": {
        "plotlyServerURL": "https://plot.ly"
       },
       "data": [
        {
         "hovertemplate": "player=Keira Walsh<br>dribble_success_rate=%{x}<br>duel_success_rate=%{y}<br>duels=%{marker.size}<extra></extra>",
         "legendgroup": "Keira Walsh",
         "marker": {
          "color": "#636efa",
          "size": [
           51
          ],
          "sizemode": "area",
          "sizeref": 0.26,
          "symbol": "circle"
         },
         "mode": "markers",
         "name": "Keira Walsh",
         "orientation": "v",
         "showlegend": true,
         "type": "scatter",
         "x": [
          54.54545454545454
         ],
         "xaxis": "x",
         "y": [
          64.70588235294117
         ],
         "yaxis": "y"
        },
        {
         "hovertemplate": "player=Lia Wälti<br>dribble_success_rate=%{x}<br>duel_success_rate=%{y}<br>duels=%{marker.size}<extra></extra>",
         "legendgroup": "Lia Wälti",
         "marker": {
          "color": "#EF553B",
          "size": [
           82
          ],
          "sizemode": "area",
          "sizeref": 0.26,
          "symbol": "circle"
         },
         "mode": "markers",
         "name": "Lia Wälti",
         "orientation": "v",
         "showlegend": true,
         "type": "scatter",
         "x": [
          85.71428571428571
         ],
         "xaxis": "x",
         "y": [
          47.5609756097561
         ],
         "yaxis": "y"
        },
        {
         "hovertemplate": "player=Angharad James<br>dribble_success_rate=%{x}<br>duel_success_rate=%{y}<br>duels=%{marker.size}<extra></extra>",
         "legendgroup": "Angharad James",
         "marker": {
          "color": "#00cc96",
          "size": [
           104
          ],
          "sizemode": "area",
          "sizeref": 0.26,
          "symbol": "circle"
         },
         "mode": "markers",
         "name": "Angharad James",
         "orientation": "v",
         "showlegend": true,
         "type": "scatter",
         "x": [
          61.53846153846154
         ],
         "xaxis": "x",
         "y": [
          44.230769230769226
         ],
         "yaxis": "y"
        },
        {
         "hovertemplate": "player=Katie Zelem<br>dribble_success_rate=%{x}<br>duel_success_rate=%{y}<br>duels=%{marker.size}<extra></extra>",
         "legendgroup": "Katie Zelem",
         "marker": {
          "color": "#ab63fa",
          "size": [
           57
          ],
          "sizemode": "area",
          "sizeref": 0.26,
          "symbol": "circle"
         },
         "mode": "markers",
         "name": "Katie Zelem",
         "orientation": "v",
         "showlegend": true,
         "type": "scatter",
         "x": [
          86.20689655172413
         ],
         "xaxis": "x",
         "y": [
          47.368421052631575
         ],
         "yaxis": "y"
        },
        {
         "hovertemplate": "player=Melanie Leupolz<br>dribble_success_rate=%{x}<br>duel_success_rate=%{y}<br>duels=%{marker.size}<extra></extra>",
         "legendgroup": "Melanie Leupolz",
         "marker": {
          "color": "#FFA15A",
          "size": [
           61
          ],
          "sizemode": "area",
          "sizeref": 0.26,
          "symbol": "circle"
         },
         "mode": "markers",
         "name": "Melanie Leupolz",
         "orientation": "v",
         "showlegend": true,
         "type": "scatter",
         "x": [
          86.66666666666669
         ],
         "xaxis": "x",
         "y": [
          52.459016393442624
         ],
         "yaxis": "y"
        },
        {
         "hovertemplate": "player=Jessica Fishlock<br>dribble_success_rate=%{x}<br>duel_success_rate=%{y}<br>duels=%{marker.size}<extra></extra>",
         "legendgroup": "Jessica Fishlock",
         "marker": {
          "color": "#19d3f3",
          "size": [
           63
          ],
          "sizemode": "area",
          "sizeref": 0.26,
          "symbol": "circle"
         },
         "mode": "markers",
         "name": "Jessica Fishlock",
         "orientation": "v",
         "showlegend": true,
         "type": "scatter",
         "x": [
          60
         ],
         "xaxis": "x",
         "y": [
          49.2063492063492
         ],
         "yaxis": "y"
        },
        {
         "hovertemplate": "player=Sophie Louise Ingle<br>dribble_success_rate=%{x}<br>duel_success_rate=%{y}<br>duels=%{marker.size}<extra></extra>",
         "legendgroup": "Sophie Louise Ingle",
         "marker": {
          "color": "#FF6692",
          "size": [
           37
          ],
          "sizemode": "area",
          "sizeref": 0.26,
          "symbol": "circle"
         },
         "mode": "markers",
         "name": "Sophie Louise Ingle",
         "orientation": "v",
         "showlegend": true,
         "type": "scatter",
         "x": [
          83.33333333333334
         ],
         "xaxis": "x",
         "y": [
          43.24324324324325
         ],
         "yaxis": "y"
        },
        {
         "hovertemplate": "player=Jackie Groenen<br>dribble_success_rate=%{x}<br>duel_success_rate=%{y}<br>duels=%{marker.size}<extra></extra>",
         "legendgroup": "Jackie Groenen",
         "marker": {
          "color": "#B6E880",
          "size": [
           48
          ],
          "sizemode": "area",
          "sizeref": 0.26,
          "symbol": "circle"
         },
         "mode": "markers",
         "name": "Jackie Groenen",
         "orientation": "v",
         "showlegend": true,
         "type": "scatter",
         "x": [
          71.05263157894737
         ],
         "xaxis": "x",
         "y": [
          72.91666666666666
         ],
         "yaxis": "y"
        },
        {
         "hovertemplate": "player=Jill Scott<br>dribble_success_rate=%{x}<br>duel_success_rate=%{y}<br>duels=%{marker.size}<extra></extra>",
         "legendgroup": "Jill Scott",
         "marker": {
          "color": "#FF97FF",
          "size": [
           67
          ],
          "sizemode": "area",
          "sizeref": 0.26,
          "symbol": "circle"
         },
         "mode": "markers",
         "name": "Jill Scott",
         "orientation": "v",
         "showlegend": true,
         "type": "scatter",
         "x": [
          67.74193548387096
         ],
         "xaxis": "x",
         "y": [
          46.2686567164179
         ],
         "yaxis": "y"
        },
        {
         "hovertemplate": "player=Alanna Stephanie Kennedy<br>dribble_success_rate=%{x}<br>duel_success_rate=%{y}<br>duels=%{marker.size}<extra></extra>",
         "legendgroup": "Alanna Stephanie Kennedy",
         "marker": {
          "color": "#FECB52",
          "size": [
           56
          ],
          "sizemode": "area",
          "sizeref": 0.26,
          "symbol": "circle"
         },
         "mode": "markers",
         "name": "Alanna Stephanie Kennedy",
         "orientation": "v",
         "showlegend": true,
         "type": "scatter",
         "x": [
          76.66666666666667
         ],
         "xaxis": "x",
         "y": [
          33.92857142857143
         ],
         "yaxis": "y"
        },
        {
         "hovertemplate": "player=Christie Murray<br>dribble_success_rate=%{x}<br>duel_success_rate=%{y}<br>duels=%{marker.size}<extra></extra>",
         "legendgroup": "Christie Murray",
         "marker": {
          "color": "#636efa",
          "size": [
           83
          ],
          "sizemode": "area",
          "sizeref": 0.26,
          "symbol": "circle"
         },
         "mode": "markers",
         "name": "Christie Murray",
         "orientation": "v",
         "showlegend": true,
         "type": "scatter",
         "x": [
          78.94736842105263
         ],
         "xaxis": "x",
         "y": [
          50.602409638554214
         ],
         "yaxis": "y"
        },
        {
         "hovertemplate": "player=Kate Longhurst<br>dribble_success_rate=%{x}<br>duel_success_rate=%{y}<br>duels=%{marker.size}<extra></extra>",
         "legendgroup": "Kate Longhurst",
         "marker": {
          "color": "#EF553B",
          "size": [
           44
          ],
          "sizemode": "area",
          "sizeref": 0.26,
          "symbol": "circle"
         },
         "mode": "markers",
         "name": "Kate Longhurst",
         "orientation": "v",
         "showlegend": true,
         "type": "scatter",
         "x": [
          60
         ],
         "xaxis": "x",
         "y": [
          45.45454545454545
         ],
         "yaxis": "y"
        },
        {
         "hovertemplate": "player=Marisa Ewers<br>dribble_success_rate=%{x}<br>duel_success_rate=%{y}<br>duels=%{marker.size}<extra></extra>",
         "legendgroup": "Marisa Ewers",
         "marker": {
          "color": "#00cc96",
          "size": [
           56
          ],
          "sizemode": "area",
          "sizeref": 0.26,
          "symbol": "circle"
         },
         "mode": "markers",
         "name": "Marisa Ewers",
         "orientation": "v",
         "showlegend": true,
         "type": "scatter",
         "x": [
          43.75
         ],
         "xaxis": "x",
         "y": [
          51.78571428571429
         ],
         "yaxis": "y"
        },
        {
         "hovertemplate": "player=Josie Green<br>dribble_success_rate=%{x}<br>duel_success_rate=%{y}<br>duels=%{marker.size}<extra></extra>",
         "legendgroup": "Josie Green",
         "marker": {
          "color": "#ab63fa",
          "size": [
           40
          ],
          "sizemode": "area",
          "sizeref": 0.26,
          "symbol": "circle"
         },
         "mode": "markers",
         "name": "Josie Green",
         "orientation": "v",
         "showlegend": true,
         "type": "scatter",
         "x": [
          41.66666666666667
         ],
         "xaxis": "x",
         "y": [
          32.5
         ],
         "yaxis": "y"
        }
       ],
       "layout": {
        "legend": {
         "itemsizing": "constant",
         "title": {
          "text": "player"
         },
         "tracegroupgap": 0
        },
        "margin": {
         "t": 60
        },
        "template": {
         "data": {
          "bar": [
           {
            "error_x": {
             "color": "#2a3f5f"
            },
            "error_y": {
             "color": "#2a3f5f"
            },
            "marker": {
             "line": {
              "color": "#E5ECF6",
              "width": 0.5
             }
            },
            "type": "bar"
           }
          ],
          "barpolar": [
           {
            "marker": {
             "line": {
              "color": "#E5ECF6",
              "width": 0.5
             }
            },
            "type": "barpolar"
           }
          ],
          "carpet": [
           {
            "aaxis": {
             "endlinecolor": "#2a3f5f",
             "gridcolor": "white",
             "linecolor": "white",
             "minorgridcolor": "white",
             "startlinecolor": "#2a3f5f"
            },
            "baxis": {
             "endlinecolor": "#2a3f5f",
             "gridcolor": "white",
             "linecolor": "white",
             "minorgridcolor": "white",
             "startlinecolor": "#2a3f5f"
            },
            "type": "carpet"
           }
          ],
          "choropleth": [
           {
            "colorbar": {
             "outlinewidth": 0,
             "ticks": ""
            },
            "type": "choropleth"
           }
          ],
          "contour": [
           {
            "colorbar": {
             "outlinewidth": 0,
             "ticks": ""
            },
            "colorscale": [
             [
              0,
              "#0d0887"
             ],
             [
              0.1111111111111111,
              "#46039f"
             ],
             [
              0.2222222222222222,
              "#7201a8"
             ],
             [
              0.3333333333333333,
              "#9c179e"
             ],
             [
              0.4444444444444444,
              "#bd3786"
             ],
             [
              0.5555555555555556,
              "#d8576b"
             ],
             [
              0.6666666666666666,
              "#ed7953"
             ],
             [
              0.7777777777777778,
              "#fb9f3a"
             ],
             [
              0.8888888888888888,
              "#fdca26"
             ],
             [
              1,
              "#f0f921"
             ]
            ],
            "type": "contour"
           }
          ],
          "contourcarpet": [
           {
            "colorbar": {
             "outlinewidth": 0,
             "ticks": ""
            },
            "type": "contourcarpet"
           }
          ],
          "heatmap": [
           {
            "colorbar": {
             "outlinewidth": 0,
             "ticks": ""
            },
            "colorscale": [
             [
              0,
              "#0d0887"
             ],
             [
              0.1111111111111111,
              "#46039f"
             ],
             [
              0.2222222222222222,
              "#7201a8"
             ],
             [
              0.3333333333333333,
              "#9c179e"
             ],
             [
              0.4444444444444444,
              "#bd3786"
             ],
             [
              0.5555555555555556,
              "#d8576b"
             ],
             [
              0.6666666666666666,
              "#ed7953"
             ],
             [
              0.7777777777777778,
              "#fb9f3a"
             ],
             [
              0.8888888888888888,
              "#fdca26"
             ],
             [
              1,
              "#f0f921"
             ]
            ],
            "type": "heatmap"
           }
          ],
          "heatmapgl": [
           {
            "colorbar": {
             "outlinewidth": 0,
             "ticks": ""
            },
            "colorscale": [
             [
              0,
              "#0d0887"
             ],
             [
              0.1111111111111111,
              "#46039f"
             ],
             [
              0.2222222222222222,
              "#7201a8"
             ],
             [
              0.3333333333333333,
              "#9c179e"
             ],
             [
              0.4444444444444444,
              "#bd3786"
             ],
             [
              0.5555555555555556,
              "#d8576b"
             ],
             [
              0.6666666666666666,
              "#ed7953"
             ],
             [
              0.7777777777777778,
              "#fb9f3a"
             ],
             [
              0.8888888888888888,
              "#fdca26"
             ],
             [
              1,
              "#f0f921"
             ]
            ],
            "type": "heatmapgl"
           }
          ],
          "histogram": [
           {
            "marker": {
             "colorbar": {
              "outlinewidth": 0,
              "ticks": ""
             }
            },
            "type": "histogram"
           }
          ],
          "histogram2d": [
           {
            "colorbar": {
             "outlinewidth": 0,
             "ticks": ""
            },
            "colorscale": [
             [
              0,
              "#0d0887"
             ],
             [
              0.1111111111111111,
              "#46039f"
             ],
             [
              0.2222222222222222,
              "#7201a8"
             ],
             [
              0.3333333333333333,
              "#9c179e"
             ],
             [
              0.4444444444444444,
              "#bd3786"
             ],
             [
              0.5555555555555556,
              "#d8576b"
             ],
             [
              0.6666666666666666,
              "#ed7953"
             ],
             [
              0.7777777777777778,
              "#fb9f3a"
             ],
             [
              0.8888888888888888,
              "#fdca26"
             ],
             [
              1,
              "#f0f921"
             ]
            ],
            "type": "histogram2d"
           }
          ],
          "histogram2dcontour": [
           {
            "colorbar": {
             "outlinewidth": 0,
             "ticks": ""
            },
            "colorscale": [
             [
              0,
              "#0d0887"
             ],
             [
              0.1111111111111111,
              "#46039f"
             ],
             [
              0.2222222222222222,
              "#7201a8"
             ],
             [
              0.3333333333333333,
              "#9c179e"
             ],
             [
              0.4444444444444444,
              "#bd3786"
             ],
             [
              0.5555555555555556,
              "#d8576b"
             ],
             [
              0.6666666666666666,
              "#ed7953"
             ],
             [
              0.7777777777777778,
              "#fb9f3a"
             ],
             [
              0.8888888888888888,
              "#fdca26"
             ],
             [
              1,
              "#f0f921"
             ]
            ],
            "type": "histogram2dcontour"
           }
          ],
          "mesh3d": [
           {
            "colorbar": {
             "outlinewidth": 0,
             "ticks": ""
            },
            "type": "mesh3d"
           }
          ],
          "parcoords": [
           {
            "line": {
             "colorbar": {
              "outlinewidth": 0,
              "ticks": ""
             }
            },
            "type": "parcoords"
           }
          ],
          "pie": [
           {
            "automargin": true,
            "type": "pie"
           }
          ],
          "scatter": [
           {
            "marker": {
             "colorbar": {
              "outlinewidth": 0,
              "ticks": ""
             }
            },
            "type": "scatter"
           }
          ],
          "scatter3d": [
           {
            "line": {
             "colorbar": {
              "outlinewidth": 0,
              "ticks": ""
             }
            },
            "marker": {
             "colorbar": {
              "outlinewidth": 0,
              "ticks": ""
             }
            },
            "type": "scatter3d"
           }
          ],
          "scattercarpet": [
           {
            "marker": {
             "colorbar": {
              "outlinewidth": 0,
              "ticks": ""
             }
            },
            "type": "scattercarpet"
           }
          ],
          "scattergeo": [
           {
            "marker": {
             "colorbar": {
              "outlinewidth": 0,
              "ticks": ""
             }
            },
            "type": "scattergeo"
           }
          ],
          "scattergl": [
           {
            "marker": {
             "colorbar": {
              "outlinewidth": 0,
              "ticks": ""
             }
            },
            "type": "scattergl"
           }
          ],
          "scattermapbox": [
           {
            "marker": {
             "colorbar": {
              "outlinewidth": 0,
              "ticks": ""
             }
            },
            "type": "scattermapbox"
           }
          ],
          "scatterpolar": [
           {
            "marker": {
             "colorbar": {
              "outlinewidth": 0,
              "ticks": ""
             }
            },
            "type": "scatterpolar"
           }
          ],
          "scatterpolargl": [
           {
            "marker": {
             "colorbar": {
              "outlinewidth": 0,
              "ticks": ""
             }
            },
            "type": "scatterpolargl"
           }
          ],
          "scatterternary": [
           {
            "marker": {
             "colorbar": {
              "outlinewidth": 0,
              "ticks": ""
             }
            },
            "type": "scatterternary"
           }
          ],
          "surface": [
           {
            "colorbar": {
             "outlinewidth": 0,
             "ticks": ""
            },
            "colorscale": [
             [
              0,
              "#0d0887"
             ],
             [
              0.1111111111111111,
              "#46039f"
             ],
             [
              0.2222222222222222,
              "#7201a8"
             ],
             [
              0.3333333333333333,
              "#9c179e"
             ],
             [
              0.4444444444444444,
              "#bd3786"
             ],
             [
              0.5555555555555556,
              "#d8576b"
             ],
             [
              0.6666666666666666,
              "#ed7953"
             ],
             [
              0.7777777777777778,
              "#fb9f3a"
             ],
             [
              0.8888888888888888,
              "#fdca26"
             ],
             [
              1,
              "#f0f921"
             ]
            ],
            "type": "surface"
           }
          ],
          "table": [
           {
            "cells": {
             "fill": {
              "color": "#EBF0F8"
             },
             "line": {
              "color": "white"
             }
            },
            "header": {
             "fill": {
              "color": "#C8D4E3"
             },
             "line": {
              "color": "white"
             }
            },
            "type": "table"
           }
          ]
         },
         "layout": {
          "annotationdefaults": {
           "arrowcolor": "#2a3f5f",
           "arrowhead": 0,
           "arrowwidth": 1
          },
          "autotypenumbers": "strict",
          "coloraxis": {
           "colorbar": {
            "outlinewidth": 0,
            "ticks": ""
           }
          },
          "colorscale": {
           "diverging": [
            [
             0,
             "#8e0152"
            ],
            [
             0.1,
             "#c51b7d"
            ],
            [
             0.2,
             "#de77ae"
            ],
            [
             0.3,
             "#f1b6da"
            ],
            [
             0.4,
             "#fde0ef"
            ],
            [
             0.5,
             "#f7f7f7"
            ],
            [
             0.6,
             "#e6f5d0"
            ],
            [
             0.7,
             "#b8e186"
            ],
            [
             0.8,
             "#7fbc41"
            ],
            [
             0.9,
             "#4d9221"
            ],
            [
             1,
             "#276419"
            ]
           ],
           "sequential": [
            [
             0,
             "#0d0887"
            ],
            [
             0.1111111111111111,
             "#46039f"
            ],
            [
             0.2222222222222222,
             "#7201a8"
            ],
            [
             0.3333333333333333,
             "#9c179e"
            ],
            [
             0.4444444444444444,
             "#bd3786"
            ],
            [
             0.5555555555555556,
             "#d8576b"
            ],
            [
             0.6666666666666666,
             "#ed7953"
            ],
            [
             0.7777777777777778,
             "#fb9f3a"
            ],
            [
             0.8888888888888888,
             "#fdca26"
            ],
            [
             1,
             "#f0f921"
            ]
           ],
           "sequentialminus": [
            [
             0,
             "#0d0887"
            ],
            [
             0.1111111111111111,
             "#46039f"
            ],
            [
             0.2222222222222222,
             "#7201a8"
            ],
            [
             0.3333333333333333,
             "#9c179e"
            ],
            [
             0.4444444444444444,
             "#bd3786"
            ],
            [
             0.5555555555555556,
             "#d8576b"
            ],
            [
             0.6666666666666666,
             "#ed7953"
            ],
            [
             0.7777777777777778,
             "#fb9f3a"
            ],
            [
             0.8888888888888888,
             "#fdca26"
            ],
            [
             1,
             "#f0f921"
            ]
           ]
          },
          "colorway": [
           "#636efa",
           "#EF553B",
           "#00cc96",
           "#ab63fa",
           "#FFA15A",
           "#19d3f3",
           "#FF6692",
           "#B6E880",
           "#FF97FF",
           "#FECB52"
          ],
          "font": {
           "color": "#2a3f5f"
          },
          "geo": {
           "bgcolor": "white",
           "lakecolor": "white",
           "landcolor": "#E5ECF6",
           "showlakes": true,
           "showland": true,
           "subunitcolor": "white"
          },
          "hoverlabel": {
           "align": "left"
          },
          "hovermode": "closest",
          "mapbox": {
           "style": "light"
          },
          "paper_bgcolor": "white",
          "plot_bgcolor": "#E5ECF6",
          "polar": {
           "angularaxis": {
            "gridcolor": "white",
            "linecolor": "white",
            "ticks": ""
           },
           "bgcolor": "#E5ECF6",
           "radialaxis": {
            "gridcolor": "white",
            "linecolor": "white",
            "ticks": ""
           }
          },
          "scene": {
           "xaxis": {
            "backgroundcolor": "#E5ECF6",
            "gridcolor": "white",
            "gridwidth": 2,
            "linecolor": "white",
            "showbackground": true,
            "ticks": "",
            "zerolinecolor": "white"
           },
           "yaxis": {
            "backgroundcolor": "#E5ECF6",
            "gridcolor": "white",
            "gridwidth": 2,
            "linecolor": "white",
            "showbackground": true,
            "ticks": "",
            "zerolinecolor": "white"
           },
           "zaxis": {
            "backgroundcolor": "#E5ECF6",
            "gridcolor": "white",
            "gridwidth": 2,
            "linecolor": "white",
            "showbackground": true,
            "ticks": "",
            "zerolinecolor": "white"
           }
          },
          "shapedefaults": {
           "line": {
            "color": "#2a3f5f"
           }
          },
          "ternary": {
           "aaxis": {
            "gridcolor": "white",
            "linecolor": "white",
            "ticks": ""
           },
           "baxis": {
            "gridcolor": "white",
            "linecolor": "white",
            "ticks": ""
           },
           "bgcolor": "#E5ECF6",
           "caxis": {
            "gridcolor": "white",
            "linecolor": "white",
            "ticks": ""
           }
          },
          "title": {
           "x": 0.05
          },
          "xaxis": {
           "automargin": true,
           "gridcolor": "white",
           "linecolor": "white",
           "ticks": "",
           "title": {
            "standoff": 15
           },
           "zerolinecolor": "white",
           "zerolinewidth": 2
          },
          "yaxis": {
           "automargin": true,
           "gridcolor": "white",
           "linecolor": "white",
           "ticks": "",
           "title": {
            "standoff": 15
           },
           "zerolinecolor": "white",
           "zerolinewidth": 2
          }
         }
        },
        "xaxis": {
         "anchor": "y",
         "domain": [
          0,
          1
         ],
         "title": {
          "text": "dribble_success_rate"
         }
        },
        "yaxis": {
         "anchor": "x",
         "domain": [
          0,
          1
         ],
         "title": {
          "text": "duel_success_rate"
         }
        }
       }
      },
      "text/html": [
       "<div>                            <div id=\"37e6dfb3-71b0-4e46-a7e2-393154cb8a64\" class=\"plotly-graph-div\" style=\"height:525px; width:100%;\"></div>            <script type=\"text/javascript\">                require([\"plotly\"], function(Plotly) {                    window.PLOTLYENV=window.PLOTLYENV || {};                                    if (document.getElementById(\"37e6dfb3-71b0-4e46-a7e2-393154cb8a64\")) {                    Plotly.newPlot(                        \"37e6dfb3-71b0-4e46-a7e2-393154cb8a64\",                        [{\"hovertemplate\": \"player=Keira Walsh<br>dribble_success_rate=%{x}<br>duel_success_rate=%{y}<br>duels=%{marker.size}<extra></extra>\", \"legendgroup\": \"Keira Walsh\", \"marker\": {\"color\": \"#636efa\", \"size\": [51], \"sizemode\": \"area\", \"sizeref\": 0.26, \"symbol\": \"circle\"}, \"mode\": \"markers\", \"name\": \"Keira Walsh\", \"orientation\": \"v\", \"showlegend\": true, \"type\": \"scatter\", \"x\": [54.54545454545454], \"xaxis\": \"x\", \"y\": [64.70588235294117], \"yaxis\": \"y\"}, {\"hovertemplate\": \"player=Lia W\\u00e4lti<br>dribble_success_rate=%{x}<br>duel_success_rate=%{y}<br>duels=%{marker.size}<extra></extra>\", \"legendgroup\": \"Lia W\\u00e4lti\", \"marker\": {\"color\": \"#EF553B\", \"size\": [82], \"sizemode\": \"area\", \"sizeref\": 0.26, \"symbol\": \"circle\"}, \"mode\": \"markers\", \"name\": \"Lia W\\u00e4lti\", \"orientation\": \"v\", \"showlegend\": true, \"type\": \"scatter\", \"x\": [85.71428571428571], \"xaxis\": \"x\", \"y\": [47.5609756097561], \"yaxis\": \"y\"}, {\"hovertemplate\": \"player=Angharad James<br>dribble_success_rate=%{x}<br>duel_success_rate=%{y}<br>duels=%{marker.size}<extra></extra>\", \"legendgroup\": \"Angharad James\", \"marker\": {\"color\": \"#00cc96\", \"size\": [104], \"sizemode\": \"area\", \"sizeref\": 0.26, \"symbol\": \"circle\"}, \"mode\": \"markers\", \"name\": \"Angharad James\", \"orientation\": \"v\", \"showlegend\": true, \"type\": \"scatter\", \"x\": [61.53846153846154], \"xaxis\": \"x\", \"y\": [44.230769230769226], \"yaxis\": \"y\"}, {\"hovertemplate\": \"player=Katie Zelem<br>dribble_success_rate=%{x}<br>duel_success_rate=%{y}<br>duels=%{marker.size}<extra></extra>\", \"legendgroup\": \"Katie Zelem\", \"marker\": {\"color\": \"#ab63fa\", \"size\": [57], \"sizemode\": \"area\", \"sizeref\": 0.26, \"symbol\": \"circle\"}, \"mode\": \"markers\", \"name\": \"Katie Zelem\", \"orientation\": \"v\", \"showlegend\": true, \"type\": \"scatter\", \"x\": [86.20689655172413], \"xaxis\": \"x\", \"y\": [47.368421052631575], \"yaxis\": \"y\"}, {\"hovertemplate\": \"player=Melanie Leupolz<br>dribble_success_rate=%{x}<br>duel_success_rate=%{y}<br>duels=%{marker.size}<extra></extra>\", \"legendgroup\": \"Melanie Leupolz\", \"marker\": {\"color\": \"#FFA15A\", \"size\": [61], \"sizemode\": \"area\", \"sizeref\": 0.26, \"symbol\": \"circle\"}, \"mode\": \"markers\", \"name\": \"Melanie Leupolz\", \"orientation\": \"v\", \"showlegend\": true, \"type\": \"scatter\", \"x\": [86.66666666666669], \"xaxis\": \"x\", \"y\": [52.459016393442624], \"yaxis\": \"y\"}, {\"hovertemplate\": \"player=Jessica Fishlock<br>dribble_success_rate=%{x}<br>duel_success_rate=%{y}<br>duels=%{marker.size}<extra></extra>\", \"legendgroup\": \"Jessica Fishlock\", \"marker\": {\"color\": \"#19d3f3\", \"size\": [63], \"sizemode\": \"area\", \"sizeref\": 0.26, \"symbol\": \"circle\"}, \"mode\": \"markers\", \"name\": \"Jessica Fishlock\", \"orientation\": \"v\", \"showlegend\": true, \"type\": \"scatter\", \"x\": [60.0], \"xaxis\": \"x\", \"y\": [49.2063492063492], \"yaxis\": \"y\"}, {\"hovertemplate\": \"player=Sophie Louise Ingle<br>dribble_success_rate=%{x}<br>duel_success_rate=%{y}<br>duels=%{marker.size}<extra></extra>\", \"legendgroup\": \"Sophie Louise Ingle\", \"marker\": {\"color\": \"#FF6692\", \"size\": [37], \"sizemode\": \"area\", \"sizeref\": 0.26, \"symbol\": \"circle\"}, \"mode\": \"markers\", \"name\": \"Sophie Louise Ingle\", \"orientation\": \"v\", \"showlegend\": true, \"type\": \"scatter\", \"x\": [83.33333333333334], \"xaxis\": \"x\", \"y\": [43.24324324324325], \"yaxis\": \"y\"}, {\"hovertemplate\": \"player=Jackie Groenen<br>dribble_success_rate=%{x}<br>duel_success_rate=%{y}<br>duels=%{marker.size}<extra></extra>\", \"legendgroup\": \"Jackie Groenen\", \"marker\": {\"color\": \"#B6E880\", \"size\": [48], \"sizemode\": \"area\", \"sizeref\": 0.26, \"symbol\": \"circle\"}, \"mode\": \"markers\", \"name\": \"Jackie Groenen\", \"orientation\": \"v\", \"showlegend\": true, \"type\": \"scatter\", \"x\": [71.05263157894737], \"xaxis\": \"x\", \"y\": [72.91666666666666], \"yaxis\": \"y\"}, {\"hovertemplate\": \"player=Jill Scott<br>dribble_success_rate=%{x}<br>duel_success_rate=%{y}<br>duels=%{marker.size}<extra></extra>\", \"legendgroup\": \"Jill Scott\", \"marker\": {\"color\": \"#FF97FF\", \"size\": [67], \"sizemode\": \"area\", \"sizeref\": 0.26, \"symbol\": \"circle\"}, \"mode\": \"markers\", \"name\": \"Jill Scott\", \"orientation\": \"v\", \"showlegend\": true, \"type\": \"scatter\", \"x\": [67.74193548387096], \"xaxis\": \"x\", \"y\": [46.2686567164179], \"yaxis\": \"y\"}, {\"hovertemplate\": \"player=Alanna Stephanie Kennedy<br>dribble_success_rate=%{x}<br>duel_success_rate=%{y}<br>duels=%{marker.size}<extra></extra>\", \"legendgroup\": \"Alanna Stephanie Kennedy\", \"marker\": {\"color\": \"#FECB52\", \"size\": [56], \"sizemode\": \"area\", \"sizeref\": 0.26, \"symbol\": \"circle\"}, \"mode\": \"markers\", \"name\": \"Alanna Stephanie Kennedy\", \"orientation\": \"v\", \"showlegend\": true, \"type\": \"scatter\", \"x\": [76.66666666666667], \"xaxis\": \"x\", \"y\": [33.92857142857143], \"yaxis\": \"y\"}, {\"hovertemplate\": \"player=Christie Murray<br>dribble_success_rate=%{x}<br>duel_success_rate=%{y}<br>duels=%{marker.size}<extra></extra>\", \"legendgroup\": \"Christie Murray\", \"marker\": {\"color\": \"#636efa\", \"size\": [83], \"sizemode\": \"area\", \"sizeref\": 0.26, \"symbol\": \"circle\"}, \"mode\": \"markers\", \"name\": \"Christie Murray\", \"orientation\": \"v\", \"showlegend\": true, \"type\": \"scatter\", \"x\": [78.94736842105263], \"xaxis\": \"x\", \"y\": [50.602409638554214], \"yaxis\": \"y\"}, {\"hovertemplate\": \"player=Kate Longhurst<br>dribble_success_rate=%{x}<br>duel_success_rate=%{y}<br>duels=%{marker.size}<extra></extra>\", \"legendgroup\": \"Kate Longhurst\", \"marker\": {\"color\": \"#EF553B\", \"size\": [44], \"sizemode\": \"area\", \"sizeref\": 0.26, \"symbol\": \"circle\"}, \"mode\": \"markers\", \"name\": \"Kate Longhurst\", \"orientation\": \"v\", \"showlegend\": true, \"type\": \"scatter\", \"x\": [60.0], \"xaxis\": \"x\", \"y\": [45.45454545454545], \"yaxis\": \"y\"}, {\"hovertemplate\": \"player=Marisa Ewers<br>dribble_success_rate=%{x}<br>duel_success_rate=%{y}<br>duels=%{marker.size}<extra></extra>\", \"legendgroup\": \"Marisa Ewers\", \"marker\": {\"color\": \"#00cc96\", \"size\": [56], \"sizemode\": \"area\", \"sizeref\": 0.26, \"symbol\": \"circle\"}, \"mode\": \"markers\", \"name\": \"Marisa Ewers\", \"orientation\": \"v\", \"showlegend\": true, \"type\": \"scatter\", \"x\": [43.75], \"xaxis\": \"x\", \"y\": [51.78571428571429], \"yaxis\": \"y\"}, {\"hovertemplate\": \"player=Josie Green<br>dribble_success_rate=%{x}<br>duel_success_rate=%{y}<br>duels=%{marker.size}<extra></extra>\", \"legendgroup\": \"Josie Green\", \"marker\": {\"color\": \"#ab63fa\", \"size\": [40], \"sizemode\": \"area\", \"sizeref\": 0.26, \"symbol\": \"circle\"}, \"mode\": \"markers\", \"name\": \"Josie Green\", \"orientation\": \"v\", \"showlegend\": true, \"type\": \"scatter\", \"x\": [41.66666666666667], \"xaxis\": \"x\", \"y\": [32.5], \"yaxis\": \"y\"}],                        {\"legend\": {\"itemsizing\": \"constant\", \"title\": {\"text\": \"player\"}, \"tracegroupgap\": 0}, \"margin\": {\"t\": 60}, \"template\": {\"data\": {\"bar\": [{\"error_x\": {\"color\": \"#2a3f5f\"}, \"error_y\": {\"color\": \"#2a3f5f\"}, \"marker\": {\"line\": {\"color\": \"#E5ECF6\", \"width\": 0.5}}, \"type\": \"bar\"}], \"barpolar\": [{\"marker\": {\"line\": {\"color\": \"#E5ECF6\", \"width\": 0.5}}, \"type\": \"barpolar\"}], \"carpet\": [{\"aaxis\": {\"endlinecolor\": \"#2a3f5f\", \"gridcolor\": \"white\", \"linecolor\": \"white\", \"minorgridcolor\": \"white\", \"startlinecolor\": \"#2a3f5f\"}, \"baxis\": {\"endlinecolor\": \"#2a3f5f\", \"gridcolor\": \"white\", \"linecolor\": \"white\", \"minorgridcolor\": \"white\", \"startlinecolor\": \"#2a3f5f\"}, \"type\": \"carpet\"}], \"choropleth\": [{\"colorbar\": {\"outlinewidth\": 0, \"ticks\": \"\"}, \"type\": \"choropleth\"}], \"contour\": [{\"colorbar\": {\"outlinewidth\": 0, \"ticks\": \"\"}, \"colorscale\": [[0.0, \"#0d0887\"], [0.1111111111111111, \"#46039f\"], [0.2222222222222222, \"#7201a8\"], [0.3333333333333333, \"#9c179e\"], [0.4444444444444444, \"#bd3786\"], [0.5555555555555556, \"#d8576b\"], [0.6666666666666666, \"#ed7953\"], [0.7777777777777778, \"#fb9f3a\"], [0.8888888888888888, \"#fdca26\"], [1.0, \"#f0f921\"]], \"type\": \"contour\"}], \"contourcarpet\": [{\"colorbar\": {\"outlinewidth\": 0, \"ticks\": \"\"}, \"type\": \"contourcarpet\"}], \"heatmap\": [{\"colorbar\": {\"outlinewidth\": 0, \"ticks\": \"\"}, \"colorscale\": [[0.0, \"#0d0887\"], [0.1111111111111111, \"#46039f\"], [0.2222222222222222, \"#7201a8\"], [0.3333333333333333, \"#9c179e\"], [0.4444444444444444, \"#bd3786\"], [0.5555555555555556, \"#d8576b\"], [0.6666666666666666, \"#ed7953\"], [0.7777777777777778, \"#fb9f3a\"], [0.8888888888888888, \"#fdca26\"], [1.0, \"#f0f921\"]], \"type\": \"heatmap\"}], \"heatmapgl\": [{\"colorbar\": {\"outlinewidth\": 0, \"ticks\": \"\"}, \"colorscale\": [[0.0, \"#0d0887\"], [0.1111111111111111, \"#46039f\"], [0.2222222222222222, \"#7201a8\"], [0.3333333333333333, \"#9c179e\"], [0.4444444444444444, \"#bd3786\"], [0.5555555555555556, \"#d8576b\"], [0.6666666666666666, \"#ed7953\"], [0.7777777777777778, \"#fb9f3a\"], [0.8888888888888888, \"#fdca26\"], [1.0, \"#f0f921\"]], \"type\": \"heatmapgl\"}], \"histogram\": [{\"marker\": {\"colorbar\": {\"outlinewidth\": 0, \"ticks\": \"\"}}, \"type\": \"histogram\"}], \"histogram2d\": [{\"colorbar\": {\"outlinewidth\": 0, \"ticks\": \"\"}, \"colorscale\": [[0.0, \"#0d0887\"], [0.1111111111111111, \"#46039f\"], [0.2222222222222222, \"#7201a8\"], [0.3333333333333333, \"#9c179e\"], [0.4444444444444444, \"#bd3786\"], [0.5555555555555556, \"#d8576b\"], [0.6666666666666666, \"#ed7953\"], [0.7777777777777778, \"#fb9f3a\"], [0.8888888888888888, \"#fdca26\"], [1.0, \"#f0f921\"]], \"type\": \"histogram2d\"}], \"histogram2dcontour\": [{\"colorbar\": {\"outlinewidth\": 0, \"ticks\": \"\"}, \"colorscale\": [[0.0, \"#0d0887\"], [0.1111111111111111, \"#46039f\"], [0.2222222222222222, \"#7201a8\"], [0.3333333333333333, \"#9c179e\"], [0.4444444444444444, \"#bd3786\"], [0.5555555555555556, \"#d8576b\"], [0.6666666666666666, \"#ed7953\"], [0.7777777777777778, \"#fb9f3a\"], [0.8888888888888888, \"#fdca26\"], [1.0, \"#f0f921\"]], \"type\": \"histogram2dcontour\"}], \"mesh3d\": [{\"colorbar\": {\"outlinewidth\": 0, \"ticks\": \"\"}, \"type\": \"mesh3d\"}], \"parcoords\": [{\"line\": {\"colorbar\": {\"outlinewidth\": 0, \"ticks\": \"\"}}, \"type\": \"parcoords\"}], \"pie\": [{\"automargin\": true, \"type\": \"pie\"}], \"scatter\": [{\"marker\": {\"colorbar\": {\"outlinewidth\": 0, \"ticks\": \"\"}}, \"type\": \"scatter\"}], \"scatter3d\": [{\"line\": {\"colorbar\": {\"outlinewidth\": 0, \"ticks\": \"\"}}, \"marker\": {\"colorbar\": {\"outlinewidth\": 0, \"ticks\": \"\"}}, \"type\": \"scatter3d\"}], \"scattercarpet\": [{\"marker\": {\"colorbar\": {\"outlinewidth\": 0, \"ticks\": \"\"}}, \"type\": \"scattercarpet\"}], \"scattergeo\": [{\"marker\": {\"colorbar\": {\"outlinewidth\": 0, \"ticks\": \"\"}}, \"type\": \"scattergeo\"}], \"scattergl\": [{\"marker\": {\"colorbar\": {\"outlinewidth\": 0, \"ticks\": \"\"}}, \"type\": \"scattergl\"}], \"scattermapbox\": [{\"marker\": {\"colorbar\": {\"outlinewidth\": 0, \"ticks\": \"\"}}, \"type\": \"scattermapbox\"}], \"scatterpolar\": [{\"marker\": {\"colorbar\": {\"outlinewidth\": 0, \"ticks\": \"\"}}, \"type\": \"scatterpolar\"}], \"scatterpolargl\": [{\"marker\": {\"colorbar\": {\"outlinewidth\": 0, \"ticks\": \"\"}}, \"type\": \"scatterpolargl\"}], \"scatterternary\": [{\"marker\": {\"colorbar\": {\"outlinewidth\": 0, \"ticks\": \"\"}}, \"type\": \"scatterternary\"}], \"surface\": [{\"colorbar\": {\"outlinewidth\": 0, \"ticks\": \"\"}, \"colorscale\": [[0.0, \"#0d0887\"], [0.1111111111111111, \"#46039f\"], [0.2222222222222222, \"#7201a8\"], [0.3333333333333333, \"#9c179e\"], [0.4444444444444444, \"#bd3786\"], [0.5555555555555556, \"#d8576b\"], [0.6666666666666666, \"#ed7953\"], [0.7777777777777778, \"#fb9f3a\"], [0.8888888888888888, \"#fdca26\"], [1.0, \"#f0f921\"]], \"type\": \"surface\"}], \"table\": [{\"cells\": {\"fill\": {\"color\": \"#EBF0F8\"}, \"line\": {\"color\": \"white\"}}, \"header\": {\"fill\": {\"color\": \"#C8D4E3\"}, \"line\": {\"color\": \"white\"}}, \"type\": \"table\"}]}, \"layout\": {\"annotationdefaults\": {\"arrowcolor\": \"#2a3f5f\", \"arrowhead\": 0, \"arrowwidth\": 1}, \"autotypenumbers\": \"strict\", \"coloraxis\": {\"colorbar\": {\"outlinewidth\": 0, \"ticks\": \"\"}}, \"colorscale\": {\"diverging\": [[0, \"#8e0152\"], [0.1, \"#c51b7d\"], [0.2, \"#de77ae\"], [0.3, \"#f1b6da\"], [0.4, \"#fde0ef\"], [0.5, \"#f7f7f7\"], [0.6, \"#e6f5d0\"], [0.7, \"#b8e186\"], [0.8, \"#7fbc41\"], [0.9, \"#4d9221\"], [1, \"#276419\"]], \"sequential\": [[0.0, \"#0d0887\"], [0.1111111111111111, \"#46039f\"], [0.2222222222222222, \"#7201a8\"], [0.3333333333333333, \"#9c179e\"], [0.4444444444444444, \"#bd3786\"], [0.5555555555555556, \"#d8576b\"], [0.6666666666666666, \"#ed7953\"], [0.7777777777777778, \"#fb9f3a\"], [0.8888888888888888, \"#fdca26\"], [1.0, \"#f0f921\"]], \"sequentialminus\": [[0.0, \"#0d0887\"], [0.1111111111111111, \"#46039f\"], [0.2222222222222222, \"#7201a8\"], [0.3333333333333333, \"#9c179e\"], [0.4444444444444444, \"#bd3786\"], [0.5555555555555556, \"#d8576b\"], [0.6666666666666666, \"#ed7953\"], [0.7777777777777778, \"#fb9f3a\"], [0.8888888888888888, \"#fdca26\"], [1.0, \"#f0f921\"]]}, \"colorway\": [\"#636efa\", \"#EF553B\", \"#00cc96\", \"#ab63fa\", \"#FFA15A\", \"#19d3f3\", \"#FF6692\", \"#B6E880\", \"#FF97FF\", \"#FECB52\"], \"font\": {\"color\": \"#2a3f5f\"}, \"geo\": {\"bgcolor\": \"white\", \"lakecolor\": \"white\", \"landcolor\": \"#E5ECF6\", \"showlakes\": true, \"showland\": true, \"subunitcolor\": \"white\"}, \"hoverlabel\": {\"align\": \"left\"}, \"hovermode\": \"closest\", \"mapbox\": {\"style\": \"light\"}, \"paper_bgcolor\": \"white\", \"plot_bgcolor\": \"#E5ECF6\", \"polar\": {\"angularaxis\": {\"gridcolor\": \"white\", \"linecolor\": \"white\", \"ticks\": \"\"}, \"bgcolor\": \"#E5ECF6\", \"radialaxis\": {\"gridcolor\": \"white\", \"linecolor\": \"white\", \"ticks\": \"\"}}, \"scene\": {\"xaxis\": {\"backgroundcolor\": \"#E5ECF6\", \"gridcolor\": \"white\", \"gridwidth\": 2, \"linecolor\": \"white\", \"showbackground\": true, \"ticks\": \"\", \"zerolinecolor\": \"white\"}, \"yaxis\": {\"backgroundcolor\": \"#E5ECF6\", \"gridcolor\": \"white\", \"gridwidth\": 2, \"linecolor\": \"white\", \"showbackground\": true, \"ticks\": \"\", \"zerolinecolor\": \"white\"}, \"zaxis\": {\"backgroundcolor\": \"#E5ECF6\", \"gridcolor\": \"white\", \"gridwidth\": 2, \"linecolor\": \"white\", \"showbackground\": true, \"ticks\": \"\", \"zerolinecolor\": \"white\"}}, \"shapedefaults\": {\"line\": {\"color\": \"#2a3f5f\"}}, \"ternary\": {\"aaxis\": {\"gridcolor\": \"white\", \"linecolor\": \"white\", \"ticks\": \"\"}, \"baxis\": {\"gridcolor\": \"white\", \"linecolor\": \"white\", \"ticks\": \"\"}, \"bgcolor\": \"#E5ECF6\", \"caxis\": {\"gridcolor\": \"white\", \"linecolor\": \"white\", \"ticks\": \"\"}}, \"title\": {\"x\": 0.05}, \"xaxis\": {\"automargin\": true, \"gridcolor\": \"white\", \"linecolor\": \"white\", \"ticks\": \"\", \"title\": {\"standoff\": 15}, \"zerolinecolor\": \"white\", \"zerolinewidth\": 2}, \"yaxis\": {\"automargin\": true, \"gridcolor\": \"white\", \"linecolor\": \"white\", \"ticks\": \"\", \"title\": {\"standoff\": 15}, \"zerolinecolor\": \"white\", \"zerolinewidth\": 2}}}, \"xaxis\": {\"anchor\": \"y\", \"domain\": [0.0, 1.0], \"title\": {\"text\": \"dribble_success_rate\"}}, \"yaxis\": {\"anchor\": \"x\", \"domain\": [0.0, 1.0], \"title\": {\"text\": \"duel_success_rate\"}}},                        {\"responsive\": true}                    ).then(function(){\n",
       "                            \n",
       "var gd = document.getElementById('37e6dfb3-71b0-4e46-a7e2-393154cb8a64');\n",
       "var x = new MutationObserver(function (mutations, observer) {{\n",
       "        var display = window.getComputedStyle(gd).display;\n",
       "        if (!display || display === 'none') {{\n",
       "            console.log([gd, 'removed!']);\n",
       "            Plotly.purge(gd);\n",
       "            observer.disconnect();\n",
       "        }}\n",
       "}});\n",
       "\n",
       "// Listen for the removal of the full notebook cells\n",
       "var notebookContainer = gd.closest('#notebook-container');\n",
       "if (notebookContainer) {{\n",
       "    x.observe(notebookContainer, {childList: true});\n",
       "}}\n",
       "\n",
       "// Listen for the clearing of the current output cell\n",
       "var outputEl = gd.closest('.output');\n",
       "if (outputEl) {{\n",
       "    x.observe(outputEl, {childList: true});\n",
       "}}\n",
       "\n",
       "                        })                };                });            </script>        </div>"
      ]
     },
     "metadata": {},
     "output_type": "display_data"
    }
   ],
   "source": [
    "fig = px.scatter(players, x=\"dribble_success_rate\", y=\"duel_success_rate\", size='duels', color=\"player\")\n",
    "fig.show()"
   ]
  },
  {
   "cell_type": "markdown",
   "id": "cdf4daab",
   "metadata": {},
   "source": [
    "- Dribbling is also an important consideration for a CDM. Dribbling can help the CDM out of a tight spot or create some space to be able to make a good pass. Being able to win duels is also another factor for how good a CDM is.\n",
    "\n",
    "\n",
    "\n",
    "- Players displaying a good dribbling success rate are Melanie Leupolz, Katie Zelem, Lia Walti and Sophie Louise Ingle and players displaying a good duel success rate are Jackie Groenen and Keira Walsh with the former displaying decent dribbling success rate as well."
   ]
  },
  {
   "cell_type": "markdown",
   "id": "fb9d17ac",
   "metadata": {},
   "source": [
    "## Mistakes"
   ]
  },
  {
   "cell_type": "code",
   "execution_count": 29,
   "id": "8ce95496",
   "metadata": {},
   "outputs": [
    {
     "data": {
      "application/vnd.plotly.v1+json": {
       "config": {
        "plotlyServerURL": "https://plot.ly"
       },
       "data": [
        {
         "hovertemplate": "player=Keira Walsh<br>fouls=%{marker.size}<br>miscontrols=%{y}<extra></extra>",
         "legendgroup": "Keira Walsh",
         "marker": {
          "color": "#636efa",
          "size": [
           15
          ],
          "sizemode": "area",
          "sizeref": 0.0875,
          "symbol": "circle"
         },
         "mode": "markers",
         "name": "Keira Walsh",
         "orientation": "v",
         "showlegend": true,
         "type": "scatter",
         "x": [
          15
         ],
         "xaxis": "x",
         "y": [
          18
         ],
         "yaxis": "y"
        },
        {
         "hovertemplate": "player=Lia Wälti<br>fouls=%{marker.size}<br>miscontrols=%{y}<extra></extra>",
         "legendgroup": "Lia Wälti",
         "marker": {
          "color": "#EF553B",
          "size": [
           10
          ],
          "sizemode": "area",
          "sizeref": 0.0875,
          "symbol": "circle"
         },
         "mode": "markers",
         "name": "Lia Wälti",
         "orientation": "v",
         "showlegend": true,
         "type": "scatter",
         "x": [
          10
         ],
         "xaxis": "x",
         "y": [
          10
         ],
         "yaxis": "y"
        },
        {
         "hovertemplate": "player=Angharad James<br>fouls=%{marker.size}<br>miscontrols=%{y}<extra></extra>",
         "legendgroup": "Angharad James",
         "marker": {
          "color": "#00cc96",
          "size": [
           15
          ],
          "sizemode": "area",
          "sizeref": 0.0875,
          "symbol": "circle"
         },
         "mode": "markers",
         "name": "Angharad James",
         "orientation": "v",
         "showlegend": true,
         "type": "scatter",
         "x": [
          15
         ],
         "xaxis": "x",
         "y": [
          20
         ],
         "yaxis": "y"
        },
        {
         "hovertemplate": "player=Katie Zelem<br>fouls=%{marker.size}<br>miscontrols=%{y}<extra></extra>",
         "legendgroup": "Katie Zelem",
         "marker": {
          "color": "#ab63fa",
          "size": [
           16
          ],
          "sizemode": "area",
          "sizeref": 0.0875,
          "symbol": "circle"
         },
         "mode": "markers",
         "name": "Katie Zelem",
         "orientation": "v",
         "showlegend": true,
         "type": "scatter",
         "x": [
          16
         ],
         "xaxis": "x",
         "y": [
          13
         ],
         "yaxis": "y"
        },
        {
         "hovertemplate": "player=Melanie Leupolz<br>fouls=%{marker.size}<br>miscontrols=%{y}<extra></extra>",
         "legendgroup": "Melanie Leupolz",
         "marker": {
          "color": "#FFA15A",
          "size": [
           35
          ],
          "sizemode": "area",
          "sizeref": 0.0875,
          "symbol": "circle"
         },
         "mode": "markers",
         "name": "Melanie Leupolz",
         "orientation": "v",
         "showlegend": true,
         "type": "scatter",
         "x": [
          35
         ],
         "xaxis": "x",
         "y": [
          26
         ],
         "yaxis": "y"
        },
        {
         "hovertemplate": "player=Jessica Fishlock<br>fouls=%{marker.size}<br>miscontrols=%{y}<extra></extra>",
         "legendgroup": "Jessica Fishlock",
         "marker": {
          "color": "#19d3f3",
          "size": [
           15
          ],
          "sizemode": "area",
          "sizeref": 0.0875,
          "symbol": "circle"
         },
         "mode": "markers",
         "name": "Jessica Fishlock",
         "orientation": "v",
         "showlegend": true,
         "type": "scatter",
         "x": [
          15
         ],
         "xaxis": "x",
         "y": [
          31
         ],
         "yaxis": "y"
        },
        {
         "hovertemplate": "player=Sophie Louise Ingle<br>fouls=%{marker.size}<br>miscontrols=%{y}<extra></extra>",
         "legendgroup": "Sophie Louise Ingle",
         "marker": {
          "color": "#FF6692",
          "size": [
           23
          ],
          "sizemode": "area",
          "sizeref": 0.0875,
          "symbol": "circle"
         },
         "mode": "markers",
         "name": "Sophie Louise Ingle",
         "orientation": "v",
         "showlegend": true,
         "type": "scatter",
         "x": [
          23
         ],
         "xaxis": "x",
         "y": [
          6
         ],
         "yaxis": "y"
        },
        {
         "hovertemplate": "player=Jackie Groenen<br>fouls=%{marker.size}<br>miscontrols=%{y}<extra></extra>",
         "legendgroup": "Jackie Groenen",
         "marker": {
          "color": "#B6E880",
          "size": [
           20
          ],
          "sizemode": "area",
          "sizeref": 0.0875,
          "symbol": "circle"
         },
         "mode": "markers",
         "name": "Jackie Groenen",
         "orientation": "v",
         "showlegend": true,
         "type": "scatter",
         "x": [
          20
         ],
         "xaxis": "x",
         "y": [
          29
         ],
         "yaxis": "y"
        },
        {
         "hovertemplate": "player=Jill Scott<br>fouls=%{marker.size}<br>miscontrols=%{y}<extra></extra>",
         "legendgroup": "Jill Scott",
         "marker": {
          "color": "#FF97FF",
          "size": [
           10
          ],
          "sizemode": "area",
          "sizeref": 0.0875,
          "symbol": "circle"
         },
         "mode": "markers",
         "name": "Jill Scott",
         "orientation": "v",
         "showlegend": true,
         "type": "scatter",
         "x": [
          10
         ],
         "xaxis": "x",
         "y": [
          29
         ],
         "yaxis": "y"
        },
        {
         "hovertemplate": "player=Alanna Stephanie Kennedy<br>fouls=%{marker.size}<br>miscontrols=%{y}<extra></extra>",
         "legendgroup": "Alanna Stephanie Kennedy",
         "marker": {
          "color": "#FECB52",
          "size": [
           18
          ],
          "sizemode": "area",
          "sizeref": 0.0875,
          "symbol": "circle"
         },
         "mode": "markers",
         "name": "Alanna Stephanie Kennedy",
         "orientation": "v",
         "showlegend": true,
         "type": "scatter",
         "x": [
          18
         ],
         "xaxis": "x",
         "y": [
          37
         ],
         "yaxis": "y"
        },
        {
         "hovertemplate": "player=Christie Murray<br>fouls=%{marker.size}<br>miscontrols=%{y}<extra></extra>",
         "legendgroup": "Christie Murray",
         "marker": {
          "color": "#636efa",
          "size": [
           9
          ],
          "sizemode": "area",
          "sizeref": 0.0875,
          "symbol": "circle"
         },
         "mode": "markers",
         "name": "Christie Murray",
         "orientation": "v",
         "showlegend": true,
         "type": "scatter",
         "x": [
          9
         ],
         "xaxis": "x",
         "y": [
          13
         ],
         "yaxis": "y"
        },
        {
         "hovertemplate": "player=Kate Longhurst<br>fouls=%{marker.size}<br>miscontrols=%{y}<extra></extra>",
         "legendgroup": "Kate Longhurst",
         "marker": {
          "color": "#EF553B",
          "size": [
           23
          ],
          "sizemode": "area",
          "sizeref": 0.0875,
          "symbol": "circle"
         },
         "mode": "markers",
         "name": "Kate Longhurst",
         "orientation": "v",
         "showlegend": true,
         "type": "scatter",
         "x": [
          23
         ],
         "xaxis": "x",
         "y": [
          15
         ],
         "yaxis": "y"
        },
        {
         "hovertemplate": "player=Marisa Ewers<br>fouls=%{marker.size}<br>miscontrols=%{y}<extra></extra>",
         "legendgroup": "Marisa Ewers",
         "marker": {
          "color": "#00cc96",
          "size": [
           17
          ],
          "sizemode": "area",
          "sizeref": 0.0875,
          "symbol": "circle"
         },
         "mode": "markers",
         "name": "Marisa Ewers",
         "orientation": "v",
         "showlegend": true,
         "type": "scatter",
         "x": [
          17
         ],
         "xaxis": "x",
         "y": [
          12
         ],
         "yaxis": "y"
        },
        {
         "hovertemplate": "player=Josie Green<br>fouls=%{marker.size}<br>miscontrols=%{y}<extra></extra>",
         "legendgroup": "Josie Green",
         "marker": {
          "color": "#ab63fa",
          "size": [
           21
          ],
          "sizemode": "area",
          "sizeref": 0.0875,
          "symbol": "circle"
         },
         "mode": "markers",
         "name": "Josie Green",
         "orientation": "v",
         "showlegend": true,
         "type": "scatter",
         "x": [
          21
         ],
         "xaxis": "x",
         "y": [
          10
         ],
         "yaxis": "y"
        }
       ],
       "layout": {
        "legend": {
         "itemsizing": "constant",
         "title": {
          "text": "player"
         },
         "tracegroupgap": 0
        },
        "margin": {
         "t": 60
        },
        "template": {
         "data": {
          "bar": [
           {
            "error_x": {
             "color": "#2a3f5f"
            },
            "error_y": {
             "color": "#2a3f5f"
            },
            "marker": {
             "line": {
              "color": "#E5ECF6",
              "width": 0.5
             }
            },
            "type": "bar"
           }
          ],
          "barpolar": [
           {
            "marker": {
             "line": {
              "color": "#E5ECF6",
              "width": 0.5
             }
            },
            "type": "barpolar"
           }
          ],
          "carpet": [
           {
            "aaxis": {
             "endlinecolor": "#2a3f5f",
             "gridcolor": "white",
             "linecolor": "white",
             "minorgridcolor": "white",
             "startlinecolor": "#2a3f5f"
            },
            "baxis": {
             "endlinecolor": "#2a3f5f",
             "gridcolor": "white",
             "linecolor": "white",
             "minorgridcolor": "white",
             "startlinecolor": "#2a3f5f"
            },
            "type": "carpet"
           }
          ],
          "choropleth": [
           {
            "colorbar": {
             "outlinewidth": 0,
             "ticks": ""
            },
            "type": "choropleth"
           }
          ],
          "contour": [
           {
            "colorbar": {
             "outlinewidth": 0,
             "ticks": ""
            },
            "colorscale": [
             [
              0,
              "#0d0887"
             ],
             [
              0.1111111111111111,
              "#46039f"
             ],
             [
              0.2222222222222222,
              "#7201a8"
             ],
             [
              0.3333333333333333,
              "#9c179e"
             ],
             [
              0.4444444444444444,
              "#bd3786"
             ],
             [
              0.5555555555555556,
              "#d8576b"
             ],
             [
              0.6666666666666666,
              "#ed7953"
             ],
             [
              0.7777777777777778,
              "#fb9f3a"
             ],
             [
              0.8888888888888888,
              "#fdca26"
             ],
             [
              1,
              "#f0f921"
             ]
            ],
            "type": "contour"
           }
          ],
          "contourcarpet": [
           {
            "colorbar": {
             "outlinewidth": 0,
             "ticks": ""
            },
            "type": "contourcarpet"
           }
          ],
          "heatmap": [
           {
            "colorbar": {
             "outlinewidth": 0,
             "ticks": ""
            },
            "colorscale": [
             [
              0,
              "#0d0887"
             ],
             [
              0.1111111111111111,
              "#46039f"
             ],
             [
              0.2222222222222222,
              "#7201a8"
             ],
             [
              0.3333333333333333,
              "#9c179e"
             ],
             [
              0.4444444444444444,
              "#bd3786"
             ],
             [
              0.5555555555555556,
              "#d8576b"
             ],
             [
              0.6666666666666666,
              "#ed7953"
             ],
             [
              0.7777777777777778,
              "#fb9f3a"
             ],
             [
              0.8888888888888888,
              "#fdca26"
             ],
             [
              1,
              "#f0f921"
             ]
            ],
            "type": "heatmap"
           }
          ],
          "heatmapgl": [
           {
            "colorbar": {
             "outlinewidth": 0,
             "ticks": ""
            },
            "colorscale": [
             [
              0,
              "#0d0887"
             ],
             [
              0.1111111111111111,
              "#46039f"
             ],
             [
              0.2222222222222222,
              "#7201a8"
             ],
             [
              0.3333333333333333,
              "#9c179e"
             ],
             [
              0.4444444444444444,
              "#bd3786"
             ],
             [
              0.5555555555555556,
              "#d8576b"
             ],
             [
              0.6666666666666666,
              "#ed7953"
             ],
             [
              0.7777777777777778,
              "#fb9f3a"
             ],
             [
              0.8888888888888888,
              "#fdca26"
             ],
             [
              1,
              "#f0f921"
             ]
            ],
            "type": "heatmapgl"
           }
          ],
          "histogram": [
           {
            "marker": {
             "colorbar": {
              "outlinewidth": 0,
              "ticks": ""
             }
            },
            "type": "histogram"
           }
          ],
          "histogram2d": [
           {
            "colorbar": {
             "outlinewidth": 0,
             "ticks": ""
            },
            "colorscale": [
             [
              0,
              "#0d0887"
             ],
             [
              0.1111111111111111,
              "#46039f"
             ],
             [
              0.2222222222222222,
              "#7201a8"
             ],
             [
              0.3333333333333333,
              "#9c179e"
             ],
             [
              0.4444444444444444,
              "#bd3786"
             ],
             [
              0.5555555555555556,
              "#d8576b"
             ],
             [
              0.6666666666666666,
              "#ed7953"
             ],
             [
              0.7777777777777778,
              "#fb9f3a"
             ],
             [
              0.8888888888888888,
              "#fdca26"
             ],
             [
              1,
              "#f0f921"
             ]
            ],
            "type": "histogram2d"
           }
          ],
          "histogram2dcontour": [
           {
            "colorbar": {
             "outlinewidth": 0,
             "ticks": ""
            },
            "colorscale": [
             [
              0,
              "#0d0887"
             ],
             [
              0.1111111111111111,
              "#46039f"
             ],
             [
              0.2222222222222222,
              "#7201a8"
             ],
             [
              0.3333333333333333,
              "#9c179e"
             ],
             [
              0.4444444444444444,
              "#bd3786"
             ],
             [
              0.5555555555555556,
              "#d8576b"
             ],
             [
              0.6666666666666666,
              "#ed7953"
             ],
             [
              0.7777777777777778,
              "#fb9f3a"
             ],
             [
              0.8888888888888888,
              "#fdca26"
             ],
             [
              1,
              "#f0f921"
             ]
            ],
            "type": "histogram2dcontour"
           }
          ],
          "mesh3d": [
           {
            "colorbar": {
             "outlinewidth": 0,
             "ticks": ""
            },
            "type": "mesh3d"
           }
          ],
          "parcoords": [
           {
            "line": {
             "colorbar": {
              "outlinewidth": 0,
              "ticks": ""
             }
            },
            "type": "parcoords"
           }
          ],
          "pie": [
           {
            "automargin": true,
            "type": "pie"
           }
          ],
          "scatter": [
           {
            "marker": {
             "colorbar": {
              "outlinewidth": 0,
              "ticks": ""
             }
            },
            "type": "scatter"
           }
          ],
          "scatter3d": [
           {
            "line": {
             "colorbar": {
              "outlinewidth": 0,
              "ticks": ""
             }
            },
            "marker": {
             "colorbar": {
              "outlinewidth": 0,
              "ticks": ""
             }
            },
            "type": "scatter3d"
           }
          ],
          "scattercarpet": [
           {
            "marker": {
             "colorbar": {
              "outlinewidth": 0,
              "ticks": ""
             }
            },
            "type": "scattercarpet"
           }
          ],
          "scattergeo": [
           {
            "marker": {
             "colorbar": {
              "outlinewidth": 0,
              "ticks": ""
             }
            },
            "type": "scattergeo"
           }
          ],
          "scattergl": [
           {
            "marker": {
             "colorbar": {
              "outlinewidth": 0,
              "ticks": ""
             }
            },
            "type": "scattergl"
           }
          ],
          "scattermapbox": [
           {
            "marker": {
             "colorbar": {
              "outlinewidth": 0,
              "ticks": ""
             }
            },
            "type": "scattermapbox"
           }
          ],
          "scatterpolar": [
           {
            "marker": {
             "colorbar": {
              "outlinewidth": 0,
              "ticks": ""
             }
            },
            "type": "scatterpolar"
           }
          ],
          "scatterpolargl": [
           {
            "marker": {
             "colorbar": {
              "outlinewidth": 0,
              "ticks": ""
             }
            },
            "type": "scatterpolargl"
           }
          ],
          "scatterternary": [
           {
            "marker": {
             "colorbar": {
              "outlinewidth": 0,
              "ticks": ""
             }
            },
            "type": "scatterternary"
           }
          ],
          "surface": [
           {
            "colorbar": {
             "outlinewidth": 0,
             "ticks": ""
            },
            "colorscale": [
             [
              0,
              "#0d0887"
             ],
             [
              0.1111111111111111,
              "#46039f"
             ],
             [
              0.2222222222222222,
              "#7201a8"
             ],
             [
              0.3333333333333333,
              "#9c179e"
             ],
             [
              0.4444444444444444,
              "#bd3786"
             ],
             [
              0.5555555555555556,
              "#d8576b"
             ],
             [
              0.6666666666666666,
              "#ed7953"
             ],
             [
              0.7777777777777778,
              "#fb9f3a"
             ],
             [
              0.8888888888888888,
              "#fdca26"
             ],
             [
              1,
              "#f0f921"
             ]
            ],
            "type": "surface"
           }
          ],
          "table": [
           {
            "cells": {
             "fill": {
              "color": "#EBF0F8"
             },
             "line": {
              "color": "white"
             }
            },
            "header": {
             "fill": {
              "color": "#C8D4E3"
             },
             "line": {
              "color": "white"
             }
            },
            "type": "table"
           }
          ]
         },
         "layout": {
          "annotationdefaults": {
           "arrowcolor": "#2a3f5f",
           "arrowhead": 0,
           "arrowwidth": 1
          },
          "autotypenumbers": "strict",
          "coloraxis": {
           "colorbar": {
            "outlinewidth": 0,
            "ticks": ""
           }
          },
          "colorscale": {
           "diverging": [
            [
             0,
             "#8e0152"
            ],
            [
             0.1,
             "#c51b7d"
            ],
            [
             0.2,
             "#de77ae"
            ],
            [
             0.3,
             "#f1b6da"
            ],
            [
             0.4,
             "#fde0ef"
            ],
            [
             0.5,
             "#f7f7f7"
            ],
            [
             0.6,
             "#e6f5d0"
            ],
            [
             0.7,
             "#b8e186"
            ],
            [
             0.8,
             "#7fbc41"
            ],
            [
             0.9,
             "#4d9221"
            ],
            [
             1,
             "#276419"
            ]
           ],
           "sequential": [
            [
             0,
             "#0d0887"
            ],
            [
             0.1111111111111111,
             "#46039f"
            ],
            [
             0.2222222222222222,
             "#7201a8"
            ],
            [
             0.3333333333333333,
             "#9c179e"
            ],
            [
             0.4444444444444444,
             "#bd3786"
            ],
            [
             0.5555555555555556,
             "#d8576b"
            ],
            [
             0.6666666666666666,
             "#ed7953"
            ],
            [
             0.7777777777777778,
             "#fb9f3a"
            ],
            [
             0.8888888888888888,
             "#fdca26"
            ],
            [
             1,
             "#f0f921"
            ]
           ],
           "sequentialminus": [
            [
             0,
             "#0d0887"
            ],
            [
             0.1111111111111111,
             "#46039f"
            ],
            [
             0.2222222222222222,
             "#7201a8"
            ],
            [
             0.3333333333333333,
             "#9c179e"
            ],
            [
             0.4444444444444444,
             "#bd3786"
            ],
            [
             0.5555555555555556,
             "#d8576b"
            ],
            [
             0.6666666666666666,
             "#ed7953"
            ],
            [
             0.7777777777777778,
             "#fb9f3a"
            ],
            [
             0.8888888888888888,
             "#fdca26"
            ],
            [
             1,
             "#f0f921"
            ]
           ]
          },
          "colorway": [
           "#636efa",
           "#EF553B",
           "#00cc96",
           "#ab63fa",
           "#FFA15A",
           "#19d3f3",
           "#FF6692",
           "#B6E880",
           "#FF97FF",
           "#FECB52"
          ],
          "font": {
           "color": "#2a3f5f"
          },
          "geo": {
           "bgcolor": "white",
           "lakecolor": "white",
           "landcolor": "#E5ECF6",
           "showlakes": true,
           "showland": true,
           "subunitcolor": "white"
          },
          "hoverlabel": {
           "align": "left"
          },
          "hovermode": "closest",
          "mapbox": {
           "style": "light"
          },
          "paper_bgcolor": "white",
          "plot_bgcolor": "#E5ECF6",
          "polar": {
           "angularaxis": {
            "gridcolor": "white",
            "linecolor": "white",
            "ticks": ""
           },
           "bgcolor": "#E5ECF6",
           "radialaxis": {
            "gridcolor": "white",
            "linecolor": "white",
            "ticks": ""
           }
          },
          "scene": {
           "xaxis": {
            "backgroundcolor": "#E5ECF6",
            "gridcolor": "white",
            "gridwidth": 2,
            "linecolor": "white",
            "showbackground": true,
            "ticks": "",
            "zerolinecolor": "white"
           },
           "yaxis": {
            "backgroundcolor": "#E5ECF6",
            "gridcolor": "white",
            "gridwidth": 2,
            "linecolor": "white",
            "showbackground": true,
            "ticks": "",
            "zerolinecolor": "white"
           },
           "zaxis": {
            "backgroundcolor": "#E5ECF6",
            "gridcolor": "white",
            "gridwidth": 2,
            "linecolor": "white",
            "showbackground": true,
            "ticks": "",
            "zerolinecolor": "white"
           }
          },
          "shapedefaults": {
           "line": {
            "color": "#2a3f5f"
           }
          },
          "ternary": {
           "aaxis": {
            "gridcolor": "white",
            "linecolor": "white",
            "ticks": ""
           },
           "baxis": {
            "gridcolor": "white",
            "linecolor": "white",
            "ticks": ""
           },
           "bgcolor": "#E5ECF6",
           "caxis": {
            "gridcolor": "white",
            "linecolor": "white",
            "ticks": ""
           }
          },
          "title": {
           "x": 0.05
          },
          "xaxis": {
           "automargin": true,
           "gridcolor": "white",
           "linecolor": "white",
           "ticks": "",
           "title": {
            "standoff": 15
           },
           "zerolinecolor": "white",
           "zerolinewidth": 2
          },
          "yaxis": {
           "automargin": true,
           "gridcolor": "white",
           "linecolor": "white",
           "ticks": "",
           "title": {
            "standoff": 15
           },
           "zerolinecolor": "white",
           "zerolinewidth": 2
          }
         }
        },
        "xaxis": {
         "anchor": "y",
         "domain": [
          0,
          1
         ],
         "title": {
          "text": "fouls"
         }
        },
        "yaxis": {
         "anchor": "x",
         "domain": [
          0,
          1
         ],
         "title": {
          "text": "miscontrols"
         }
        }
       }
      },
      "text/html": [
       "<div>                            <div id=\"9032ea48-e488-4741-8173-3da0f1c396e1\" class=\"plotly-graph-div\" style=\"height:525px; width:100%;\"></div>            <script type=\"text/javascript\">                require([\"plotly\"], function(Plotly) {                    window.PLOTLYENV=window.PLOTLYENV || {};                                    if (document.getElementById(\"9032ea48-e488-4741-8173-3da0f1c396e1\")) {                    Plotly.newPlot(                        \"9032ea48-e488-4741-8173-3da0f1c396e1\",                        [{\"hovertemplate\": \"player=Keira Walsh<br>fouls=%{marker.size}<br>miscontrols=%{y}<extra></extra>\", \"legendgroup\": \"Keira Walsh\", \"marker\": {\"color\": \"#636efa\", \"size\": [15], \"sizemode\": \"area\", \"sizeref\": 0.0875, \"symbol\": \"circle\"}, \"mode\": \"markers\", \"name\": \"Keira Walsh\", \"orientation\": \"v\", \"showlegend\": true, \"type\": \"scatter\", \"x\": [15], \"xaxis\": \"x\", \"y\": [18], \"yaxis\": \"y\"}, {\"hovertemplate\": \"player=Lia W\\u00e4lti<br>fouls=%{marker.size}<br>miscontrols=%{y}<extra></extra>\", \"legendgroup\": \"Lia W\\u00e4lti\", \"marker\": {\"color\": \"#EF553B\", \"size\": [10], \"sizemode\": \"area\", \"sizeref\": 0.0875, \"symbol\": \"circle\"}, \"mode\": \"markers\", \"name\": \"Lia W\\u00e4lti\", \"orientation\": \"v\", \"showlegend\": true, \"type\": \"scatter\", \"x\": [10], \"xaxis\": \"x\", \"y\": [10], \"yaxis\": \"y\"}, {\"hovertemplate\": \"player=Angharad James<br>fouls=%{marker.size}<br>miscontrols=%{y}<extra></extra>\", \"legendgroup\": \"Angharad James\", \"marker\": {\"color\": \"#00cc96\", \"size\": [15], \"sizemode\": \"area\", \"sizeref\": 0.0875, \"symbol\": \"circle\"}, \"mode\": \"markers\", \"name\": \"Angharad James\", \"orientation\": \"v\", \"showlegend\": true, \"type\": \"scatter\", \"x\": [15], \"xaxis\": \"x\", \"y\": [20], \"yaxis\": \"y\"}, {\"hovertemplate\": \"player=Katie Zelem<br>fouls=%{marker.size}<br>miscontrols=%{y}<extra></extra>\", \"legendgroup\": \"Katie Zelem\", \"marker\": {\"color\": \"#ab63fa\", \"size\": [16], \"sizemode\": \"area\", \"sizeref\": 0.0875, \"symbol\": \"circle\"}, \"mode\": \"markers\", \"name\": \"Katie Zelem\", \"orientation\": \"v\", \"showlegend\": true, \"type\": \"scatter\", \"x\": [16], \"xaxis\": \"x\", \"y\": [13], \"yaxis\": \"y\"}, {\"hovertemplate\": \"player=Melanie Leupolz<br>fouls=%{marker.size}<br>miscontrols=%{y}<extra></extra>\", \"legendgroup\": \"Melanie Leupolz\", \"marker\": {\"color\": \"#FFA15A\", \"size\": [35], \"sizemode\": \"area\", \"sizeref\": 0.0875, \"symbol\": \"circle\"}, \"mode\": \"markers\", \"name\": \"Melanie Leupolz\", \"orientation\": \"v\", \"showlegend\": true, \"type\": \"scatter\", \"x\": [35], \"xaxis\": \"x\", \"y\": [26], \"yaxis\": \"y\"}, {\"hovertemplate\": \"player=Jessica Fishlock<br>fouls=%{marker.size}<br>miscontrols=%{y}<extra></extra>\", \"legendgroup\": \"Jessica Fishlock\", \"marker\": {\"color\": \"#19d3f3\", \"size\": [15], \"sizemode\": \"area\", \"sizeref\": 0.0875, \"symbol\": \"circle\"}, \"mode\": \"markers\", \"name\": \"Jessica Fishlock\", \"orientation\": \"v\", \"showlegend\": true, \"type\": \"scatter\", \"x\": [15], \"xaxis\": \"x\", \"y\": [31], \"yaxis\": \"y\"}, {\"hovertemplate\": \"player=Sophie Louise Ingle<br>fouls=%{marker.size}<br>miscontrols=%{y}<extra></extra>\", \"legendgroup\": \"Sophie Louise Ingle\", \"marker\": {\"color\": \"#FF6692\", \"size\": [23], \"sizemode\": \"area\", \"sizeref\": 0.0875, \"symbol\": \"circle\"}, \"mode\": \"markers\", \"name\": \"Sophie Louise Ingle\", \"orientation\": \"v\", \"showlegend\": true, \"type\": \"scatter\", \"x\": [23], \"xaxis\": \"x\", \"y\": [6], \"yaxis\": \"y\"}, {\"hovertemplate\": \"player=Jackie Groenen<br>fouls=%{marker.size}<br>miscontrols=%{y}<extra></extra>\", \"legendgroup\": \"Jackie Groenen\", \"marker\": {\"color\": \"#B6E880\", \"size\": [20], \"sizemode\": \"area\", \"sizeref\": 0.0875, \"symbol\": \"circle\"}, \"mode\": \"markers\", \"name\": \"Jackie Groenen\", \"orientation\": \"v\", \"showlegend\": true, \"type\": \"scatter\", \"x\": [20], \"xaxis\": \"x\", \"y\": [29], \"yaxis\": \"y\"}, {\"hovertemplate\": \"player=Jill Scott<br>fouls=%{marker.size}<br>miscontrols=%{y}<extra></extra>\", \"legendgroup\": \"Jill Scott\", \"marker\": {\"color\": \"#FF97FF\", \"size\": [10], \"sizemode\": \"area\", \"sizeref\": 0.0875, \"symbol\": \"circle\"}, \"mode\": \"markers\", \"name\": \"Jill Scott\", \"orientation\": \"v\", \"showlegend\": true, \"type\": \"scatter\", \"x\": [10], \"xaxis\": \"x\", \"y\": [29], \"yaxis\": \"y\"}, {\"hovertemplate\": \"player=Alanna Stephanie Kennedy<br>fouls=%{marker.size}<br>miscontrols=%{y}<extra></extra>\", \"legendgroup\": \"Alanna Stephanie Kennedy\", \"marker\": {\"color\": \"#FECB52\", \"size\": [18], \"sizemode\": \"area\", \"sizeref\": 0.0875, \"symbol\": \"circle\"}, \"mode\": \"markers\", \"name\": \"Alanna Stephanie Kennedy\", \"orientation\": \"v\", \"showlegend\": true, \"type\": \"scatter\", \"x\": [18], \"xaxis\": \"x\", \"y\": [37], \"yaxis\": \"y\"}, {\"hovertemplate\": \"player=Christie Murray<br>fouls=%{marker.size}<br>miscontrols=%{y}<extra></extra>\", \"legendgroup\": \"Christie Murray\", \"marker\": {\"color\": \"#636efa\", \"size\": [9], \"sizemode\": \"area\", \"sizeref\": 0.0875, \"symbol\": \"circle\"}, \"mode\": \"markers\", \"name\": \"Christie Murray\", \"orientation\": \"v\", \"showlegend\": true, \"type\": \"scatter\", \"x\": [9], \"xaxis\": \"x\", \"y\": [13], \"yaxis\": \"y\"}, {\"hovertemplate\": \"player=Kate Longhurst<br>fouls=%{marker.size}<br>miscontrols=%{y}<extra></extra>\", \"legendgroup\": \"Kate Longhurst\", \"marker\": {\"color\": \"#EF553B\", \"size\": [23], \"sizemode\": \"area\", \"sizeref\": 0.0875, \"symbol\": \"circle\"}, \"mode\": \"markers\", \"name\": \"Kate Longhurst\", \"orientation\": \"v\", \"showlegend\": true, \"type\": \"scatter\", \"x\": [23], \"xaxis\": \"x\", \"y\": [15], \"yaxis\": \"y\"}, {\"hovertemplate\": \"player=Marisa Ewers<br>fouls=%{marker.size}<br>miscontrols=%{y}<extra></extra>\", \"legendgroup\": \"Marisa Ewers\", \"marker\": {\"color\": \"#00cc96\", \"size\": [17], \"sizemode\": \"area\", \"sizeref\": 0.0875, \"symbol\": \"circle\"}, \"mode\": \"markers\", \"name\": \"Marisa Ewers\", \"orientation\": \"v\", \"showlegend\": true, \"type\": \"scatter\", \"x\": [17], \"xaxis\": \"x\", \"y\": [12], \"yaxis\": \"y\"}, {\"hovertemplate\": \"player=Josie Green<br>fouls=%{marker.size}<br>miscontrols=%{y}<extra></extra>\", \"legendgroup\": \"Josie Green\", \"marker\": {\"color\": \"#ab63fa\", \"size\": [21], \"sizemode\": \"area\", \"sizeref\": 0.0875, \"symbol\": \"circle\"}, \"mode\": \"markers\", \"name\": \"Josie Green\", \"orientation\": \"v\", \"showlegend\": true, \"type\": \"scatter\", \"x\": [21], \"xaxis\": \"x\", \"y\": [10], \"yaxis\": \"y\"}],                        {\"legend\": {\"itemsizing\": \"constant\", \"title\": {\"text\": \"player\"}, \"tracegroupgap\": 0}, \"margin\": {\"t\": 60}, \"template\": {\"data\": {\"bar\": [{\"error_x\": {\"color\": \"#2a3f5f\"}, \"error_y\": {\"color\": \"#2a3f5f\"}, \"marker\": {\"line\": {\"color\": \"#E5ECF6\", \"width\": 0.5}}, \"type\": \"bar\"}], \"barpolar\": [{\"marker\": {\"line\": {\"color\": \"#E5ECF6\", \"width\": 0.5}}, \"type\": \"barpolar\"}], \"carpet\": [{\"aaxis\": {\"endlinecolor\": \"#2a3f5f\", \"gridcolor\": \"white\", \"linecolor\": \"white\", \"minorgridcolor\": \"white\", \"startlinecolor\": \"#2a3f5f\"}, \"baxis\": {\"endlinecolor\": \"#2a3f5f\", \"gridcolor\": \"white\", \"linecolor\": \"white\", \"minorgridcolor\": \"white\", \"startlinecolor\": \"#2a3f5f\"}, \"type\": \"carpet\"}], \"choropleth\": [{\"colorbar\": {\"outlinewidth\": 0, \"ticks\": \"\"}, \"type\": \"choropleth\"}], \"contour\": [{\"colorbar\": {\"outlinewidth\": 0, \"ticks\": \"\"}, \"colorscale\": [[0.0, \"#0d0887\"], [0.1111111111111111, \"#46039f\"], [0.2222222222222222, \"#7201a8\"], [0.3333333333333333, \"#9c179e\"], [0.4444444444444444, \"#bd3786\"], [0.5555555555555556, \"#d8576b\"], [0.6666666666666666, \"#ed7953\"], [0.7777777777777778, \"#fb9f3a\"], [0.8888888888888888, \"#fdca26\"], [1.0, \"#f0f921\"]], \"type\": \"contour\"}], \"contourcarpet\": [{\"colorbar\": {\"outlinewidth\": 0, \"ticks\": \"\"}, \"type\": \"contourcarpet\"}], \"heatmap\": [{\"colorbar\": {\"outlinewidth\": 0, \"ticks\": \"\"}, \"colorscale\": [[0.0, \"#0d0887\"], [0.1111111111111111, \"#46039f\"], [0.2222222222222222, \"#7201a8\"], [0.3333333333333333, \"#9c179e\"], [0.4444444444444444, \"#bd3786\"], [0.5555555555555556, \"#d8576b\"], [0.6666666666666666, \"#ed7953\"], [0.7777777777777778, \"#fb9f3a\"], [0.8888888888888888, \"#fdca26\"], [1.0, \"#f0f921\"]], \"type\": \"heatmap\"}], \"heatmapgl\": [{\"colorbar\": {\"outlinewidth\": 0, \"ticks\": \"\"}, \"colorscale\": [[0.0, \"#0d0887\"], [0.1111111111111111, \"#46039f\"], [0.2222222222222222, \"#7201a8\"], [0.3333333333333333, \"#9c179e\"], [0.4444444444444444, \"#bd3786\"], [0.5555555555555556, \"#d8576b\"], [0.6666666666666666, \"#ed7953\"], [0.7777777777777778, \"#fb9f3a\"], [0.8888888888888888, \"#fdca26\"], [1.0, \"#f0f921\"]], \"type\": \"heatmapgl\"}], \"histogram\": [{\"marker\": {\"colorbar\": {\"outlinewidth\": 0, \"ticks\": \"\"}}, \"type\": \"histogram\"}], \"histogram2d\": [{\"colorbar\": {\"outlinewidth\": 0, \"ticks\": \"\"}, \"colorscale\": [[0.0, \"#0d0887\"], [0.1111111111111111, \"#46039f\"], [0.2222222222222222, \"#7201a8\"], [0.3333333333333333, \"#9c179e\"], [0.4444444444444444, \"#bd3786\"], [0.5555555555555556, \"#d8576b\"], [0.6666666666666666, \"#ed7953\"], [0.7777777777777778, \"#fb9f3a\"], [0.8888888888888888, \"#fdca26\"], [1.0, \"#f0f921\"]], \"type\": \"histogram2d\"}], \"histogram2dcontour\": [{\"colorbar\": {\"outlinewidth\": 0, \"ticks\": \"\"}, \"colorscale\": [[0.0, \"#0d0887\"], [0.1111111111111111, \"#46039f\"], [0.2222222222222222, \"#7201a8\"], [0.3333333333333333, \"#9c179e\"], [0.4444444444444444, \"#bd3786\"], [0.5555555555555556, \"#d8576b\"], [0.6666666666666666, \"#ed7953\"], [0.7777777777777778, \"#fb9f3a\"], [0.8888888888888888, \"#fdca26\"], [1.0, \"#f0f921\"]], \"type\": \"histogram2dcontour\"}], \"mesh3d\": [{\"colorbar\": {\"outlinewidth\": 0, \"ticks\": \"\"}, \"type\": \"mesh3d\"}], \"parcoords\": [{\"line\": {\"colorbar\": {\"outlinewidth\": 0, \"ticks\": \"\"}}, \"type\": \"parcoords\"}], \"pie\": [{\"automargin\": true, \"type\": \"pie\"}], \"scatter\": [{\"marker\": {\"colorbar\": {\"outlinewidth\": 0, \"ticks\": \"\"}}, \"type\": \"scatter\"}], \"scatter3d\": [{\"line\": {\"colorbar\": {\"outlinewidth\": 0, \"ticks\": \"\"}}, \"marker\": {\"colorbar\": {\"outlinewidth\": 0, \"ticks\": \"\"}}, \"type\": \"scatter3d\"}], \"scattercarpet\": [{\"marker\": {\"colorbar\": {\"outlinewidth\": 0, \"ticks\": \"\"}}, \"type\": \"scattercarpet\"}], \"scattergeo\": [{\"marker\": {\"colorbar\": {\"outlinewidth\": 0, \"ticks\": \"\"}}, \"type\": \"scattergeo\"}], \"scattergl\": [{\"marker\": {\"colorbar\": {\"outlinewidth\": 0, \"ticks\": \"\"}}, \"type\": \"scattergl\"}], \"scattermapbox\": [{\"marker\": {\"colorbar\": {\"outlinewidth\": 0, \"ticks\": \"\"}}, \"type\": \"scattermapbox\"}], \"scatterpolar\": [{\"marker\": {\"colorbar\": {\"outlinewidth\": 0, \"ticks\": \"\"}}, \"type\": \"scatterpolar\"}], \"scatterpolargl\": [{\"marker\": {\"colorbar\": {\"outlinewidth\": 0, \"ticks\": \"\"}}, \"type\": \"scatterpolargl\"}], \"scatterternary\": [{\"marker\": {\"colorbar\": {\"outlinewidth\": 0, \"ticks\": \"\"}}, \"type\": \"scatterternary\"}], \"surface\": [{\"colorbar\": {\"outlinewidth\": 0, \"ticks\": \"\"}, \"colorscale\": [[0.0, \"#0d0887\"], [0.1111111111111111, \"#46039f\"], [0.2222222222222222, \"#7201a8\"], [0.3333333333333333, \"#9c179e\"], [0.4444444444444444, \"#bd3786\"], [0.5555555555555556, \"#d8576b\"], [0.6666666666666666, \"#ed7953\"], [0.7777777777777778, \"#fb9f3a\"], [0.8888888888888888, \"#fdca26\"], [1.0, \"#f0f921\"]], \"type\": \"surface\"}], \"table\": [{\"cells\": {\"fill\": {\"color\": \"#EBF0F8\"}, \"line\": {\"color\": \"white\"}}, \"header\": {\"fill\": {\"color\": \"#C8D4E3\"}, \"line\": {\"color\": \"white\"}}, \"type\": \"table\"}]}, \"layout\": {\"annotationdefaults\": {\"arrowcolor\": \"#2a3f5f\", \"arrowhead\": 0, \"arrowwidth\": 1}, \"autotypenumbers\": \"strict\", \"coloraxis\": {\"colorbar\": {\"outlinewidth\": 0, \"ticks\": \"\"}}, \"colorscale\": {\"diverging\": [[0, \"#8e0152\"], [0.1, \"#c51b7d\"], [0.2, \"#de77ae\"], [0.3, \"#f1b6da\"], [0.4, \"#fde0ef\"], [0.5, \"#f7f7f7\"], [0.6, \"#e6f5d0\"], [0.7, \"#b8e186\"], [0.8, \"#7fbc41\"], [0.9, \"#4d9221\"], [1, \"#276419\"]], \"sequential\": [[0.0, \"#0d0887\"], [0.1111111111111111, \"#46039f\"], [0.2222222222222222, \"#7201a8\"], [0.3333333333333333, \"#9c179e\"], [0.4444444444444444, \"#bd3786\"], [0.5555555555555556, \"#d8576b\"], [0.6666666666666666, \"#ed7953\"], [0.7777777777777778, \"#fb9f3a\"], [0.8888888888888888, \"#fdca26\"], [1.0, \"#f0f921\"]], \"sequentialminus\": [[0.0, \"#0d0887\"], [0.1111111111111111, \"#46039f\"], [0.2222222222222222, \"#7201a8\"], [0.3333333333333333, \"#9c179e\"], [0.4444444444444444, \"#bd3786\"], [0.5555555555555556, \"#d8576b\"], [0.6666666666666666, \"#ed7953\"], [0.7777777777777778, \"#fb9f3a\"], [0.8888888888888888, \"#fdca26\"], [1.0, \"#f0f921\"]]}, \"colorway\": [\"#636efa\", \"#EF553B\", \"#00cc96\", \"#ab63fa\", \"#FFA15A\", \"#19d3f3\", \"#FF6692\", \"#B6E880\", \"#FF97FF\", \"#FECB52\"], \"font\": {\"color\": \"#2a3f5f\"}, \"geo\": {\"bgcolor\": \"white\", \"lakecolor\": \"white\", \"landcolor\": \"#E5ECF6\", \"showlakes\": true, \"showland\": true, \"subunitcolor\": \"white\"}, \"hoverlabel\": {\"align\": \"left\"}, \"hovermode\": \"closest\", \"mapbox\": {\"style\": \"light\"}, \"paper_bgcolor\": \"white\", \"plot_bgcolor\": \"#E5ECF6\", \"polar\": {\"angularaxis\": {\"gridcolor\": \"white\", \"linecolor\": \"white\", \"ticks\": \"\"}, \"bgcolor\": \"#E5ECF6\", \"radialaxis\": {\"gridcolor\": \"white\", \"linecolor\": \"white\", \"ticks\": \"\"}}, \"scene\": {\"xaxis\": {\"backgroundcolor\": \"#E5ECF6\", \"gridcolor\": \"white\", \"gridwidth\": 2, \"linecolor\": \"white\", \"showbackground\": true, \"ticks\": \"\", \"zerolinecolor\": \"white\"}, \"yaxis\": {\"backgroundcolor\": \"#E5ECF6\", \"gridcolor\": \"white\", \"gridwidth\": 2, \"linecolor\": \"white\", \"showbackground\": true, \"ticks\": \"\", \"zerolinecolor\": \"white\"}, \"zaxis\": {\"backgroundcolor\": \"#E5ECF6\", \"gridcolor\": \"white\", \"gridwidth\": 2, \"linecolor\": \"white\", \"showbackground\": true, \"ticks\": \"\", \"zerolinecolor\": \"white\"}}, \"shapedefaults\": {\"line\": {\"color\": \"#2a3f5f\"}}, \"ternary\": {\"aaxis\": {\"gridcolor\": \"white\", \"linecolor\": \"white\", \"ticks\": \"\"}, \"baxis\": {\"gridcolor\": \"white\", \"linecolor\": \"white\", \"ticks\": \"\"}, \"bgcolor\": \"#E5ECF6\", \"caxis\": {\"gridcolor\": \"white\", \"linecolor\": \"white\", \"ticks\": \"\"}}, \"title\": {\"x\": 0.05}, \"xaxis\": {\"automargin\": true, \"gridcolor\": \"white\", \"linecolor\": \"white\", \"ticks\": \"\", \"title\": {\"standoff\": 15}, \"zerolinecolor\": \"white\", \"zerolinewidth\": 2}, \"yaxis\": {\"automargin\": true, \"gridcolor\": \"white\", \"linecolor\": \"white\", \"ticks\": \"\", \"title\": {\"standoff\": 15}, \"zerolinecolor\": \"white\", \"zerolinewidth\": 2}}}, \"xaxis\": {\"anchor\": \"y\", \"domain\": [0.0, 1.0], \"title\": {\"text\": \"fouls\"}}, \"yaxis\": {\"anchor\": \"x\", \"domain\": [0.0, 1.0], \"title\": {\"text\": \"miscontrols\"}}},                        {\"responsive\": true}                    ).then(function(){\n",
       "                            \n",
       "var gd = document.getElementById('9032ea48-e488-4741-8173-3da0f1c396e1');\n",
       "var x = new MutationObserver(function (mutations, observer) {{\n",
       "        var display = window.getComputedStyle(gd).display;\n",
       "        if (!display || display === 'none') {{\n",
       "            console.log([gd, 'removed!']);\n",
       "            Plotly.purge(gd);\n",
       "            observer.disconnect();\n",
       "        }}\n",
       "}});\n",
       "\n",
       "// Listen for the removal of the full notebook cells\n",
       "var notebookContainer = gd.closest('#notebook-container');\n",
       "if (notebookContainer) {{\n",
       "    x.observe(notebookContainer, {childList: true});\n",
       "}}\n",
       "\n",
       "// Listen for the clearing of the current output cell\n",
       "var outputEl = gd.closest('.output');\n",
       "if (outputEl) {{\n",
       "    x.observe(outputEl, {childList: true});\n",
       "}}\n",
       "\n",
       "                        })                };                });            </script>        </div>"
      ]
     },
     "metadata": {},
     "output_type": "display_data"
    }
   ],
   "source": [
    "fig = px.scatter(players, x=\"fouls\", y=\"miscontrols\", size='fouls', color=\"player\")\n",
    "fig.show()"
   ]
  },
  {
   "cell_type": "markdown",
   "id": "80a4a577",
   "metadata": {},
   "source": [
    "- Miscontrols and fouls help show a CDM's temparment, discipline and how often they make mistakes when under pressure for example. A CDM that makes less miscontrols and less fouls which is bound to lead to less bookings is obviously desirable.\n",
    "\n",
    "\n",
    "\n",
    "- The above graph shows Melanie Leupolz making an abnormally high amount of fouls compared to her peers (12 more than the second highest) while she also has a decently high number of miscontrols. Alanna Stephanie Kennedy has a high number of miscontrols while Jackie Groenen has a decently high number for both fouls and miscontrols.\n",
    "\n",
    "\n",
    "\n",
    "- Lia Walti and Christie Murray seem to have the lowest number for fouls and miscontrols with Katie Zelem and Keira Walsh following closely."
   ]
  },
  {
   "cell_type": "markdown",
   "id": "cec9fb59",
   "metadata": {},
   "source": [
    "## Conclusion"
   ]
  },
  {
   "cell_type": "markdown",
   "id": "8b31b260",
   "metadata": {},
   "source": [
    "Looking at the above graphs and analysis, the top 3 CDMs in the FA WSL would be the following:\n",
    "\n",
    "### - Keira Walsh\n",
    "\n",
    "- Walsh has obvious strengths in passing accuracy, total passes and being able to pop up with an occasional assist. She also has one of the best duel win rates out of her peers and has shown good discipline and temparement with the small number of fouls and miscontrols.\n",
    "\n",
    "- She could potentially do better in interceptions and recoveries but it is also worth noting those numbers can be lowered due to a potentially her team dominating the ball more. That being said, her dribbling success rate could also be better.\n",
    "\n",
    "- I would definitely consider signing Walsh if my team needed a CDM that could dictate the tempo of the game and win duels.\n",
    "\n",
    "\n",
    "\n",
    "\n",
    "### - Lia Walti\n",
    "\n",
    "- Walti has a similar profile to Keira Walsh. This can be seen by a high number of passes attempted and the second highest passing accuracy right after Walsh. Furthermore Walti shows excellent discipline and temparment with the lowest total miscontrols and fouls amongst her selected peers.\n",
    "\n",
    "- She also has a great dribble success rate while her duel success rate leaves a bit more to be desired.\n",
    "\n",
    "- While Walti completes a slightly lower amount of passes than Walsh, she more than makes up for it with her ability to dribble. Even though her duel success rate could be better, there is no question that Walti is a calming presence in the midfield which is crucial for a CDM.\n",
    "\n",
    "\n",
    "\n",
    "\n",
    "### - Katie Zelem\n",
    "\n",
    "- Katie Zelem is a bit of a different profile compared to Walti and Walsh. Zelem is more of an industrious mould of CDM that boasts a high number of total recoveries and interceptions per match compared to the other two. She also has a great dribble success rate to go with that and not to mention good discipline with one of the lowest total number of fouls and miscontrols\n",
    "\n",
    "- While she seems to get the occasional assist, her passing accuracy and duel sucess rate could be higher.\n",
    "\n",
    "- Zelem seems to be a great CDM whose main role is to break up opposition play, recycle possession and then make the safe pass to a more creative minded teammate."
   ]
  },
  {
   "cell_type": "markdown",
   "id": "5c4cef97",
   "metadata": {},
   "source": [
    "## Limitations of the study"
   ]
  },
  {
   "cell_type": "markdown",
   "id": "a2ca5326",
   "metadata": {},
   "source": [
    "- This study is missing important context in the form of domain knowledge of the teams the specific players play in and their style of play. As discussed elsewhere in this study for example, a team that dominatest the ball is less likely to have players with really high number of interceptions and recoveries. Having that knowledge would allow to evaluate the CDMs better as for example Angharad James is a massive outlier in the breaking up opposition play section with her making a really high number of interceptions and recoveries per game compared to everyone else while not featuring as brightly in the other graphs. Knowing the strength of her team and their playstyle would give important context to those numbers and would suggest whether James is actually that good at breaking up opposition play or whether she plays in a team that consistently gets dominated and has to defend that much more.\n",
    "\n",
    "\n",
    "\n",
    "\n",
    "- Player relative aggregated stats are a paid feature for statsbomb and therefore I was not able to get stats per 90 minutes played. The workaround for that was to use unique match IDs and use matches played as the metric but that was still not able to account for the fact that a player could have been subbed off mid-game and it would still count for a full match. Therefore having stats per 90 mins played would have been more superior. However, it can be reasonably inferred that the best CDMs in the league play most games barring injury and as a result play a similar amount of minutes.\n",
    "\n",
    "\n",
    "\n",
    "- This study does not capture the mental parts of the game as well as watching the actual matches could. For example, I have looked at the number of passes and passing accuracy. In this example, this study fails to capture what was actually a smart pass that has the potential of creating a goalscoring chance eventually versus what was actually just a pass for the sake of making a pass such as a sideways or backwards pass while not under pressure. This is why it is worth noting that these studies are helpful when studied alongisde actually watching full games."
   ]
  },
  {
   "cell_type": "code",
   "execution_count": null,
   "id": "ea689168",
   "metadata": {},
   "outputs": [],
   "source": []
  }
 ],
 "metadata": {
  "kernelspec": {
   "display_name": "Python 3",
   "language": "python",
   "name": "python3"
  },
  "language_info": {
   "codemirror_mode": {
    "name": "ipython",
    "version": 3
   },
   "file_extension": ".py",
   "mimetype": "text/x-python",
   "name": "python",
   "nbconvert_exporter": "python",
   "pygments_lexer": "ipython3",
   "version": "3.8.5"
  }
 },
 "nbformat": 4,
 "nbformat_minor": 5
}
